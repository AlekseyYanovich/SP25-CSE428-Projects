{
 "cells": [
  {
   "cell_type": "markdown",
   "id": "8459d4a9",
   "metadata": {},
   "source": [
    "## Run Higashi embedding"
   ]
  },
  {
   "cell_type": "code",
   "execution_count": 14,
   "id": "b6b9a0ac",
   "metadata": {},
   "outputs": [],
   "source": [
    "from higashi.Higashi_wrapper import *\n",
    "# Set the path to the configuration file, change it accordingly\n",
    "config = \"/storage/ireneky/ireneky_cse428/config/config_brain.JSON\""
   ]
  },
  {
   "cell_type": "code",
   "execution_count": 15,
   "id": "14f5dbfa",
   "metadata": {},
   "outputs": [
    {
     "name": "stdout",
     "output_type": "stream",
     "text": [
      "generating start/end dict for chromosome\n",
      "extracting from data.txt\n",
      "First calculating how many lines are there\n",
      "There are 21291441 lines\n"
     ]
    },
    {
     "data": {
      "application/vnd.jupyter.widget-view+json": {
       "model_id": "baf4fcc98b31479e931748788316e1d2",
       "version_major": 2,
       "version_minor": 0
      },
      "text/plain": [
       " - Processing :   0%|          | 0/21291441 [00:00<?, ?it/s]"
      ]
     },
     "metadata": {},
     "output_type": "display_data"
    },
    {
     "name": "stdout",
     "output_type": "stream",
     "text": [
      "generating contact maps for baseline\n",
      "data loaded\n",
      "21291440 False\n"
     ]
    },
    {
     "data": {
      "application/vnd.jupyter.widget-view+json": {
       "model_id": "24425a9fc4b746bbb245fe13e0c3e376",
       "version_major": 2,
       "version_minor": 0
      },
      "text/plain": [
       "creating matrices tasks:   0%|          | 0/15 [00:00<?, ?it/s]"
      ]
     },
     "metadata": {},
     "output_type": "display_data"
    },
    {
     "name": "stdout",
     "output_type": "stream",
     "text": [
      "total_feats_size 259\n"
     ]
    },
    {
     "data": {
      "application/vnd.jupyter.widget-view+json": {
       "model_id": "b271c8a715464078b16769ec7c806591",
       "version_major": 2,
       "version_minor": 0
      },
      "text/plain": [
       "  0%|          | 0/15 [00:00<?, ?it/s]"
      ]
     },
     "metadata": {},
     "output_type": "display_data"
    },
    {
     "name": "stdout",
     "output_type": "stream",
     "text": [
      "cpu_num 40\n",
      "training on data from: ['chr1', 'chr10', 'chr11', 'chr12', 'chr13', 'chr14', 'chr2', 'chr3', 'chr4', 'chr5', 'chr6', 'chr7', 'chr8', 'chr9', 'chrX']\n",
      "total_sparsity_cell 0.3258552079150086\n",
      "contractive loss\n",
      "batch_size 512\n",
      "Node type num [399 391 262 245 241 241 250 365 321 314 304 300 291 259 250 343] [ 399  790 1052 1297 1538 1779 2029 2394 2715 3029 3333 3633 3924 4183\n",
      " 4433 4776]\n",
      "start making attribute\n"
     ]
    },
    {
     "data": {
      "application/vnd.jupyter.widget-view+json": {
       "model_id": "3cfbc8d29bd34a29b3d9ad6ae182a578",
       "version_major": 2,
       "version_minor": 0
      },
      "text/plain": [
       "  0%|          | 0/300 [00:00<?, ?it/s]"
      ]
     },
     "metadata": {},
     "output_type": "display_data"
    },
    {
     "name": "stdout",
     "output_type": "stream",
     "text": [
      "loss 0.28068462014198303 loss best 0.2813732922077179 epochs 299\n",
      "\n",
      "initializing data generator\n"
     ]
    },
    {
     "data": {
      "application/vnd.jupyter.widget-view+json": {
       "model_id": "4c450cf5be5944b0aaa3c939636fb3c2",
       "version_major": 2,
       "version_minor": 0
      },
      "text/plain": [
       "  0%|          | 0/15 [00:00<?, ?it/s]"
      ]
     },
     "metadata": {},
     "output_type": "display_data"
    },
    {
     "name": "stdout",
     "output_type": "stream",
     "text": [
      "initializing data generator\n"
     ]
    },
    {
     "data": {
      "application/vnd.jupyter.widget-view+json": {
       "model_id": "0b06d2ee54f24754931ad4836502bafc",
       "version_major": 2,
       "version_minor": 0
      },
      "text/plain": [
       "  0%|          | 0/15 [00:00<?, ?it/s]"
      ]
     },
     "metadata": {},
     "output_type": "display_data"
    }
   ],
   "source": [
    "# Initialize the Higashi instance\n",
    "higashi_model = Higashi(config)\n",
    "\n",
    "# Data processing (only needs to be run for once)\n",
    "higashi_model.process_data()\n",
    "higashi_model.prep_model()"
   ]
  },
  {
   "cell_type": "code",
   "execution_count": 16,
   "id": "b439fef3",
   "metadata": {},
   "outputs": [
    {
     "name": "stdout",
     "output_type": "stream",
     "text": [
      "First stage training\n",
      "[ Epoch 0 of 5 ]\n"
     ]
    },
    {
     "data": {
      "application/vnd.jupyter.widget-view+json": {
       "model_id": "1eee1d6d0bff468eb086dca21f43f3f1",
       "version_major": 2,
       "version_minor": 0
      },
      "text/plain": [
       " - (Training) :   0%|          | 0/1000 [00:00<?, ?it/s]"
      ]
     },
     "metadata": {},
     "output_type": "display_data"
    },
    {
     "name": "stdout",
     "output_type": "stream",
     "text": [
      "- (Train)   bce:  0.6993, mse:  0.5166,  acc: 45.586 %, pearson: 0.506, spearman: 0.356, elapse: 1001.118 s\n"
     ]
    },
    {
     "data": {
      "application/vnd.jupyter.widget-view+json": {
       "model_id": "d55aa89fec544ca7b3ee00990de617e4",
       "version_major": 2,
       "version_minor": 0
      },
      "text/plain": [
       "  - (Validation)   :   0%|          | 0/10 [00:00<?, ?it/s]"
      ]
     },
     "metadata": {},
     "output_type": "display_data"
    },
    {
     "name": "stdout",
     "output_type": "stream",
     "text": [
      "- (Valid) bce:  0.6708,  acc: 60.550 %,pearson: 0.668, spearman: 0.370,elapse: 0.959 s\n",
      "update_rate: 0.960219\t1.206997\tupdate_rate: 0.000000\t0.000000\tpair_ratio: 0.1\t\n",
      "[ Epoch 1 of 5 ]\n"
     ]
    },
    {
     "data": {
      "application/vnd.jupyter.widget-view+json": {
       "model_id": "c4453302145c4fd9b36ce1b99b37dd1d",
       "version_major": 2,
       "version_minor": 0
      },
      "text/plain": [
       " - (Training) :   0%|          | 0/1000 [00:00<?, ?it/s]"
      ]
     },
     "metadata": {},
     "output_type": "display_data"
    },
    {
     "name": "stdout",
     "output_type": "stream",
     "text": [
      "- (Train)   bce:  0.6559, mse:  0.4148,  acc: 59.386 %, pearson: 0.679, spearman: 0.373, elapse: 958.241 s\n"
     ]
    },
    {
     "data": {
      "application/vnd.jupyter.widget-view+json": {
       "model_id": "34ae7e58f8b848fe8aa7f3eca485b664",
       "version_major": 2,
       "version_minor": 0
      },
      "text/plain": [
       "  - (Validation)   :   0%|          | 0/10 [00:00<?, ?it/s]"
      ]
     },
     "metadata": {},
     "output_type": "display_data"
    },
    {
     "name": "stdout",
     "output_type": "stream",
     "text": [
      "- (Valid) bce:  0.6450,  acc: 61.595 %,pearson: 0.734, spearman: 0.383,elapse: 0.962 s\n",
      "update_rate: 1.408948\t30.202814\tpair_ratio: 0.2\t\n",
      "[ Epoch 2 of 5 ]\n"
     ]
    },
    {
     "data": {
      "application/vnd.jupyter.widget-view+json": {
       "model_id": "4030e4dfa4454af08cfe44f7dc36fff5",
       "version_major": 2,
       "version_minor": 0
      },
      "text/plain": [
       " - (Training) :   0%|          | 0/1000 [00:00<?, ?it/s]"
      ]
     },
     "metadata": {},
     "output_type": "display_data"
    },
    {
     "name": "stdout",
     "output_type": "stream",
     "text": [
      "- (Train)   bce:  0.6454, mse:  0.3736,  acc: 58.599 %, pearson: 0.715, spearman: 0.383, elapse: 989.425 s\n"
     ]
    },
    {
     "data": {
      "application/vnd.jupyter.widget-view+json": {
       "model_id": "eaef0d60a69d4834b5fe15b048abd964",
       "version_major": 2,
       "version_minor": 0
      },
      "text/plain": [
       "  - (Validation)   :   0%|          | 0/10 [00:00<?, ?it/s]"
      ]
     },
     "metadata": {},
     "output_type": "display_data"
    },
    {
     "name": "stdout",
     "output_type": "stream",
     "text": [
      "- (Valid) bce:  0.6431,  acc: 61.807 %,pearson: 0.746, spearman: 0.382,elapse: 0.945 s\n",
      "update_rate: 0.167519\t1.197398\tpair_ratio: 0.3\t\n",
      "[ Epoch 3 of 5 ]\n"
     ]
    },
    {
     "data": {
      "application/vnd.jupyter.widget-view+json": {
       "model_id": "bfe4e06022594887be09a4698592acfd",
       "version_major": 2,
       "version_minor": 0
      },
      "text/plain": [
       " - (Training) :   0%|          | 0/1000 [00:00<?, ?it/s]"
      ]
     },
     "metadata": {},
     "output_type": "display_data"
    },
    {
     "name": "stdout",
     "output_type": "stream",
     "text": [
      "- (Train)   bce:  0.6441, mse:  0.3577,  acc: 56.255 %, pearson: 0.709, spearman: 0.374, elapse: 966.611 s\n"
     ]
    },
    {
     "data": {
      "application/vnd.jupyter.widget-view+json": {
       "model_id": "54e41c7763454dc2adb5bd3cc9eff7c8",
       "version_major": 2,
       "version_minor": 0
      },
      "text/plain": [
       "  - (Validation)   :   0%|          | 0/10 [00:00<?, ?it/s]"
      ]
     },
     "metadata": {},
     "output_type": "display_data"
    },
    {
     "name": "stdout",
     "output_type": "stream",
     "text": [
      "- (Valid) bce:  0.6466,  acc: 60.996 %,pearson: 0.734, spearman: 0.361,elapse: 0.968 s\n",
      "update_rate: 0.065830\t0.651538\tpair_ratio: 0.4\t\n",
      "[ Epoch 4 of 5 ]\n"
     ]
    },
    {
     "data": {
      "application/vnd.jupyter.widget-view+json": {
       "model_id": "a7985133cbb54704b77dba1e48e81bbb",
       "version_major": 2,
       "version_minor": 0
      },
      "text/plain": [
       " - (Training) :   0%|          | 0/1000 [00:00<?, ?it/s]"
      ]
     },
     "metadata": {},
     "output_type": "display_data"
    },
    {
     "name": "stdout",
     "output_type": "stream",
     "text": [
      "- (Train)   bce:  0.6439, mse:  0.3489,  acc: 53.299 %, pearson: 0.719, spearman: 0.372, elapse: 1136.990 s\n"
     ]
    },
    {
     "data": {
      "application/vnd.jupyter.widget-view+json": {
       "model_id": "0cb784df6b3947b0b6449323c508f2c4",
       "version_major": 2,
       "version_minor": 0
      },
      "text/plain": [
       "  - (Validation)   :   0%|          | 0/10 [00:00<?, ?it/s]"
      ]
     },
     "metadata": {},
     "output_type": "display_data"
    },
    {
     "name": "stdout",
     "output_type": "stream",
     "text": [
      "- (Valid) bce:  0.6442,  acc: 57.751 %,pearson: 0.744, spearman: 0.387,elapse: 0.952 s\n",
      "update_rate: 0.085150\t0.236517\tpair_ratio: 0.5\t\n"
     ]
    },
    {
     "data": {
      "application/vnd.jupyter.widget-view+json": {
       "model_id": "d9208f0747084de69933007d88857a9b",
       "version_major": 2,
       "version_minor": 0
      },
      "text/plain": [
       "  - (Validation)   :   0%|          | 0/10 [00:00<?, ?it/s]"
      ]
     },
     "metadata": {},
     "output_type": "display_data"
    },
    {
     "name": "stdout",
     "output_type": "stream",
     "text": [
      "  - (Validation-hyper) bce:  0.7584,  acc: 52.325 %, auc: 0.780, aupr: 0.382,elapse: 4.488 s\n"
     ]
    }
   ],
   "source": [
    "higashi_model.train_for_embeddings()\n"
   ]
  },
  {
   "cell_type": "code",
   "execution_count": 17,
   "id": "9509c461",
   "metadata": {},
   "outputs": [
    {
     "name": "stdout",
     "output_type": "stream",
     "text": [
      "(399, 128)\n"
     ]
    },
    {
     "data": {
      "image/png": "[encoded data removed]",
      "text/plain": [
       "<Figure size 1400x500 with 2 Axes>"
      ]
     },
     "metadata": {},
     "output_type": "display_data"
    }
   ],
   "source": [
    "# Visualize embedding results\n",
    "cell_embeddings = higashi_model.fetch_cell_embeddings()\n",
    "print (cell_embeddings.shape)\n",
    "\n",
    "from umap import UMAP\n",
    "import seaborn as sns\n",
    "import matplotlib.pyplot as plt\n",
    "\n",
    "vec = UMAP(n_components=2, n_neighbors=25, random_state=0).fit_transform(cell_embeddings)\n",
    "cell_type = higashi_model.label_info['cell type']\n",
    "batch = higashi_model.label_info['batch']\n",
    "fig = plt.figure(figsize=(14, 5))\n",
    "ax = plt.subplot(1, 2, 1)\n",
    "sns.scatterplot(x=vec[:, 0], y=vec[:, 1], hue=cell_type, ax=ax, s=5, alpha=0.8, linewidth=0, hue_order=['Ex1','Ex2','In1', 'Ast','Oli','In2'])\n",
    "handles, labels = ax.get_legend_handles_labels()\n",
    "labels, handles = zip(*sorted(zip(labels, handles), key=lambda t: t[0]))\n",
    "ax.legend(handles=handles, labels=labels, bbox_to_anchor=(1.05, 1), loc=2, borderaxespad=0., ncol=1)\n",
    "ax = plt.subplot(1, 2, 2)\n",
    "#sns.scatterplot(x=vec[:, 0], y=vec[:, 1], hue=batch, ax=ax, s=5, alpha=0.8, linewidth=0)\n",
    "#handles, labels = ax.get_legend_handles_labels()\n",
    "#labels, handles = zip(*sorted(zip(labels, handles), key=lambda t: t[0]))\n",
    "#ax.legend(handles=handles, labels=labels, bbox_to_anchor=(1.05, 1), loc=2, borderaxespad=0., ncol=1)\n",
    "plt.tight_layout()\n",
    "plt.show()"
   ]
  },
  {
   "cell_type": "markdown",
   "id": "1923c7ea",
   "metadata": {},
   "source": [
    "Try with 80 epochs\n",
    "\n",
    "- Takes 150mins+ to run"
   ]
  },
  {
   "cell_type": "code",
   "execution_count": null,
   "id": "08d4df6b",
   "metadata": {},
   "outputs": [
    {
     "name": "stdout",
     "output_type": "stream",
     "text": [
      "generating start/end dict for chromosome\n",
      "extracting from data.txt\n",
      "First calculating how many lines are there\n",
      "There are 21291441 lines\n"
     ]
    },
    {
     "data": {
      "application/vnd.jupyter.widget-view+json": {
       "model_id": "089e80132daa45579a1b70f06b2ad822",
       "version_major": 2,
       "version_minor": 0
      },
      "text/plain": [
       " - Processing :   0%|          | 0/21291441 [00:00<?, ?it/s]"
      ]
     },
     "metadata": {},
     "output_type": "display_data"
    },
    {
     "name": "stdout",
     "output_type": "stream",
     "text": [
      "generating contact maps for baseline\n",
      "data loaded\n",
      "21291440 False\n"
     ]
    },
    {
     "data": {
      "application/vnd.jupyter.widget-view+json": {
       "model_id": "68da7071218b4b7baac720db3711f5f1",
       "version_major": 2,
       "version_minor": 0
      },
      "text/plain": [
       "creating matrices tasks:   0%|          | 0/15 [00:00<?, ?it/s]"
      ]
     },
     "metadata": {},
     "output_type": "display_data"
    },
    {
     "name": "stdout",
     "output_type": "stream",
     "text": [
      "total_feats_size 259\n"
     ]
    },
    {
     "data": {
      "application/vnd.jupyter.widget-view+json": {
       "model_id": "c30333f26e3d4216a634a90594404667",
       "version_major": 2,
       "version_minor": 0
      },
      "text/plain": [
       "  0%|          | 0/15 [00:00<?, ?it/s]"
      ]
     },
     "metadata": {},
     "output_type": "display_data"
    },
    {
     "name": "stdout",
     "output_type": "stream",
     "text": [
      "cpu_num 40\n",
      "training on data from: ['chr1', 'chr10', 'chr11', 'chr12', 'chr13', 'chr14', 'chr2', 'chr3', 'chr4', 'chr5', 'chr6', 'chr7', 'chr8', 'chr9', 'chrX']\n",
      "total_sparsity_cell 0.3258552079150086\n",
      "contractive loss\n",
      "batch_size 512\n",
      "Node type num [399 391 262 245 241 241 250 365 321 314 304 300 291 259 250 343] [ 399  790 1052 1297 1538 1779 2029 2394 2715 3029 3333 3633 3924 4183\n",
      " 4433 4776]\n",
      "start making attribute\n"
     ]
    },
    {
     "data": {
      "application/vnd.jupyter.widget-view+json": {
       "model_id": "e21a2eaa355b4a578bf72b6428abebb2",
       "version_major": 2,
       "version_minor": 0
      },
      "text/plain": [
       "  0%|          | 0/300 [00:00<?, ?it/s]"
      ]
     },
     "metadata": {},
     "output_type": "display_data"
    },
    {
     "name": "stdout",
     "output_type": "stream",
     "text": [
      "loss 0.30233773589134216 loss best 0.2998274862766266 epochs 268\n",
      "\n",
      "initializing data generator\n"
     ]
    },
    {
     "data": {
      "application/vnd.jupyter.widget-view+json": {
       "model_id": "e557308e0b284f6598a5911c9b743bd0",
       "version_major": 2,
       "version_minor": 0
      },
      "text/plain": [
       "  0%|          | 0/15 [00:00<?, ?it/s]"
      ]
     },
     "metadata": {},
     "output_type": "display_data"
    },
    {
     "name": "stdout",
     "output_type": "stream",
     "text": [
      "initializing data generator\n"
     ]
    },
    {
     "data": {
      "application/vnd.jupyter.widget-view+json": {
       "model_id": "486c4d6004984ed1b98edeec138371da",
       "version_major": 2,
       "version_minor": 0
      },
      "text/plain": [
       "  0%|          | 0/15 [00:00<?, ?it/s]"
      ]
     },
     "metadata": {},
     "output_type": "display_data"
    },
    {
     "name": "stdout",
     "output_type": "stream",
     "text": [
      "First stage training\n",
      "[ Epoch 0 of 80 ]\n"
     ]
    },
    {
     "data": {
      "application/vnd.jupyter.widget-view+json": {
       "model_id": "14d1b2030a1744e695b61272e5039a06",
       "version_major": 2,
       "version_minor": 0
      },
      "text/plain": [
       " - (Training) :   0%|          | 0/1000 [00:00<?, ?it/s]"
      ]
     },
     "metadata": {},
     "output_type": "display_data"
    },
    {
     "name": "stdout",
     "output_type": "stream",
     "text": [
      "- (Train)   bce:  0.6953, mse:  0.5539,  acc: 31.961 %, pearson: 0.452, spearman: 0.284, elapse: 1150.048 s\n"
     ]
    },
    {
     "data": {
      "application/vnd.jupyter.widget-view+json": {
       "model_id": "b9aecff2cbb149ae88da170b6c9431ff",
       "version_major": 2,
       "version_minor": 0
      },
      "text/plain": [
       "  - (Validation)   :   0%|          | 0/10 [00:00<?, ?it/s]"
      ]
     },
     "metadata": {},
     "output_type": "display_data"
    },
    {
     "name": "stdout",
     "output_type": "stream",
     "text": [
      "- (Valid) bce:  0.6662,  acc: 55.993 %,pearson: 0.732, spearman: 0.451,elapse: 0.966 s\n",
      "update_rate: 0.927024\t1.236684\tupdate_rate: 0.000000\t0.000000\tpair_ratio: 0.1\t\n",
      "[ Epoch 1 of 80 ]\n"
     ]
    },
    {
     "data": {
      "application/vnd.jupyter.widget-view+json": {
       "model_id": "a85cc0925fcf43b8b3c9f1f9f209584f",
       "version_major": 2,
       "version_minor": 0
      },
      "text/plain": [
       " - (Training) :   0%|          | 0/1000 [00:00<?, ?it/s]"
      ]
     },
     "metadata": {},
     "output_type": "display_data"
    },
    {
     "name": "stdout",
     "output_type": "stream",
     "text": [
      "- (Train)   bce:  0.6548, mse:  0.4350,  acc: 54.538 %, pearson: 0.686, spearman: 0.432, elapse: 1049.860 s\n"
     ]
    },
    {
     "data": {
      "application/vnd.jupyter.widget-view+json": {
       "model_id": "7f65c4c44ab7479ebc31455e9982c6d3",
       "version_major": 2,
       "version_minor": 0
      },
      "text/plain": [
       "  - (Validation)   :   0%|          | 0/10 [00:00<?, ?it/s]"
      ]
     },
     "metadata": {},
     "output_type": "display_data"
    },
    {
     "name": "stdout",
     "output_type": "stream",
     "text": [
      "- (Valid) bce:  0.6590,  acc: 63.053 %,pearson: 0.724, spearman: 0.484,elapse: 0.964 s\n",
      "update_rate: 1.353843\t39.736576\tpair_ratio: 0.2\t\n",
      "[ Epoch 2 of 80 ]\n"
     ]
    },
    {
     "data": {
      "application/vnd.jupyter.widget-view+json": {
       "model_id": "52ccf61165e84ddcb6f4f390222884d4",
       "version_major": 2,
       "version_minor": 0
      },
      "text/plain": [
       " - (Training) :   0%|          | 0/1000 [00:00<?, ?it/s]"
      ]
     },
     "metadata": {},
     "output_type": "display_data"
    },
    {
     "name": "stdout",
     "output_type": "stream",
     "text": [
      "- (Train)   bce:  0.6464, mse:  0.3592,  acc: 50.815 %, pearson: 0.727, spearman: 0.459, elapse: 1083.887 s\n"
     ]
    },
    {
     "data": {
      "application/vnd.jupyter.widget-view+json": {
       "model_id": "c7c1ab6e8a1f43609f8f25ccaffed754",
       "version_major": 2,
       "version_minor": 0
      },
      "text/plain": [
       "  - (Validation)   :   0%|          | 0/10 [00:00<?, ?it/s]"
      ]
     },
     "metadata": {},
     "output_type": "display_data"
    },
    {
     "name": "stdout",
     "output_type": "stream",
     "text": [
      "- (Valid) bce:  0.6375,  acc: 59.287 %,pearson: 0.758, spearman: 0.527,elapse: 0.948 s\n",
      "update_rate: 0.268923\t0.941723\tpair_ratio: 0.3\t\n",
      "[ Epoch 3 of 80 ]\n"
     ]
    },
    {
     "data": {
      "application/vnd.jupyter.widget-view+json": {
       "model_id": "ee5695d64bbc4270b4255612eb5b21cd",
       "version_major": 2,
       "version_minor": 0
      },
      "text/plain": [
       " - (Training) :   0%|          | 0/1000 [00:00<?, ?it/s]"
      ]
     },
     "metadata": {},
     "output_type": "display_data"
    },
    {
     "name": "stdout",
     "output_type": "stream",
     "text": [
      "- (Train)   bce:  0.6451, mse:  0.3265,  acc: 44.559 %, pearson: 0.743, spearman: 0.488, elapse: 960.680 s\n"
     ]
    },
    {
     "data": {
      "application/vnd.jupyter.widget-view+json": {
       "model_id": "2a2b51e598484553ba9db0f618d888d9",
       "version_major": 2,
       "version_minor": 0
      },
      "text/plain": [
       "  - (Validation)   :   0%|          | 0/10 [00:00<?, ?it/s]"
      ]
     },
     "metadata": {},
     "output_type": "display_data"
    },
    {
     "name": "stdout",
     "output_type": "stream",
     "text": [
      "- (Valid) bce:  0.6600,  acc: 47.822 %,pearson: 0.735, spearman: 0.539,elapse: 0.953 s\n",
      "update_rate: 0.124392\t0.255287\tpair_ratio: 0.4\t\n",
      "[ Epoch 4 of 80 ]\n"
     ]
    },
    {
     "data": {
      "application/vnd.jupyter.widget-view+json": {
       "model_id": "01663a2209f44f9ca97d0aa43fdb8cbb",
       "version_major": 2,
       "version_minor": 0
      },
      "text/plain": [
       " - (Training) :   0%|          | 0/1000 [00:00<?, ?it/s]"
      ]
     },
     "metadata": {},
     "output_type": "display_data"
    },
    {
     "name": "stdout",
     "output_type": "stream",
     "text": [
      "- (Train)   bce:  0.6435, mse:  0.3090,  acc: 41.960 %, pearson: 0.745, spearman: 0.499, elapse: 1014.765 s\n"
     ]
    },
    {
     "data": {
      "application/vnd.jupyter.widget-view+json": {
       "model_id": "374e3bba84f348acb0f8782d2cf807bb",
       "version_major": 2,
       "version_minor": 0
      },
      "text/plain": [
       "  - (Validation)   :   0%|          | 0/10 [00:00<?, ?it/s]"
      ]
     },
     "metadata": {},
     "output_type": "display_data"
    },
    {
     "name": "stdout",
     "output_type": "stream",
     "text": [
      "- (Valid) bce:  0.6514,  acc: 51.878 %,pearson: 0.737, spearman: 0.528,elapse: 0.958 s\n",
      "update_rate: 0.203173\t0.328990\tpair_ratio: 0.5\t\n",
      "[ Epoch 5 of 80 ]\n"
     ]
    },
    {
     "data": {
      "application/vnd.jupyter.widget-view+json": {
       "model_id": "34fba93036b44f8aa24e196d6cb99c1e",
       "version_major": 2,
       "version_minor": 0
      },
      "text/plain": [
       " - (Training) :   0%|          | 0/1000 [00:00<?, ?it/s]"
      ]
     },
     "metadata": {},
     "output_type": "display_data"
    },
    {
     "name": "stdout",
     "output_type": "stream",
     "text": [
      "- (Train)   bce:  0.6418, mse:  0.2996,  acc: 41.941 %, pearson: 0.758, spearman: 0.501, elapse: 953.014 s\n"
     ]
    },
    {
     "data": {
      "application/vnd.jupyter.widget-view+json": {
       "model_id": "1a86e0ae8d6741b28e32a2efa5a42ddf",
       "version_major": 2,
       "version_minor": 0
      },
      "text/plain": [
       "  - (Validation)   :   0%|          | 0/10 [00:00<?, ?it/s]"
      ]
     },
     "metadata": {},
     "output_type": "display_data"
    },
    {
     "name": "stdout",
     "output_type": "stream",
     "text": [
      "- (Valid) bce:  0.6429,  acc: 46.465 %,pearson: 0.770, spearman: 0.533,elapse: 0.953 s\n",
      "update_rate: 0.129118\t0.208149\t\n",
      "[ Epoch 6 of 80 ]\n"
     ]
    },
    {
     "data": {
      "application/vnd.jupyter.widget-view+json": {
       "model_id": "551b0869dcf148559b04c39355d59f5f",
       "version_major": 2,
       "version_minor": 0
      },
      "text/plain": [
       " - (Training) :   0%|          | 0/1000 [00:00<?, ?it/s]"
      ]
     },
     "metadata": {},
     "output_type": "display_data"
    },
    {
     "name": "stdout",
     "output_type": "stream",
     "text": [
      "- (Train)   bce:  0.6425, mse:  0.2970,  acc: 40.824 %, pearson: 0.761, spearman: 0.502, elapse: 1054.144 s\n"
     ]
    },
    {
     "data": {
      "application/vnd.jupyter.widget-view+json": {
       "model_id": "0c8f51e1b44a4caeb95ffa3e7db9431a",
       "version_major": 2,
       "version_minor": 0
      },
      "text/plain": [
       "  - (Validation)   :   0%|          | 0/10 [00:00<?, ?it/s]"
      ]
     },
     "metadata": {},
     "output_type": "display_data"
    },
    {
     "name": "stdout",
     "output_type": "stream",
     "text": [
      "- (Valid) bce:  0.6365,  acc: 45.173 %,pearson: 0.791, spearman: 0.513,elapse: 1.193 s\n",
      "update_rate: 0.051165\t0.124507\t\n",
      "[ Epoch 7 of 80 ]\n"
     ]
    },
    {
     "data": {
      "application/vnd.jupyter.widget-view+json": {
       "model_id": "61c43f2b40d541cf9f0a6b4379f985a2",
       "version_major": 2,
       "version_minor": 0
      },
      "text/plain": [
       " - (Training) :   0%|          | 0/1000 [00:00<?, ?it/s]"
      ]
     },
     "metadata": {},
     "output_type": "display_data"
    },
    {
     "name": "stdout",
     "output_type": "stream",
     "text": [
      "- (Train)   bce:  0.6417, mse:  0.2921,  acc: 42.480 %, pearson: 0.763, spearman: 0.505, elapse: 950.877 s\n"
     ]
    },
    {
     "data": {
      "application/vnd.jupyter.widget-view+json": {
       "model_id": "f46832924668478193f549904194c6ae",
       "version_major": 2,
       "version_minor": 0
      },
      "text/plain": [
       "  - (Validation)   :   0%|          | 0/10 [00:00<?, ?it/s]"
      ]
     },
     "metadata": {},
     "output_type": "display_data"
    },
    {
     "name": "stdout",
     "output_type": "stream",
     "text": [
      "- (Valid) bce:  0.6502,  acc: 49.215 %,pearson: 0.791, spearman: 0.532,elapse: 1.020 s\n",
      "update_rate: 0.035886\t0.056005\t\n",
      "[ Epoch 8 of 80 ]\n"
     ]
    },
    {
     "data": {
      "application/vnd.jupyter.widget-view+json": {
       "model_id": "7e4acfed1cfd4a60985169bcb9cb9f12",
       "version_major": 2,
       "version_minor": 0
      },
      "text/plain": [
       " - (Training) :   0%|          | 0/1000 [00:00<?, ?it/s]"
      ]
     },
     "metadata": {},
     "output_type": "display_data"
    },
    {
     "name": "stdout",
     "output_type": "stream",
     "text": [
      "- (Train)   bce:  0.6417, mse:  0.2903,  acc: 40.179 %, pearson: 0.770, spearman: 0.500, elapse: 862.221 s\n"
     ]
    },
    {
     "data": {
      "application/vnd.jupyter.widget-view+json": {
       "model_id": "05c67de5e8454761bdf85a121f79152a",
       "version_major": 2,
       "version_minor": 0
      },
      "text/plain": [
       "  - (Validation)   :   0%|          | 0/10 [00:00<?, ?it/s]"
      ]
     },
     "metadata": {},
     "output_type": "display_data"
    },
    {
     "name": "stdout",
     "output_type": "stream",
     "text": [
      "- (Valid) bce:  0.6580,  acc: 44.131 %,pearson: 0.780, spearman: 0.531,elapse: 0.966 s\n",
      "update_rate: 0.013933\t0.058755\t\n",
      "[ Epoch 9 of 80 ]\n"
     ]
    },
    {
     "data": {
      "application/vnd.jupyter.widget-view+json": {
       "model_id": "418cd4a1e8ee4a3d9a83b41ea528a229",
       "version_major": 2,
       "version_minor": 0
      },
      "text/plain": [
       " - (Training) :   0%|          | 0/1000 [00:00<?, ?it/s]"
      ]
     },
     "metadata": {},
     "output_type": "display_data"
    },
    {
     "name": "stdout",
     "output_type": "stream",
     "text": [
      "- (Train)   bce:  0.6407, mse:  0.2870,  acc: 42.407 %, pearson: 0.770, spearman: 0.504, elapse: 957.712 s\n"
     ]
    },
    {
     "data": {
      "application/vnd.jupyter.widget-view+json": {
       "model_id": "20a54ca508a5462f8228743ea3f37150",
       "version_major": 2,
       "version_minor": 0
      },
      "text/plain": [
       "  - (Validation)   :   0%|          | 0/10 [00:00<?, ?it/s]"
      ]
     },
     "metadata": {},
     "output_type": "display_data"
    },
    {
     "name": "stdout",
     "output_type": "stream",
     "text": [
      "- (Valid) bce:  0.6331,  acc: 55.550 %,pearson: 0.789, spearman: 0.522,elapse: 0.958 s\n",
      "update_rate: 0.019421\t0.044180\t\n",
      "[ Epoch 10 of 80 ]\n"
     ]
    },
    {
     "data": {
      "application/vnd.jupyter.widget-view+json": {
       "model_id": "6d28c01604984431a7f0930a4927d052",
       "version_major": 2,
       "version_minor": 0
      },
      "text/plain": [
       " - (Training) :   0%|          | 0/1000 [00:00<?, ?it/s]"
      ]
     },
     "metadata": {},
     "output_type": "display_data"
    },
    {
     "name": "stdout",
     "output_type": "stream",
     "text": [
      "- (Train)   bce:  0.6412, mse:  0.2846,  acc: 42.817 %, pearson: 0.771, spearman: 0.503, elapse: 948.941 s\n"
     ]
    },
    {
     "data": {
      "application/vnd.jupyter.widget-view+json": {
       "model_id": "e76041deb74140c58b0ed10096141ff8",
       "version_major": 2,
       "version_minor": 0
      },
      "text/plain": [
       "  - (Validation)   :   0%|          | 0/10 [00:00<?, ?it/s]"
      ]
     },
     "metadata": {},
     "output_type": "display_data"
    },
    {
     "name": "stdout",
     "output_type": "stream",
     "text": [
      "- (Valid) bce:  0.6392,  acc: 55.482 %,pearson: 0.789, spearman: 0.525,elapse: 0.965 s\n",
      "update_rate: 0.011283\t0.057355\t\n",
      "[ Epoch 11 of 80 ]\n"
     ]
    },
    {
     "data": {
      "application/vnd.jupyter.widget-view+json": {
       "model_id": "3b401b02ba2046e9884fc213567d7cd5",
       "version_major": 2,
       "version_minor": 0
      },
      "text/plain": [
       " - (Training) :   0%|          | 0/1000 [00:00<?, ?it/s]"
      ]
     },
     "metadata": {},
     "output_type": "display_data"
    },
    {
     "name": "stdout",
     "output_type": "stream",
     "text": [
      "- (Train)   bce:  0.6396, mse:  0.2811,  acc: 45.589 %, pearson: 0.773, spearman: 0.510, elapse: 937.009 s\n"
     ]
    },
    {
     "data": {
      "application/vnd.jupyter.widget-view+json": {
       "model_id": "ece4db9a4c504aa591fcc1b950bddf65",
       "version_major": 2,
       "version_minor": 0
      },
      "text/plain": [
       "  - (Validation)   :   0%|          | 0/10 [00:00<?, ?it/s]"
      ]
     },
     "metadata": {},
     "output_type": "display_data"
    },
    {
     "name": "stdout",
     "output_type": "stream",
     "text": [
      "- (Valid) bce:  0.6289,  acc: 56.735 %,pearson: 0.774, spearman: 0.537,elapse: 1.011 s\n",
      "update_rate: 0.010736\t0.056464\t\n",
      "[ Epoch 12 of 80 ]\n"
     ]
    },
    {
     "data": {
      "application/vnd.jupyter.widget-view+json": {
       "model_id": "99b860ce074f4f019a7239d8148adccb",
       "version_major": 2,
       "version_minor": 0
      },
      "text/plain": [
       " - (Training) :   0%|          | 0/1000 [00:00<?, ?it/s]"
      ]
     },
     "metadata": {},
     "output_type": "display_data"
    },
    {
     "name": "stdout",
     "output_type": "stream",
     "text": [
      "- (Train)   bce:  0.6386, mse:  0.2812,  acc: 44.272 %, pearson: 0.774, spearman: 0.505, elapse: 939.406 s\n"
     ]
    },
    {
     "data": {
      "application/vnd.jupyter.widget-view+json": {
       "model_id": "a979b2f1d16f4c89b9be23e57d8bbc02",
       "version_major": 2,
       "version_minor": 0
      },
      "text/plain": [
       "  - (Validation)   :   0%|          | 0/10 [00:00<?, ?it/s]"
      ]
     },
     "metadata": {},
     "output_type": "display_data"
    },
    {
     "name": "stdout",
     "output_type": "stream",
     "text": [
      "- (Valid) bce:  0.6395,  acc: 47.158 %,pearson: 0.813, spearman: 0.522,elapse: 0.964 s\n",
      "update_rate: 0.011685\t0.026884\t\n",
      "[ Epoch 13 of 80 ]\n"
     ]
    },
    {
     "data": {
      "application/vnd.jupyter.widget-view+json": {
       "model_id": "41081c3d82bd40d293152b2f4d68b896",
       "version_major": 2,
       "version_minor": 0
      },
      "text/plain": [
       " - (Training) :   0%|          | 0/1000 [00:00<?, ?it/s]"
      ]
     },
     "metadata": {},
     "output_type": "display_data"
    },
    {
     "name": "stdout",
     "output_type": "stream",
     "text": [
      "- (Train)   bce:  0.6408, mse:  0.2784,  acc: 41.802 %, pearson: 0.782, spearman: 0.500, elapse: 953.366 s\n"
     ]
    },
    {
     "data": {
      "application/vnd.jupyter.widget-view+json": {
       "model_id": "446be52b46ce4890ae3d6d0d4be312b0",
       "version_major": 2,
       "version_minor": 0
      },
      "text/plain": [
       "  - (Validation)   :   0%|          | 0/10 [00:00<?, ?it/s]"
      ]
     },
     "metadata": {},
     "output_type": "display_data"
    },
    {
     "name": "stdout",
     "output_type": "stream",
     "text": [
      "- (Valid) bce:  0.6453,  acc: 49.857 %,pearson: 0.779, spearman: 0.519,elapse: 0.975 s\n",
      "update_rate: 0.011656\t0.033983\t\n",
      "[ Epoch 14 of 80 ]\n"
     ]
    },
    {
     "data": {
      "application/vnd.jupyter.widget-view+json": {
       "model_id": "ae4b38db834e4802a69b9920443ec972",
       "version_major": 2,
       "version_minor": 0
      },
      "text/plain": [
       " - (Training) :   0%|          | 0/1000 [00:00<?, ?it/s]"
      ]
     },
     "metadata": {},
     "output_type": "display_data"
    },
    {
     "name": "stdout",
     "output_type": "stream",
     "text": [
      "- (Train)   bce:  0.6393, mse:  0.2773,  acc: 42.147 %, pearson: 0.780, spearman: 0.502, elapse: 864.993 s\n"
     ]
    },
    {
     "data": {
      "application/vnd.jupyter.widget-view+json": {
       "model_id": "c585d62c710f4442b6341f9a8b9418a3",
       "version_major": 2,
       "version_minor": 0
      },
      "text/plain": [
       "  - (Validation)   :   0%|          | 0/10 [00:00<?, ?it/s]"
      ]
     },
     "metadata": {},
     "output_type": "display_data"
    },
    {
     "name": "stdout",
     "output_type": "stream",
     "text": [
      "- (Valid) bce:  0.6492,  acc: 49.967 %,pearson: 0.782, spearman: 0.500,elapse: 0.991 s\n",
      "update_rate: 0.014057\t0.018033\t\n",
      "[ Epoch 15 of 80 ]\n"
     ]
    },
    {
     "data": {
      "application/vnd.jupyter.widget-view+json": {
       "model_id": "ed6b404823834e2e9e1b84cb2403cacd",
       "version_major": 2,
       "version_minor": 0
      },
      "text/plain": [
       " - (Training) :   0%|          | 0/1000 [00:00<?, ?it/s]"
      ]
     },
     "metadata": {},
     "output_type": "display_data"
    },
    {
     "name": "stdout",
     "output_type": "stream",
     "text": [
      "- (Train)   bce:  0.6397, mse:  0.2761,  acc: 40.780 %, pearson: 0.777, spearman: 0.497, elapse: 927.841 s\n"
     ]
    },
    {
     "data": {
      "application/vnd.jupyter.widget-view+json": {
       "model_id": "d4ea4ce7598c4d9bb1a4091c9915ab38",
       "version_major": 2,
       "version_minor": 0
      },
      "text/plain": [
       "  - (Validation)   :   0%|          | 0/10 [00:00<?, ?it/s]"
      ]
     },
     "metadata": {},
     "output_type": "display_data"
    },
    {
     "name": "stdout",
     "output_type": "stream",
     "text": [
      "- (Valid) bce:  0.6390,  acc: 50.934 %,pearson: 0.741, spearman: 0.526,elapse: 1.017 s\n",
      "update_rate: 0.013596\t0.026045\t\n",
      "[ Epoch 16 of 80 ]\n"
     ]
    },
    {
     "data": {
      "application/vnd.jupyter.widget-view+json": {
       "model_id": "7382c638cad34966a9b74261d9d05e8f",
       "version_major": 2,
       "version_minor": 0
      },
      "text/plain": [
       " - (Training) :   0%|          | 0/1000 [00:00<?, ?it/s]"
      ]
     },
     "metadata": {},
     "output_type": "display_data"
    },
    {
     "name": "stdout",
     "output_type": "stream",
     "text": [
      "- (Train)   bce:  0.6400, mse:  0.2741,  acc: 42.592 %, pearson: 0.781, spearman: 0.505, elapse: 905.480 s\n"
     ]
    },
    {
     "data": {
      "application/vnd.jupyter.widget-view+json": {
       "model_id": "0fd86a4dcca648148bd63bb9b4577d3c",
       "version_major": 2,
       "version_minor": 0
      },
      "text/plain": [
       "  - (Validation)   :   0%|          | 0/10 [00:00<?, ?it/s]"
      ]
     },
     "metadata": {},
     "output_type": "display_data"
    },
    {
     "name": "stdout",
     "output_type": "stream",
     "text": [
      "- (Valid) bce:  0.6431,  acc: 50.869 %,pearson: 0.788, spearman: 0.520,elapse: 1.337 s\n",
      "update_rate: 0.020592\t0.038151\t\n",
      "[ Epoch 17 of 80 ]\n"
     ]
    },
    {
     "data": {
      "application/vnd.jupyter.widget-view+json": {
       "model_id": "aac2bced7685489c9be4a4a3f2d6e07e",
       "version_major": 2,
       "version_minor": 0
      },
      "text/plain": [
       " - (Training) :   0%|          | 0/1000 [00:00<?, ?it/s]"
      ]
     },
     "metadata": {},
     "output_type": "display_data"
    },
    {
     "name": "stdout",
     "output_type": "stream",
     "text": [
      "- (Train)   bce:  0.6381, mse:  0.2730,  acc: 43.727 %, pearson: 0.778, spearman: 0.506, elapse: 869.730 s\n"
     ]
    },
    {
     "data": {
      "application/vnd.jupyter.widget-view+json": {
       "model_id": "88c3426d84224bbbbaff74cc2ffda19e",
       "version_major": 2,
       "version_minor": 0
      },
      "text/plain": [
       "  - (Validation)   :   0%|          | 0/10 [00:00<?, ?it/s]"
      ]
     },
     "metadata": {},
     "output_type": "display_data"
    },
    {
     "name": "stdout",
     "output_type": "stream",
     "text": [
      "- (Valid) bce:  0.6467,  acc: 50.804 %,pearson: 0.790, spearman: 0.530,elapse: 1.438 s\n",
      "update_rate: 0.011373\t0.020621\t\n",
      "[ Epoch 18 of 80 ]\n"
     ]
    },
    {
     "data": {
      "application/vnd.jupyter.widget-view+json": {
       "model_id": "a3ac47f1560845f78b1d402dfce98034",
       "version_major": 2,
       "version_minor": 0
      },
      "text/plain": [
       " - (Training) :   0%|          | 0/1000 [00:00<?, ?it/s]"
      ]
     },
     "metadata": {},
     "output_type": "display_data"
    },
    {
     "name": "stdout",
     "output_type": "stream",
     "text": [
      "- (Train)   bce:  0.6383, mse:  0.2724,  acc: 46.936 %, pearson: 0.787, spearman: 0.512, elapse: 892.326 s\n"
     ]
    },
    {
     "data": {
      "application/vnd.jupyter.widget-view+json": {
       "model_id": "f29ffeb2da8b4862884680d81e8267d3",
       "version_major": 2,
       "version_minor": 0
      },
      "text/plain": [
       "  - (Validation)   :   0%|          | 0/10 [00:00<?, ?it/s]"
      ]
     },
     "metadata": {},
     "output_type": "display_data"
    },
    {
     "name": "stdout",
     "output_type": "stream",
     "text": [
      "- (Valid) bce:  0.6383,  acc: 54.066 %,pearson: 0.795, spearman: 0.538,elapse: 0.949 s\n",
      "update_rate: 0.010028\t0.029637\t\n",
      "[ Epoch 19 of 80 ]\n"
     ]
    },
    {
     "data": {
      "application/vnd.jupyter.widget-view+json": {
       "model_id": "a77e2a9861c64a2c83c941121ce833fb",
       "version_major": 2,
       "version_minor": 0
      },
      "text/plain": [
       " - (Training) :   0%|          | 0/1000 [00:00<?, ?it/s]"
      ]
     },
     "metadata": {},
     "output_type": "display_data"
    },
    {
     "name": "stdout",
     "output_type": "stream",
     "text": [
      "- (Train)   bce:  0.6387, mse:  0.2695,  acc: 46.484 %, pearson: 0.785, spearman: 0.512, elapse: 922.881 s\n"
     ]
    },
    {
     "data": {
      "application/vnd.jupyter.widget-view+json": {
       "model_id": "876a636b963e4ba18e8e7d4a3bd6c012",
       "version_major": 2,
       "version_minor": 0
      },
      "text/plain": [
       "  - (Validation)   :   0%|          | 0/10 [00:00<?, ?it/s]"
      ]
     },
     "metadata": {},
     "output_type": "display_data"
    },
    {
     "name": "stdout",
     "output_type": "stream",
     "text": [
      "- (Valid) bce:  0.6353,  acc: 50.957 %,pearson: 0.765, spearman: 0.537,elapse: 0.968 s\n",
      "update_rate: 0.017958\t0.034721\t\n",
      "[ Epoch 20 of 80 ]\n"
     ]
    },
    {
     "data": {
      "application/vnd.jupyter.widget-view+json": {
       "model_id": "ff18cb61199942d4a90fe74c26010560",
       "version_major": 2,
       "version_minor": 0
      },
      "text/plain": [
       " - (Training) :   0%|          | 0/1000 [00:00<?, ?it/s]"
      ]
     },
     "metadata": {},
     "output_type": "display_data"
    },
    {
     "name": "stdout",
     "output_type": "stream",
     "text": [
      "- (Train)   bce:  0.6384, mse:  0.2693,  acc: 46.628 %, pearson: 0.788, spearman: 0.511, elapse: 833.690 s\n"
     ]
    },
    {
     "data": {
      "application/vnd.jupyter.widget-view+json": {
       "model_id": "cba40f1e720a4cad96721cf19525cf59",
       "version_major": 2,
       "version_minor": 0
      },
      "text/plain": [
       "  - (Validation)   :   0%|          | 0/10 [00:00<?, ?it/s]"
      ]
     },
     "metadata": {},
     "output_type": "display_data"
    },
    {
     "name": "stdout",
     "output_type": "stream",
     "text": [
      "- (Valid) bce:  0.6390,  acc: 54.925 %,pearson: 0.789, spearman: 0.532,elapse: 0.961 s\n",
      "update_rate: 0.012420\t0.016594\t\n",
      "[ Epoch 21 of 80 ]\n"
     ]
    },
    {
     "data": {
      "application/vnd.jupyter.widget-view+json": {
       "model_id": "ecc85693567c401fabe98386ea9d9666",
       "version_major": 2,
       "version_minor": 0
      },
      "text/plain": [
       " - (Training) :   0%|          | 0/1000 [00:00<?, ?it/s]"
      ]
     },
     "metadata": {},
     "output_type": "display_data"
    },
    {
     "name": "stdout",
     "output_type": "stream",
     "text": [
      "- (Train)   bce:  0.6396, mse:  0.2683,  acc: 47.391 %, pearson: 0.787, spearman: 0.510, elapse: 855.366 s\n"
     ]
    },
    {
     "data": {
      "application/vnd.jupyter.widget-view+json": {
       "model_id": "14bcc58dd5f64325a7eebebe60e207b8",
       "version_major": 2,
       "version_minor": 0
      },
      "text/plain": [
       "  - (Validation)   :   0%|          | 0/10 [00:00<?, ?it/s]"
      ]
     },
     "metadata": {},
     "output_type": "display_data"
    },
    {
     "name": "stdout",
     "output_type": "stream",
     "text": [
      "- (Valid) bce:  0.6446,  acc: 56.999 %,pearson: 0.784, spearman: 0.530,elapse: 0.955 s\n",
      "update_rate: 0.010284\t0.016700\t\n",
      "[ Epoch 22 of 80 ]\n"
     ]
    },
    {
     "data": {
      "application/vnd.jupyter.widget-view+json": {
       "model_id": "9ab52615c3d94e5cba64a850fae8e688",
       "version_major": 2,
       "version_minor": 0
      },
      "text/plain": [
       " - (Training) :   0%|          | 0/1000 [00:00<?, ?it/s]"
      ]
     },
     "metadata": {},
     "output_type": "display_data"
    },
    {
     "name": "stdout",
     "output_type": "stream",
     "text": [
      "- (Train)   bce:  0.6382, mse:  0.2678,  acc: 47.131 %, pearson: 0.786, spearman: 0.512, elapse: 804.591 s\n"
     ]
    },
    {
     "data": {
      "application/vnd.jupyter.widget-view+json": {
       "model_id": "2d8f58345feb45a58b59e8646400a342",
       "version_major": 2,
       "version_minor": 0
      },
      "text/plain": [
       "  - (Validation)   :   0%|          | 0/10 [00:00<?, ?it/s]"
      ]
     },
     "metadata": {},
     "output_type": "display_data"
    },
    {
     "name": "stdout",
     "output_type": "stream",
     "text": [
      "- (Valid) bce:  0.6434,  acc: 55.443 %,pearson: 0.794, spearman: 0.533,elapse: 0.948 s\n",
      "update_rate: 0.011598\t0.018897\t\n",
      "[ Epoch 23 of 80 ]\n"
     ]
    },
    {
     "data": {
      "application/vnd.jupyter.widget-view+json": {
       "model_id": "177c2f3b131c4fe495596ac6c75ef692",
       "version_major": 2,
       "version_minor": 0
      },
      "text/plain": [
       " - (Training) :   0%|          | 0/1000 [00:00<?, ?it/s]"
      ]
     },
     "metadata": {},
     "output_type": "display_data"
    },
    {
     "name": "stdout",
     "output_type": "stream",
     "text": [
      "- (Train)   bce:  0.6393, mse:  0.2663,  acc: 48.598 %, pearson: 0.786, spearman: 0.516, elapse: 891.745 s\n"
     ]
    },
    {
     "data": {
      "application/vnd.jupyter.widget-view+json": {
       "model_id": "1a144868d4e44ba196adb935ec92dc35",
       "version_major": 2,
       "version_minor": 0
      },
      "text/plain": [
       "  - (Validation)   :   0%|          | 0/10 [00:00<?, ?it/s]"
      ]
     },
     "metadata": {},
     "output_type": "display_data"
    },
    {
     "name": "stdout",
     "output_type": "stream",
     "text": [
      "- (Valid) bce:  0.6315,  acc: 56.660 %,pearson: 0.799, spearman: 0.533,elapse: 0.959 s\n",
      "update_rate: 0.012774\t0.028473\t\n",
      "[ Epoch 24 of 80 ]\n"
     ]
    },
    {
     "data": {
      "application/vnd.jupyter.widget-view+json": {
       "model_id": "3ff1a310d6ae40a38ffd90418ec0bc1a",
       "version_major": 2,
       "version_minor": 0
      },
      "text/plain": [
       " - (Training) :   0%|          | 0/1000 [00:00<?, ?it/s]"
      ]
     },
     "metadata": {},
     "output_type": "display_data"
    },
    {
     "name": "stdout",
     "output_type": "stream",
     "text": [
      "- (Train)   bce:  0.6387, mse:  0.2654,  acc: 49.188 %, pearson: 0.787, spearman: 0.517, elapse: 907.609 s\n"
     ]
    },
    {
     "data": {
      "application/vnd.jupyter.widget-view+json": {
       "model_id": "bd2d4563111b497d8fac930b52c3445d",
       "version_major": 2,
       "version_minor": 0
      },
      "text/plain": [
       "  - (Validation)   :   0%|          | 0/10 [00:00<?, ?it/s]"
      ]
     },
     "metadata": {},
     "output_type": "display_data"
    },
    {
     "name": "stdout",
     "output_type": "stream",
     "text": [
      "- (Valid) bce:  0.6429,  acc: 54.355 %,pearson: 0.785, spearman: 0.534,elapse: 1.021 s\n",
      "update_rate: 0.007848\t0.013593\t\n",
      "[ Epoch 25 of 80 ]\n"
     ]
    },
    {
     "data": {
      "application/vnd.jupyter.widget-view+json": {
       "model_id": "d6082fd0ef8b47c4962908d6b06ddeb3",
       "version_major": 2,
       "version_minor": 0
      },
      "text/plain": [
       " - (Training) :   0%|          | 0/1000 [00:00<?, ?it/s]"
      ]
     },
     "metadata": {},
     "output_type": "display_data"
    },
    {
     "name": "stderr",
     "output_type": "stream",
     "text": [
      "Process ForkProcess-720:\n",
      "Process ForkProcess-692:\n",
      "Process ForkProcess-691:\n",
      "Process ForkProcess-715:\n",
      "Process ForkProcess-708:\n",
      "Process ForkProcess-695:\n",
      "Process ForkProcess-644:\n",
      "Process ForkProcess-712:\n",
      "Process ForkProcess-653:\n",
      "Process ForkProcess-679:\n",
      "Process ForkProcess-666:\n",
      "Process ForkProcess-699:\n",
      "Process ForkProcess-719:\n",
      "Process ForkProcess-684:\n",
      "Process ForkProcess-705:\n",
      "Process ForkProcess-670:\n",
      "Process ForkProcess-668:\n",
      "Process ForkProcess-663:\n",
      "Process ForkProcess-703:\n",
      "Process ForkProcess-701:\n",
      "Process ForkProcess-696:\n",
      "Process ForkProcess-655:\n",
      "Process ForkProcess-700:\n",
      "Process ForkProcess-706:\n",
      "Process ForkProcess-683:\n",
      "Process ForkProcess-688:\n",
      "Process ForkProcess-709:\n",
      "Process ForkProcess-687:\n",
      "Process ForkProcess-649:\n",
      "Process ForkProcess-672:\n",
      "Process ForkProcess-667:\n",
      "Process ForkProcess-689:\n",
      "Process ForkProcess-718:\n",
      "Process ForkProcess-643:\n",
      "Process ForkProcess-680:\n",
      "Process ForkProcess-685:\n",
      "Process ForkProcess-650:\n",
      "Process ForkProcess-714:\n",
      "Process ForkProcess-673:\n",
      "Process ForkProcess-659:\n",
      "Process ForkProcess-652:\n",
      "Process ForkProcess-697:\n",
      "Process ForkProcess-702:\n",
      "Process ForkProcess-713:\n",
      "Process ForkProcess-661:\n",
      "Process ForkProcess-716:\n",
      "Process ForkProcess-671:\n",
      "Process ForkProcess-645:\n",
      "Process ForkProcess-693:\n",
      "Process ForkProcess-648:\n",
      "Process ForkProcess-647:\n",
      "Process ForkProcess-717:\n",
      "Process ForkProcess-677:\n",
      "Process ForkProcess-656:\n",
      "Process ForkProcess-660:\n",
      "Process ForkProcess-681:\n",
      "Process ForkProcess-654:\n",
      "Process ForkProcess-710:\n",
      "Process ForkProcess-674:\n",
      "Process ForkProcess-711:\n",
      "Process ForkProcess-646:\n",
      "Process ForkProcess-675:\n",
      "Traceback (most recent call last):\n",
      "Process ForkProcess-694:\n",
      "  File \"/storage/ireneky/HiCFoundation/miniconda3/envs/higashi/lib/python3.9/multiprocessing/process.py\", line 315, in _bootstrap\n",
      "    self.run()\n",
      "Process ForkProcess-704:\n",
      "Process ForkProcess-669:\n",
      "Traceback (most recent call last):\n",
      "Traceback (most recent call last):\n",
      "Process ForkProcess-678:\n",
      "Process ForkProcess-641:\n",
      "Process ForkProcess-707:\n",
      "Process ForkProcess-657:\n",
      "Process ForkProcess-642:\n",
      "Process ForkProcess-664:\n",
      "Traceback (most recent call last):\n",
      "  File \"/storage/ireneky/HiCFoundation/miniconda3/envs/higashi/lib/python3.9/multiprocessing/process.py\", line 315, in _bootstrap\n",
      "    self.run()\n",
      "Traceback (most recent call last):\n",
      "Traceback (most recent call last):\n",
      "Process ForkProcess-690:\n",
      "Process ForkProcess-662:\n",
      "Traceback (most recent call last):\n",
      "Process ForkProcess-658:\n",
      "Traceback (most recent call last):\n",
      "Traceback (most recent call last):\n",
      "Traceback (most recent call last):\n",
      "Process ForkProcess-665:\n",
      "Traceback (most recent call last):\n",
      "Process ForkProcess-676:\n",
      "Traceback (most recent call last):\n",
      "Traceback (most recent call last):\n",
      "Traceback (most recent call last):\n",
      "Traceback (most recent call last):\n",
      "Traceback (most recent call last):\n",
      "Process ForkProcess-698:\n",
      "Traceback (most recent call last):\n",
      "Traceback (most recent call last):\n",
      "Traceback (most recent call last):\n",
      "Traceback (most recent call last):\n",
      "Traceback (most recent call last):\n",
      "Process ForkProcess-682:\n",
      "Traceback (most recent call last):\n",
      "Traceback (most recent call last):\n",
      "Traceback (most recent call last):\n",
      "Traceback (most recent call last):\n",
      "Traceback (most recent call last):\n",
      "Traceback (most recent call last):\n",
      "Traceback (most recent call last):\n",
      "Traceback (most recent call last):\n",
      "Traceback (most recent call last):\n",
      "  File \"/storage/ireneky/HiCFoundation/miniconda3/envs/higashi/lib/python3.9/multiprocessing/process.py\", line 315, in _bootstrap\n",
      "    self.run()\n",
      "Traceback (most recent call last):\n",
      "Traceback (most recent call last):\n",
      "Traceback (most recent call last):\n",
      "Traceback (most recent call last):\n",
      "Traceback (most recent call last):\n",
      "  File \"/storage/ireneky/HiCFoundation/miniconda3/envs/higashi/lib/python3.9/multiprocessing/process.py\", line 315, in _bootstrap\n",
      "    self.run()\n",
      "Traceback (most recent call last):\n",
      "Traceback (most recent call last):\n",
      "  File \"/storage/ireneky/HiCFoundation/miniconda3/envs/higashi/lib/python3.9/multiprocessing/process.py\", line 315, in _bootstrap\n",
      "    self.run()\n",
      "Traceback (most recent call last):\n",
      "Traceback (most recent call last):\n",
      "  File \"/storage/ireneky/HiCFoundation/miniconda3/envs/higashi/lib/python3.9/multiprocessing/process.py\", line 315, in _bootstrap\n",
      "    self.run()\n",
      "Traceback (most recent call last):\n",
      "  File \"/storage/ireneky/HiCFoundation/miniconda3/envs/higashi/lib/python3.9/multiprocessing/process.py\", line 315, in _bootstrap\n",
      "    self.run()\n",
      "  File \"/storage/ireneky/HiCFoundation/miniconda3/envs/higashi/lib/python3.9/multiprocessing/process.py\", line 315, in _bootstrap\n",
      "    self.run()\n",
      "  File \"/storage/ireneky/HiCFoundation/miniconda3/envs/higashi/lib/python3.9/multiprocessing/process.py\", line 108, in run\n",
      "    self._target(*self._args, **self._kwargs)\n",
      "  File \"/storage/ireneky/HiCFoundation/miniconda3/envs/higashi/lib/python3.9/multiprocessing/process.py\", line 315, in _bootstrap\n",
      "    self.run()\n",
      "  File \"/storage/ireneky/HiCFoundation/miniconda3/envs/higashi/lib/python3.9/multiprocessing/process.py\", line 315, in _bootstrap\n",
      "    self.run()\n",
      "  File \"/storage/ireneky/HiCFoundation/miniconda3/envs/higashi/lib/python3.9/multiprocessing/process.py\", line 108, in run\n",
      "    self._target(*self._args, **self._kwargs)\n",
      "Traceback (most recent call last):\n",
      "Process ForkProcess-686:\n",
      "Traceback (most recent call last):\n",
      "Traceback (most recent call last):\n",
      "  File \"/storage/ireneky/HiCFoundation/miniconda3/envs/higashi/lib/python3.9/multiprocessing/process.py\", line 315, in _bootstrap\n",
      "    self.run()\n",
      "Traceback (most recent call last):\n",
      "  File \"/storage/ireneky/HiCFoundation/miniconda3/envs/higashi/lib/python3.9/multiprocessing/process.py\", line 315, in _bootstrap\n",
      "    self.run()\n",
      "  File \"/storage/ireneky/HiCFoundation/miniconda3/envs/higashi/lib/python3.9/multiprocessing/process.py\", line 315, in _bootstrap\n",
      "    self.run()\n",
      "Traceback (most recent call last):\n",
      "Traceback (most recent call last):\n",
      "Traceback (most recent call last):\n",
      "Traceback (most recent call last):\n",
      "Traceback (most recent call last):\n",
      "  File \"/storage/ireneky/HiCFoundation/miniconda3/envs/higashi/lib/python3.9/multiprocessing/process.py\", line 315, in _bootstrap\n",
      "    self.run()\n",
      "  File \"/storage/ireneky/HiCFoundation/miniconda3/envs/higashi/lib/python3.9/multiprocessing/process.py\", line 315, in _bootstrap\n",
      "    self.run()\n",
      "  File \"/storage/ireneky/HiCFoundation/miniconda3/envs/higashi/lib/python3.9/multiprocessing/process.py\", line 315, in _bootstrap\n",
      "    self.run()\n",
      "  File \"/storage/ireneky/HiCFoundation/miniconda3/envs/higashi/lib/python3.9/multiprocessing/process.py\", line 315, in _bootstrap\n",
      "    self.run()\n",
      "  File \"/storage/ireneky/HiCFoundation/miniconda3/envs/higashi/lib/python3.9/multiprocessing/process.py\", line 315, in _bootstrap\n",
      "    self.run()\n",
      "Traceback (most recent call last):\n",
      "  File \"/storage/ireneky/HiCFoundation/miniconda3/envs/higashi/lib/python3.9/concurrent/futures/process.py\", line 240, in _process_worker\n",
      "    call_item = call_queue.get(block=True)\n",
      "  File \"/storage/ireneky/HiCFoundation/miniconda3/envs/higashi/lib/python3.9/multiprocessing/process.py\", line 315, in _bootstrap\n",
      "    self.run()\n",
      "Traceback (most recent call last):\n",
      "Traceback (most recent call last):\n",
      "  File \"/storage/ireneky/HiCFoundation/miniconda3/envs/higashi/lib/python3.9/multiprocessing/process.py\", line 315, in _bootstrap\n",
      "    self.run()\n",
      "  File \"/storage/ireneky/HiCFoundation/miniconda3/envs/higashi/lib/python3.9/multiprocessing/process.py\", line 315, in _bootstrap\n",
      "    self.run()\n",
      "  File \"/storage/ireneky/HiCFoundation/miniconda3/envs/higashi/lib/python3.9/multiprocessing/process.py\", line 315, in _bootstrap\n",
      "    self.run()\n",
      "  File \"/storage/ireneky/HiCFoundation/miniconda3/envs/higashi/lib/python3.9/multiprocessing/process.py\", line 315, in _bootstrap\n",
      "    self.run()\n",
      "  File \"/storage/ireneky/HiCFoundation/miniconda3/envs/higashi/lib/python3.9/multiprocessing/process.py\", line 315, in _bootstrap\n",
      "    self.run()\n",
      "Traceback (most recent call last):\n",
      "Traceback (most recent call last):\n",
      "Traceback (most recent call last):\n",
      "Traceback (most recent call last):\n",
      "Traceback (most recent call last):\n",
      "  File \"/storage/ireneky/HiCFoundation/miniconda3/envs/higashi/lib/python3.9/multiprocessing/process.py\", line 315, in _bootstrap\n",
      "    self.run()\n",
      "Traceback (most recent call last):\n",
      "  File \"/storage/ireneky/HiCFoundation/miniconda3/envs/higashi/lib/python3.9/multiprocessing/process.py\", line 108, in run\n",
      "    self._target(*self._args, **self._kwargs)\n",
      "  File \"/storage/ireneky/HiCFoundation/miniconda3/envs/higashi/lib/python3.9/multiprocessing/process.py\", line 315, in _bootstrap\n",
      "    self.run()\n",
      "  File \"/storage/ireneky/HiCFoundation/miniconda3/envs/higashi/lib/python3.9/multiprocessing/queues.py\", line 102, in get\n",
      "    with self._rlock:\n",
      "  File \"/storage/ireneky/HiCFoundation/miniconda3/envs/higashi/lib/python3.9/multiprocessing/process.py\", line 315, in _bootstrap\n",
      "    self.run()\n",
      "  File \"/storage/ireneky/HiCFoundation/miniconda3/envs/higashi/lib/python3.9/concurrent/futures/process.py\", line 240, in _process_worker\n",
      "    call_item = call_queue.get(block=True)\n",
      "  File \"/storage/ireneky/HiCFoundation/miniconda3/envs/higashi/lib/python3.9/multiprocessing/process.py\", line 315, in _bootstrap\n",
      "    self.run()\n",
      "  File \"/storage/ireneky/HiCFoundation/miniconda3/envs/higashi/lib/python3.9/multiprocessing/process.py\", line 108, in run\n",
      "    self._target(*self._args, **self._kwargs)\n",
      "Traceback (most recent call last):\n",
      "Traceback (most recent call last):\n",
      "  File \"/storage/ireneky/HiCFoundation/miniconda3/envs/higashi/lib/python3.9/multiprocessing/process.py\", line 315, in _bootstrap\n",
      "    self.run()\n",
      "  File \"/storage/ireneky/HiCFoundation/miniconda3/envs/higashi/lib/python3.9/multiprocessing/process.py\", line 315, in _bootstrap\n",
      "    self.run()\n",
      "  File \"/storage/ireneky/HiCFoundation/miniconda3/envs/higashi/lib/python3.9/multiprocessing/process.py\", line 315, in _bootstrap\n",
      "    self.run()\n",
      "  File \"/storage/ireneky/HiCFoundation/miniconda3/envs/higashi/lib/python3.9/multiprocessing/process.py\", line 108, in run\n",
      "    self._target(*self._args, **self._kwargs)\n",
      "Traceback (most recent call last):\n",
      "  File \"/storage/ireneky/HiCFoundation/miniconda3/envs/higashi/lib/python3.9/multiprocessing/process.py\", line 108, in run\n",
      "    self._target(*self._args, **self._kwargs)\n",
      "Traceback (most recent call last):\n",
      "  File \"/storage/ireneky/HiCFoundation/miniconda3/envs/higashi/lib/python3.9/multiprocessing/process.py\", line 108, in run\n",
      "    self._target(*self._args, **self._kwargs)\n",
      "Traceback (most recent call last):\n",
      "  File \"/storage/ireneky/HiCFoundation/miniconda3/envs/higashi/lib/python3.9/multiprocessing/process.py\", line 108, in run\n",
      "    self._target(*self._args, **self._kwargs)\n",
      "Traceback (most recent call last):\n",
      "  File \"/storage/ireneky/HiCFoundation/miniconda3/envs/higashi/lib/python3.9/multiprocessing/process.py\", line 315, in _bootstrap\n",
      "    self.run()\n",
      "  File \"/storage/ireneky/HiCFoundation/miniconda3/envs/higashi/lib/python3.9/multiprocessing/process.py\", line 108, in run\n",
      "    self._target(*self._args, **self._kwargs)\n",
      "  File \"/storage/ireneky/HiCFoundation/miniconda3/envs/higashi/lib/python3.9/multiprocessing/process.py\", line 108, in run\n",
      "    self._target(*self._args, **self._kwargs)\n",
      "  File \"/storage/ireneky/HiCFoundation/miniconda3/envs/higashi/lib/python3.9/multiprocessing/process.py\", line 108, in run\n",
      "    self._target(*self._args, **self._kwargs)\n",
      "  File \"/storage/ireneky/HiCFoundation/miniconda3/envs/higashi/lib/python3.9/multiprocessing/queues.py\", line 102, in get\n",
      "    with self._rlock:\n",
      "  File \"/storage/ireneky/HiCFoundation/miniconda3/envs/higashi/lib/python3.9/multiprocessing/process.py\", line 108, in run\n",
      "    self._target(*self._args, **self._kwargs)\n",
      "  File \"/storage/ireneky/HiCFoundation/miniconda3/envs/higashi/lib/python3.9/multiprocessing/process.py\", line 108, in run\n",
      "    self._target(*self._args, **self._kwargs)\n",
      "  File \"/storage/ireneky/HiCFoundation/miniconda3/envs/higashi/lib/python3.9/multiprocessing/process.py\", line 315, in _bootstrap\n",
      "    self.run()\n",
      "  File \"/storage/ireneky/HiCFoundation/miniconda3/envs/higashi/lib/python3.9/multiprocessing/process.py\", line 315, in _bootstrap\n",
      "    self.run()\n",
      "  File \"/storage/ireneky/HiCFoundation/miniconda3/envs/higashi/lib/python3.9/multiprocessing/process.py\", line 315, in _bootstrap\n",
      "    self.run()\n",
      "  File \"/storage/ireneky/HiCFoundation/miniconda3/envs/higashi/lib/python3.9/multiprocessing/process.py\", line 315, in _bootstrap\n",
      "    self.run()\n",
      "  File \"/storage/ireneky/HiCFoundation/miniconda3/envs/higashi/lib/python3.9/multiprocessing/process.py\", line 315, in _bootstrap\n",
      "    self.run()\n",
      "  File \"/storage/ireneky/HiCFoundation/miniconda3/envs/higashi/lib/python3.9/multiprocessing/process.py\", line 315, in _bootstrap\n",
      "    self.run()\n",
      "  File \"/storage/ireneky/HiCFoundation/miniconda3/envs/higashi/lib/python3.9/multiprocessing/process.py\", line 315, in _bootstrap\n",
      "    self.run()\n",
      "  File \"/storage/ireneky/HiCFoundation/miniconda3/envs/higashi/lib/python3.9/multiprocessing/process.py\", line 315, in _bootstrap\n",
      "    self.run()\n",
      "  File \"/storage/ireneky/HiCFoundation/miniconda3/envs/higashi/lib/python3.9/multiprocessing/process.py\", line 315, in _bootstrap\n",
      "    self.run()\n",
      "Traceback (most recent call last):\n",
      "  File \"/storage/ireneky/HiCFoundation/miniconda3/envs/higashi/lib/python3.9/multiprocessing/process.py\", line 315, in _bootstrap\n",
      "    self.run()\n",
      "Traceback (most recent call last):\n",
      "  File \"/storage/ireneky/HiCFoundation/miniconda3/envs/higashi/lib/python3.9/multiprocessing/process.py\", line 108, in run\n",
      "    self._target(*self._args, **self._kwargs)\n",
      "  File \"/storage/ireneky/HiCFoundation/miniconda3/envs/higashi/lib/python3.9/multiprocessing/process.py\", line 108, in run\n",
      "    self._target(*self._args, **self._kwargs)\n",
      "Traceback (most recent call last):\n",
      "  File \"/storage/ireneky/HiCFoundation/miniconda3/envs/higashi/lib/python3.9/multiprocessing/process.py\", line 315, in _bootstrap\n",
      "    self.run()\n",
      "Traceback (most recent call last):\n",
      "  File \"/storage/ireneky/HiCFoundation/miniconda3/envs/higashi/lib/python3.9/multiprocessing/process.py\", line 315, in _bootstrap\n",
      "    self.run()\n",
      "Traceback (most recent call last):\n",
      "  File \"/storage/ireneky/HiCFoundation/miniconda3/envs/higashi/lib/python3.9/multiprocessing/process.py\", line 108, in run\n",
      "    self._target(*self._args, **self._kwargs)\n",
      "  File \"/storage/ireneky/HiCFoundation/miniconda3/envs/higashi/lib/python3.9/multiprocessing/process.py\", line 108, in run\n",
      "    self._target(*self._args, **self._kwargs)\n",
      "Process ForkProcess-651:\n",
      "  File \"/storage/ireneky/HiCFoundation/miniconda3/envs/higashi/lib/python3.9/multiprocessing/process.py\", line 108, in run\n",
      "    self._target(*self._args, **self._kwargs)\n",
      "  File \"/storage/ireneky/HiCFoundation/miniconda3/envs/higashi/lib/python3.9/multiprocessing/process.py\", line 315, in _bootstrap\n",
      "    self.run()\n",
      "Traceback (most recent call last):\n",
      "Traceback (most recent call last):\n",
      "  File \"/storage/ireneky/HiCFoundation/miniconda3/envs/higashi/lib/python3.9/multiprocessing/process.py\", line 315, in _bootstrap\n",
      "    self.run()\n",
      "  File \"/storage/ireneky/HiCFoundation/miniconda3/envs/higashi/lib/python3.9/multiprocessing/process.py\", line 315, in _bootstrap\n",
      "    self.run()\n",
      "  File \"/storage/ireneky/HiCFoundation/miniconda3/envs/higashi/lib/python3.9/multiprocessing/process.py\", line 315, in _bootstrap\n",
      "    self.run()\n",
      "  File \"/storage/ireneky/HiCFoundation/miniconda3/envs/higashi/lib/python3.9/multiprocessing/process.py\", line 315, in _bootstrap\n",
      "    self.run()\n",
      "  File \"/storage/ireneky/HiCFoundation/miniconda3/envs/higashi/lib/python3.9/multiprocessing/process.py\", line 108, in run\n",
      "    self._target(*self._args, **self._kwargs)\n",
      "Traceback (most recent call last):\n",
      "  File \"/storage/ireneky/HiCFoundation/miniconda3/envs/higashi/lib/python3.9/multiprocessing/process.py\", line 108, in run\n",
      "    self._target(*self._args, **self._kwargs)\n",
      "Traceback (most recent call last):\n",
      "Traceback (most recent call last):\n",
      "Traceback (most recent call last):\n",
      "  File \"/storage/ireneky/HiCFoundation/miniconda3/envs/higashi/lib/python3.9/multiprocessing/process.py\", line 108, in run\n",
      "    self._target(*self._args, **self._kwargs)\n",
      "Traceback (most recent call last):\n",
      "Traceback (most recent call last):\n",
      "  File \"/storage/ireneky/HiCFoundation/miniconda3/envs/higashi/lib/python3.9/multiprocessing/process.py\", line 315, in _bootstrap\n",
      "    self.run()\n",
      "  File \"/storage/ireneky/HiCFoundation/miniconda3/envs/higashi/lib/python3.9/multiprocessing/process.py\", line 108, in run\n",
      "    self._target(*self._args, **self._kwargs)\n",
      "Traceback (most recent call last):\n",
      "  File \"/storage/ireneky/HiCFoundation/miniconda3/envs/higashi/lib/python3.9/multiprocessing/process.py\", line 315, in _bootstrap\n",
      "    self.run()\n",
      "  File \"/storage/ireneky/HiCFoundation/miniconda3/envs/higashi/lib/python3.9/multiprocessing/process.py\", line 315, in _bootstrap\n",
      "    self.run()\n",
      "  File \"/storage/ireneky/HiCFoundation/miniconda3/envs/higashi/lib/python3.9/multiprocessing/process.py\", line 108, in run\n",
      "    self._target(*self._args, **self._kwargs)\n",
      "  File \"/storage/ireneky/HiCFoundation/miniconda3/envs/higashi/lib/python3.9/multiprocessing/process.py\", line 108, in run\n",
      "    self._target(*self._args, **self._kwargs)\n",
      "  File \"/storage/ireneky/HiCFoundation/miniconda3/envs/higashi/lib/python3.9/multiprocessing/process.py\", line 315, in _bootstrap\n",
      "    self.run()\n",
      "  File \"/storage/ireneky/HiCFoundation/miniconda3/envs/higashi/lib/python3.9/multiprocessing/process.py\", line 315, in _bootstrap\n",
      "    self.run()\n",
      "  File \"/storage/ireneky/HiCFoundation/miniconda3/envs/higashi/lib/python3.9/multiprocessing/process.py\", line 315, in _bootstrap\n",
      "    self.run()\n",
      "  File \"/storage/ireneky/HiCFoundation/miniconda3/envs/higashi/lib/python3.9/multiprocessing/process.py\", line 315, in _bootstrap\n",
      "    self.run()\n",
      "  File \"/storage/ireneky/HiCFoundation/miniconda3/envs/higashi/lib/python3.9/multiprocessing/process.py\", line 108, in run\n",
      "    self._target(*self._args, **self._kwargs)\n",
      "  File \"/storage/ireneky/HiCFoundation/miniconda3/envs/higashi/lib/python3.9/multiprocessing/process.py\", line 315, in _bootstrap\n",
      "    self.run()\n",
      "  File \"/storage/ireneky/HiCFoundation/miniconda3/envs/higashi/lib/python3.9/concurrent/futures/process.py\", line 240, in _process_worker\n",
      "    call_item = call_queue.get(block=True)\n",
      "  File \"/storage/ireneky/HiCFoundation/miniconda3/envs/higashi/lib/python3.9/multiprocessing/process.py\", line 315, in _bootstrap\n",
      "    self.run()\n",
      "  File \"/storage/ireneky/HiCFoundation/miniconda3/envs/higashi/lib/python3.9/multiprocessing/process.py\", line 108, in run\n",
      "    self._target(*self._args, **self._kwargs)\n",
      "  File \"/storage/ireneky/HiCFoundation/miniconda3/envs/higashi/lib/python3.9/multiprocessing/process.py\", line 108, in run\n",
      "    self._target(*self._args, **self._kwargs)\n",
      "  File \"/storage/ireneky/HiCFoundation/miniconda3/envs/higashi/lib/python3.9/multiprocessing/process.py\", line 108, in run\n",
      "    self._target(*self._args, **self._kwargs)\n",
      "  File \"/storage/ireneky/HiCFoundation/miniconda3/envs/higashi/lib/python3.9/multiprocessing/process.py\", line 315, in _bootstrap\n",
      "    self.run()\n",
      "  File \"/storage/ireneky/HiCFoundation/miniconda3/envs/higashi/lib/python3.9/multiprocessing/process.py\", line 315, in _bootstrap\n",
      "    self.run()\n",
      "  File \"/storage/ireneky/HiCFoundation/miniconda3/envs/higashi/lib/python3.9/multiprocessing/process.py\", line 108, in run\n",
      "    self._target(*self._args, **self._kwargs)\n",
      "  File \"/storage/ireneky/HiCFoundation/miniconda3/envs/higashi/lib/python3.9/multiprocessing/process.py\", line 108, in run\n",
      "    self._target(*self._args, **self._kwargs)\n",
      "  File \"/storage/ireneky/HiCFoundation/miniconda3/envs/higashi/lib/python3.9/multiprocessing/process.py\", line 108, in run\n",
      "    self._target(*self._args, **self._kwargs)\n",
      "  File \"/storage/ireneky/HiCFoundation/miniconda3/envs/higashi/lib/python3.9/concurrent/futures/process.py\", line 240, in _process_worker\n",
      "    call_item = call_queue.get(block=True)\n",
      "  File \"/storage/ireneky/HiCFoundation/miniconda3/envs/higashi/lib/python3.9/multiprocessing/process.py\", line 315, in _bootstrap\n",
      "    self.run()\n",
      "Traceback (most recent call last):\n",
      "  File \"/storage/ireneky/HiCFoundation/miniconda3/envs/higashi/lib/python3.9/concurrent/futures/process.py\", line 240, in _process_worker\n",
      "    call_item = call_queue.get(block=True)\n",
      "  File \"/storage/ireneky/HiCFoundation/miniconda3/envs/higashi/lib/python3.9/concurrent/futures/process.py\", line 240, in _process_worker\n",
      "    call_item = call_queue.get(block=True)\n",
      "  File \"/storage/ireneky/HiCFoundation/miniconda3/envs/higashi/lib/python3.9/concurrent/futures/process.py\", line 240, in _process_worker\n",
      "    call_item = call_queue.get(block=True)\n",
      "  File \"/storage/ireneky/HiCFoundation/miniconda3/envs/higashi/lib/python3.9/multiprocessing/process.py\", line 315, in _bootstrap\n",
      "    self.run()\n",
      "  File \"/storage/ireneky/HiCFoundation/miniconda3/envs/higashi/lib/python3.9/concurrent/futures/process.py\", line 240, in _process_worker\n",
      "    call_item = call_queue.get(block=True)\n",
      "  File \"/storage/ireneky/HiCFoundation/miniconda3/envs/higashi/lib/python3.9/multiprocessing/process.py\", line 315, in _bootstrap\n",
      "    self.run()\n",
      "  File \"/storage/ireneky/HiCFoundation/miniconda3/envs/higashi/lib/python3.9/multiprocessing/process.py\", line 315, in _bootstrap\n",
      "    self.run()\n",
      "  File \"/storage/ireneky/HiCFoundation/miniconda3/envs/higashi/lib/python3.9/concurrent/futures/process.py\", line 240, in _process_worker\n",
      "    call_item = call_queue.get(block=True)\n",
      "  File \"/storage/ireneky/HiCFoundation/miniconda3/envs/higashi/lib/python3.9/concurrent/futures/process.py\", line 240, in _process_worker\n",
      "    call_item = call_queue.get(block=True)\n",
      "  File \"/storage/ireneky/HiCFoundation/miniconda3/envs/higashi/lib/python3.9/multiprocessing/process.py\", line 108, in run\n",
      "    self._target(*self._args, **self._kwargs)\n",
      "  File \"/storage/ireneky/HiCFoundation/miniconda3/envs/higashi/lib/python3.9/multiprocessing/synchronize.py\", line 95, in __enter__\n",
      "    return self._semlock.__enter__()\n",
      "  File \"/storage/ireneky/HiCFoundation/miniconda3/envs/higashi/lib/python3.9/concurrent/futures/process.py\", line 240, in _process_worker\n",
      "    call_item = call_queue.get(block=True)\n",
      "  File \"/storage/ireneky/HiCFoundation/miniconda3/envs/higashi/lib/python3.9/concurrent/futures/process.py\", line 240, in _process_worker\n",
      "    call_item = call_queue.get(block=True)\n",
      "  File \"/storage/ireneky/HiCFoundation/miniconda3/envs/higashi/lib/python3.9/multiprocessing/process.py\", line 108, in run\n",
      "    self._target(*self._args, **self._kwargs)\n",
      "  File \"/storage/ireneky/HiCFoundation/miniconda3/envs/higashi/lib/python3.9/multiprocessing/process.py\", line 108, in run\n",
      "    self._target(*self._args, **self._kwargs)\n",
      "  File \"/storage/ireneky/HiCFoundation/miniconda3/envs/higashi/lib/python3.9/multiprocessing/process.py\", line 108, in run\n",
      "    self._target(*self._args, **self._kwargs)\n",
      "  File \"/storage/ireneky/HiCFoundation/miniconda3/envs/higashi/lib/python3.9/multiprocessing/process.py\", line 108, in run\n",
      "    self._target(*self._args, **self._kwargs)\n",
      "  File \"/storage/ireneky/HiCFoundation/miniconda3/envs/higashi/lib/python3.9/concurrent/futures/process.py\", line 240, in _process_worker\n",
      "    call_item = call_queue.get(block=True)\n",
      "  File \"/storage/ireneky/HiCFoundation/miniconda3/envs/higashi/lib/python3.9/multiprocessing/process.py\", line 108, in run\n",
      "    self._target(*self._args, **self._kwargs)\n",
      "  File \"/storage/ireneky/HiCFoundation/miniconda3/envs/higashi/lib/python3.9/multiprocessing/process.py\", line 108, in run\n",
      "    self._target(*self._args, **self._kwargs)\n",
      "  File \"/storage/ireneky/HiCFoundation/miniconda3/envs/higashi/lib/python3.9/multiprocessing/process.py\", line 315, in _bootstrap\n",
      "    self.run()\n",
      "  File \"/storage/ireneky/HiCFoundation/miniconda3/envs/higashi/lib/python3.9/multiprocessing/process.py\", line 108, in run\n",
      "    self._target(*self._args, **self._kwargs)\n",
      "  File \"/storage/ireneky/HiCFoundation/miniconda3/envs/higashi/lib/python3.9/multiprocessing/process.py\", line 108, in run\n",
      "    self._target(*self._args, **self._kwargs)\n",
      "  File \"/storage/ireneky/HiCFoundation/miniconda3/envs/higashi/lib/python3.9/multiprocessing/process.py\", line 108, in run\n",
      "    self._target(*self._args, **self._kwargs)\n",
      "  File \"/storage/ireneky/HiCFoundation/miniconda3/envs/higashi/lib/python3.9/multiprocessing/process.py\", line 315, in _bootstrap\n",
      "    self.run()\n",
      "  File \"/storage/ireneky/HiCFoundation/miniconda3/envs/higashi/lib/python3.9/multiprocessing/process.py\", line 108, in run\n",
      "    self._target(*self._args, **self._kwargs)\n",
      "  File \"/storage/ireneky/HiCFoundation/miniconda3/envs/higashi/lib/python3.9/concurrent/futures/process.py\", line 240, in _process_worker\n",
      "    call_item = call_queue.get(block=True)\n",
      "  File \"/storage/ireneky/HiCFoundation/miniconda3/envs/higashi/lib/python3.9/concurrent/futures/process.py\", line 240, in _process_worker\n",
      "    call_item = call_queue.get(block=True)\n",
      "  File \"/storage/ireneky/HiCFoundation/miniconda3/envs/higashi/lib/python3.9/multiprocessing/process.py\", line 315, in _bootstrap\n",
      "    self.run()\n",
      "  File \"/storage/ireneky/HiCFoundation/miniconda3/envs/higashi/lib/python3.9/multiprocessing/process.py\", line 108, in run\n",
      "    self._target(*self._args, **self._kwargs)\n",
      "  File \"/storage/ireneky/HiCFoundation/miniconda3/envs/higashi/lib/python3.9/multiprocessing/process.py\", line 315, in _bootstrap\n",
      "    self.run()\n",
      "  File \"/storage/ireneky/HiCFoundation/miniconda3/envs/higashi/lib/python3.9/concurrent/futures/process.py\", line 240, in _process_worker\n",
      "    call_item = call_queue.get(block=True)\n",
      "  File \"/storage/ireneky/HiCFoundation/miniconda3/envs/higashi/lib/python3.9/multiprocessing/process.py\", line 108, in run\n",
      "    self._target(*self._args, **self._kwargs)\n",
      "  File \"/storage/ireneky/HiCFoundation/miniconda3/envs/higashi/lib/python3.9/multiprocessing/process.py\", line 315, in _bootstrap\n",
      "    self.run()\n",
      "  File \"/storage/ireneky/HiCFoundation/miniconda3/envs/higashi/lib/python3.9/multiprocessing/process.py\", line 315, in _bootstrap\n",
      "    self.run()\n",
      "  File \"/storage/ireneky/HiCFoundation/miniconda3/envs/higashi/lib/python3.9/multiprocessing/process.py\", line 315, in _bootstrap\n",
      "    self.run()\n",
      "  File \"/storage/ireneky/HiCFoundation/miniconda3/envs/higashi/lib/python3.9/concurrent/futures/process.py\", line 240, in _process_worker\n",
      "    call_item = call_queue.get(block=True)\n",
      "  File \"/storage/ireneky/HiCFoundation/miniconda3/envs/higashi/lib/python3.9/concurrent/futures/process.py\", line 240, in _process_worker\n",
      "    call_item = call_queue.get(block=True)\n",
      "  File \"/storage/ireneky/HiCFoundation/miniconda3/envs/higashi/lib/python3.9/multiprocessing/process.py\", line 108, in run\n",
      "    self._target(*self._args, **self._kwargs)\n",
      "  File \"/storage/ireneky/HiCFoundation/miniconda3/envs/higashi/lib/python3.9/multiprocessing/process.py\", line 108, in run\n",
      "    self._target(*self._args, **self._kwargs)\n",
      "  File \"/storage/ireneky/HiCFoundation/miniconda3/envs/higashi/lib/python3.9/multiprocessing/process.py\", line 108, in run\n",
      "    self._target(*self._args, **self._kwargs)\n",
      "  File \"/storage/ireneky/HiCFoundation/miniconda3/envs/higashi/lib/python3.9/multiprocessing/process.py\", line 108, in run\n",
      "    self._target(*self._args, **self._kwargs)\n",
      "  File \"/storage/ireneky/HiCFoundation/miniconda3/envs/higashi/lib/python3.9/concurrent/futures/process.py\", line 240, in _process_worker\n",
      "    call_item = call_queue.get(block=True)\n",
      "Traceback (most recent call last):\n",
      "  File \"/storage/ireneky/HiCFoundation/miniconda3/envs/higashi/lib/python3.9/multiprocessing/process.py\", line 315, in _bootstrap\n",
      "    self.run()\n",
      "  File \"/storage/ireneky/HiCFoundation/miniconda3/envs/higashi/lib/python3.9/concurrent/futures/process.py\", line 240, in _process_worker\n",
      "    call_item = call_queue.get(block=True)\n",
      "  File \"/storage/ireneky/HiCFoundation/miniconda3/envs/higashi/lib/python3.9/multiprocessing/process.py\", line 108, in run\n",
      "    self._target(*self._args, **self._kwargs)\n",
      "  File \"/storage/ireneky/HiCFoundation/miniconda3/envs/higashi/lib/python3.9/multiprocessing/process.py\", line 315, in _bootstrap\n",
      "    self.run()\n",
      "  File \"/storage/ireneky/HiCFoundation/miniconda3/envs/higashi/lib/python3.9/multiprocessing/process.py\", line 315, in _bootstrap\n",
      "    self.run()\n",
      "  File \"/storage/ireneky/HiCFoundation/miniconda3/envs/higashi/lib/python3.9/multiprocessing/process.py\", line 315, in _bootstrap\n",
      "    self.run()\n",
      "  File \"/storage/ireneky/HiCFoundation/miniconda3/envs/higashi/lib/python3.9/concurrent/futures/process.py\", line 240, in _process_worker\n",
      "    call_item = call_queue.get(block=True)\n",
      "  File \"/storage/ireneky/HiCFoundation/miniconda3/envs/higashi/lib/python3.9/multiprocessing/process.py\", line 315, in _bootstrap\n",
      "    self.run()\n",
      "  File \"/storage/ireneky/HiCFoundation/miniconda3/envs/higashi/lib/python3.9/multiprocessing/process.py\", line 315, in _bootstrap\n",
      "    self.run()\n",
      "  File \"/storage/ireneky/HiCFoundation/miniconda3/envs/higashi/lib/python3.9/concurrent/futures/process.py\", line 240, in _process_worker\n",
      "    call_item = call_queue.get(block=True)\n",
      "  File \"/storage/ireneky/HiCFoundation/miniconda3/envs/higashi/lib/python3.9/multiprocessing/process.py\", line 108, in run\n",
      "    self._target(*self._args, **self._kwargs)\n",
      "  File \"/storage/ireneky/HiCFoundation/miniconda3/envs/higashi/lib/python3.9/multiprocessing/process.py\", line 108, in run\n",
      "    self._target(*self._args, **self._kwargs)\n",
      "  File \"/storage/ireneky/HiCFoundation/miniconda3/envs/higashi/lib/python3.9/multiprocessing/process.py\", line 315, in _bootstrap\n",
      "    self.run()\n",
      "  File \"/storage/ireneky/HiCFoundation/miniconda3/envs/higashi/lib/python3.9/multiprocessing/process.py\", line 108, in run\n",
      "    self._target(*self._args, **self._kwargs)\n",
      "  File \"/storage/ireneky/HiCFoundation/miniconda3/envs/higashi/lib/python3.9/multiprocessing/process.py\", line 108, in run\n",
      "    self._target(*self._args, **self._kwargs)\n",
      "  File \"/storage/ireneky/HiCFoundation/miniconda3/envs/higashi/lib/python3.9/multiprocessing/process.py\", line 108, in run\n",
      "    self._target(*self._args, **self._kwargs)\n",
      "  File \"/storage/ireneky/HiCFoundation/miniconda3/envs/higashi/lib/python3.9/multiprocessing/queues.py\", line 102, in get\n",
      "    with self._rlock:\n",
      "  File \"/storage/ireneky/HiCFoundation/miniconda3/envs/higashi/lib/python3.9/multiprocessing/queues.py\", line 102, in get\n",
      "    with self._rlock:\n",
      "  File \"/storage/ireneky/HiCFoundation/miniconda3/envs/higashi/lib/python3.9/multiprocessing/process.py\", line 108, in run\n",
      "    self._target(*self._args, **self._kwargs)\n",
      "  File \"/storage/ireneky/HiCFoundation/miniconda3/envs/higashi/lib/python3.9/multiprocessing/queues.py\", line 102, in get\n",
      "    with self._rlock:\n",
      "  File \"/storage/ireneky/HiCFoundation/miniconda3/envs/higashi/lib/python3.9/multiprocessing/process.py\", line 108, in run\n",
      "    self._target(*self._args, **self._kwargs)\n",
      "  File \"/storage/ireneky/HiCFoundation/miniconda3/envs/higashi/lib/python3.9/concurrent/futures/process.py\", line 240, in _process_worker\n",
      "    call_item = call_queue.get(block=True)\n",
      "  File \"/storage/ireneky/HiCFoundation/miniconda3/envs/higashi/lib/python3.9/multiprocessing/process.py\", line 108, in run\n",
      "    self._target(*self._args, **self._kwargs)\n",
      "  File \"/storage/ireneky/HiCFoundation/miniconda3/envs/higashi/lib/python3.9/concurrent/futures/process.py\", line 240, in _process_worker\n",
      "    call_item = call_queue.get(block=True)\n",
      "  File \"/storage/ireneky/HiCFoundation/miniconda3/envs/higashi/lib/python3.9/multiprocessing/process.py\", line 108, in run\n",
      "    self._target(*self._args, **self._kwargs)\n",
      "  File \"/storage/ireneky/HiCFoundation/miniconda3/envs/higashi/lib/python3.9/multiprocessing/queues.py\", line 102, in get\n",
      "    with self._rlock:\n",
      "  File \"/storage/ireneky/HiCFoundation/miniconda3/envs/higashi/lib/python3.9/multiprocessing/process.py\", line 108, in run\n",
      "    self._target(*self._args, **self._kwargs)\n",
      "  File \"/storage/ireneky/HiCFoundation/miniconda3/envs/higashi/lib/python3.9/concurrent/futures/process.py\", line 240, in _process_worker\n",
      "    call_item = call_queue.get(block=True)\n",
      "  File \"/storage/ireneky/HiCFoundation/miniconda3/envs/higashi/lib/python3.9/concurrent/futures/process.py\", line 240, in _process_worker\n",
      "    call_item = call_queue.get(block=True)\n",
      "  File \"/storage/ireneky/HiCFoundation/miniconda3/envs/higashi/lib/python3.9/concurrent/futures/process.py\", line 240, in _process_worker\n",
      "    call_item = call_queue.get(block=True)\n",
      "  File \"/storage/ireneky/HiCFoundation/miniconda3/envs/higashi/lib/python3.9/concurrent/futures/process.py\", line 240, in _process_worker\n",
      "    call_item = call_queue.get(block=True)\n",
      "  File \"/storage/ireneky/HiCFoundation/miniconda3/envs/higashi/lib/python3.9/multiprocessing/process.py\", line 108, in run\n",
      "    self._target(*self._args, **self._kwargs)\n",
      "  File \"/storage/ireneky/HiCFoundation/miniconda3/envs/higashi/lib/python3.9/multiprocessing/synchronize.py\", line 95, in __enter__\n",
      "    return self._semlock.__enter__()\n",
      "  File \"/storage/ireneky/HiCFoundation/miniconda3/envs/higashi/lib/python3.9/multiprocessing/process.py\", line 108, in run\n",
      "    self._target(*self._args, **self._kwargs)\n",
      "  File \"/storage/ireneky/HiCFoundation/miniconda3/envs/higashi/lib/python3.9/concurrent/futures/process.py\", line 240, in _process_worker\n",
      "    call_item = call_queue.get(block=True)\n",
      "  File \"/storage/ireneky/HiCFoundation/miniconda3/envs/higashi/lib/python3.9/multiprocessing/queues.py\", line 102, in get\n",
      "    with self._rlock:\n",
      "  File \"/storage/ireneky/HiCFoundation/miniconda3/envs/higashi/lib/python3.9/multiprocessing/process.py\", line 108, in run\n",
      "    self._target(*self._args, **self._kwargs)\n",
      "  File \"/storage/ireneky/HiCFoundation/miniconda3/envs/higashi/lib/python3.9/multiprocessing/process.py\", line 315, in _bootstrap\n",
      "    self.run()\n",
      "  File \"/storage/ireneky/HiCFoundation/miniconda3/envs/higashi/lib/python3.9/concurrent/futures/process.py\", line 240, in _process_worker\n",
      "    call_item = call_queue.get(block=True)\n",
      "  File \"/storage/ireneky/HiCFoundation/miniconda3/envs/higashi/lib/python3.9/concurrent/futures/process.py\", line 240, in _process_worker\n",
      "    call_item = call_queue.get(block=True)\n",
      "  File \"/storage/ireneky/HiCFoundation/miniconda3/envs/higashi/lib/python3.9/multiprocessing/queues.py\", line 102, in get\n",
      "    with self._rlock:\n",
      "  File \"/storage/ireneky/HiCFoundation/miniconda3/envs/higashi/lib/python3.9/multiprocessing/queues.py\", line 102, in get\n",
      "    with self._rlock:\n",
      "  File \"/storage/ireneky/HiCFoundation/miniconda3/envs/higashi/lib/python3.9/multiprocessing/queues.py\", line 102, in get\n",
      "    with self._rlock:\n",
      "  File \"/storage/ireneky/HiCFoundation/miniconda3/envs/higashi/lib/python3.9/multiprocessing/process.py\", line 108, in run\n",
      "    self._target(*self._args, **self._kwargs)\n",
      "  File \"/storage/ireneky/HiCFoundation/miniconda3/envs/higashi/lib/python3.9/multiprocessing/queues.py\", line 102, in get\n",
      "    with self._rlock:\n",
      "  File \"/storage/ireneky/HiCFoundation/miniconda3/envs/higashi/lib/python3.9/multiprocessing/process.py\", line 108, in run\n",
      "    self._target(*self._args, **self._kwargs)\n",
      "KeyboardInterrupt\n",
      "  File \"/storage/ireneky/HiCFoundation/miniconda3/envs/higashi/lib/python3.9/concurrent/futures/process.py\", line 240, in _process_worker\n",
      "    call_item = call_queue.get(block=True)\n",
      "  File \"/storage/ireneky/HiCFoundation/miniconda3/envs/higashi/lib/python3.9/multiprocessing/queues.py\", line 102, in get\n",
      "    with self._rlock:\n",
      "  File \"/storage/ireneky/HiCFoundation/miniconda3/envs/higashi/lib/python3.9/concurrent/futures/process.py\", line 240, in _process_worker\n",
      "    call_item = call_queue.get(block=True)\n",
      "  File \"/storage/ireneky/HiCFoundation/miniconda3/envs/higashi/lib/python3.9/concurrent/futures/process.py\", line 240, in _process_worker\n",
      "    call_item = call_queue.get(block=True)\n",
      "  File \"/storage/ireneky/HiCFoundation/miniconda3/envs/higashi/lib/python3.9/concurrent/futures/process.py\", line 240, in _process_worker\n",
      "    call_item = call_queue.get(block=True)\n",
      "  File \"/storage/ireneky/HiCFoundation/miniconda3/envs/higashi/lib/python3.9/concurrent/futures/process.py\", line 240, in _process_worker\n",
      "    call_item = call_queue.get(block=True)\n",
      "  File \"/storage/ireneky/HiCFoundation/miniconda3/envs/higashi/lib/python3.9/multiprocessing/queues.py\", line 102, in get\n",
      "    with self._rlock:\n",
      "  File \"/storage/ireneky/HiCFoundation/miniconda3/envs/higashi/lib/python3.9/multiprocessing/process.py\", line 108, in run\n",
      "    self._target(*self._args, **self._kwargs)\n",
      "  File \"/storage/ireneky/HiCFoundation/miniconda3/envs/higashi/lib/python3.9/multiprocessing/queues.py\", line 102, in get\n",
      "    with self._rlock:\n",
      "  File \"/storage/ireneky/HiCFoundation/miniconda3/envs/higashi/lib/python3.9/concurrent/futures/process.py\", line 240, in _process_worker\n",
      "    call_item = call_queue.get(block=True)\n",
      "  File \"/storage/ireneky/HiCFoundation/miniconda3/envs/higashi/lib/python3.9/multiprocessing/queues.py\", line 102, in get\n",
      "    with self._rlock:\n",
      "  File \"/storage/ireneky/HiCFoundation/miniconda3/envs/higashi/lib/python3.9/concurrent/futures/process.py\", line 240, in _process_worker\n",
      "    call_item = call_queue.get(block=True)\n",
      "  File \"/storage/ireneky/HiCFoundation/miniconda3/envs/higashi/lib/python3.9/concurrent/futures/process.py\", line 240, in _process_worker\n",
      "    call_item = call_queue.get(block=True)\n",
      "  File \"/storage/ireneky/HiCFoundation/miniconda3/envs/higashi/lib/python3.9/multiprocessing/queues.py\", line 102, in get\n",
      "    with self._rlock:\n",
      "  File \"/storage/ireneky/HiCFoundation/miniconda3/envs/higashi/lib/python3.9/concurrent/futures/process.py\", line 240, in _process_worker\n",
      "    call_item = call_queue.get(block=True)\n",
      "  File \"/storage/ireneky/HiCFoundation/miniconda3/envs/higashi/lib/python3.9/multiprocessing/process.py\", line 108, in run\n",
      "    self._target(*self._args, **self._kwargs)\n",
      "  File \"/storage/ireneky/HiCFoundation/miniconda3/envs/higashi/lib/python3.9/multiprocessing/process.py\", line 108, in run\n",
      "    self._target(*self._args, **self._kwargs)\n",
      "  File \"/storage/ireneky/HiCFoundation/miniconda3/envs/higashi/lib/python3.9/multiprocessing/process.py\", line 108, in run\n",
      "    self._target(*self._args, **self._kwargs)\n",
      "  File \"/storage/ireneky/HiCFoundation/miniconda3/envs/higashi/lib/python3.9/multiprocessing/queues.py\", line 103, in get\n",
      "    res = self._recv_bytes()\n",
      "  File \"/storage/ireneky/HiCFoundation/miniconda3/envs/higashi/lib/python3.9/concurrent/futures/process.py\", line 240, in _process_worker\n",
      "    call_item = call_queue.get(block=True)\n",
      "  File \"/storage/ireneky/HiCFoundation/miniconda3/envs/higashi/lib/python3.9/concurrent/futures/process.py\", line 240, in _process_worker\n",
      "    call_item = call_queue.get(block=True)\n",
      "  File \"/storage/ireneky/HiCFoundation/miniconda3/envs/higashi/lib/python3.9/multiprocessing/queues.py\", line 102, in get\n",
      "    with self._rlock:\n",
      "  File \"/storage/ireneky/HiCFoundation/miniconda3/envs/higashi/lib/python3.9/concurrent/futures/process.py\", line 240, in _process_worker\n",
      "    call_item = call_queue.get(block=True)\n",
      "  File \"/storage/ireneky/HiCFoundation/miniconda3/envs/higashi/lib/python3.9/concurrent/futures/process.py\", line 240, in _process_worker\n",
      "    call_item = call_queue.get(block=True)\n",
      "  File \"/storage/ireneky/HiCFoundation/miniconda3/envs/higashi/lib/python3.9/concurrent/futures/process.py\", line 240, in _process_worker\n",
      "    call_item = call_queue.get(block=True)\n",
      "  File \"/storage/ireneky/HiCFoundation/miniconda3/envs/higashi/lib/python3.9/multiprocessing/process.py\", line 108, in run\n",
      "    self._target(*self._args, **self._kwargs)\n",
      "  File \"/storage/ireneky/HiCFoundation/miniconda3/envs/higashi/lib/python3.9/multiprocessing/process.py\", line 108, in run\n",
      "    self._target(*self._args, **self._kwargs)\n",
      "  File \"/storage/ireneky/HiCFoundation/miniconda3/envs/higashi/lib/python3.9/multiprocessing/process.py\", line 108, in run\n",
      "    self._target(*self._args, **self._kwargs)\n",
      "  File \"/storage/ireneky/HiCFoundation/miniconda3/envs/higashi/lib/python3.9/multiprocessing/queues.py\", line 102, in get\n",
      "    with self._rlock:\n",
      "  File \"/storage/ireneky/HiCFoundation/miniconda3/envs/higashi/lib/python3.9/concurrent/futures/process.py\", line 240, in _process_worker\n",
      "    call_item = call_queue.get(block=True)\n",
      "  File \"/storage/ireneky/HiCFoundation/miniconda3/envs/higashi/lib/python3.9/concurrent/futures/process.py\", line 240, in _process_worker\n",
      "    call_item = call_queue.get(block=True)\n",
      "  File \"/storage/ireneky/HiCFoundation/miniconda3/envs/higashi/lib/python3.9/multiprocessing/process.py\", line 315, in _bootstrap\n",
      "    self.run()\n",
      "  File \"/storage/ireneky/HiCFoundation/miniconda3/envs/higashi/lib/python3.9/multiprocessing/process.py\", line 108, in run\n",
      "    self._target(*self._args, **self._kwargs)\n",
      "  File \"/storage/ireneky/HiCFoundation/miniconda3/envs/higashi/lib/python3.9/concurrent/futures/process.py\", line 240, in _process_worker\n",
      "    call_item = call_queue.get(block=True)\n",
      "  File \"/storage/ireneky/HiCFoundation/miniconda3/envs/higashi/lib/python3.9/concurrent/futures/process.py\", line 240, in _process_worker\n",
      "    call_item = call_queue.get(block=True)\n",
      "  File \"/storage/ireneky/HiCFoundation/miniconda3/envs/higashi/lib/python3.9/multiprocessing/queues.py\", line 102, in get\n",
      "    with self._rlock:\n",
      "  File \"/storage/ireneky/HiCFoundation/miniconda3/envs/higashi/lib/python3.9/multiprocessing/process.py\", line 108, in run\n",
      "    self._target(*self._args, **self._kwargs)\n",
      "  File \"/storage/ireneky/HiCFoundation/miniconda3/envs/higashi/lib/python3.9/multiprocessing/process.py\", line 108, in run\n",
      "    self._target(*self._args, **self._kwargs)\n",
      "  File \"/storage/ireneky/HiCFoundation/miniconda3/envs/higashi/lib/python3.9/multiprocessing/queues.py\", line 102, in get\n",
      "    with self._rlock:\n",
      "  File \"/storage/ireneky/HiCFoundation/miniconda3/envs/higashi/lib/python3.9/multiprocessing/process.py\", line 108, in run\n",
      "    self._target(*self._args, **self._kwargs)\n",
      "  File \"/storage/ireneky/HiCFoundation/miniconda3/envs/higashi/lib/python3.9/multiprocessing/process.py\", line 108, in run\n",
      "    self._target(*self._args, **self._kwargs)\n",
      "  File \"/storage/ireneky/HiCFoundation/miniconda3/envs/higashi/lib/python3.9/multiprocessing/queues.py\", line 102, in get\n",
      "    with self._rlock:\n",
      "  File \"/storage/ireneky/HiCFoundation/miniconda3/envs/higashi/lib/python3.9/multiprocessing/process.py\", line 108, in run\n",
      "    self._target(*self._args, **self._kwargs)\n",
      "  File \"/storage/ireneky/HiCFoundation/miniconda3/envs/higashi/lib/python3.9/concurrent/futures/process.py\", line 240, in _process_worker\n",
      "    call_item = call_queue.get(block=True)\n",
      "  File \"/storage/ireneky/HiCFoundation/miniconda3/envs/higashi/lib/python3.9/concurrent/futures/process.py\", line 240, in _process_worker\n",
      "    call_item = call_queue.get(block=True)\n",
      "  File \"/storage/ireneky/HiCFoundation/miniconda3/envs/higashi/lib/python3.9/concurrent/futures/process.py\", line 240, in _process_worker\n",
      "    call_item = call_queue.get(block=True)\n",
      "  File \"/storage/ireneky/HiCFoundation/miniconda3/envs/higashi/lib/python3.9/multiprocessing/synchronize.py\", line 95, in __enter__\n",
      "    return self._semlock.__enter__()\n",
      "  File \"/storage/ireneky/HiCFoundation/miniconda3/envs/higashi/lib/python3.9/concurrent/futures/process.py\", line 240, in _process_worker\n",
      "    call_item = call_queue.get(block=True)\n",
      "  File \"/storage/ireneky/HiCFoundation/miniconda3/envs/higashi/lib/python3.9/concurrent/futures/process.py\", line 240, in _process_worker\n",
      "    call_item = call_queue.get(block=True)\n",
      "  File \"/storage/ireneky/HiCFoundation/miniconda3/envs/higashi/lib/python3.9/concurrent/futures/process.py\", line 240, in _process_worker\n",
      "    call_item = call_queue.get(block=True)\n",
      "  File \"/storage/ireneky/HiCFoundation/miniconda3/envs/higashi/lib/python3.9/multiprocessing/process.py\", line 108, in run\n",
      "    self._target(*self._args, **self._kwargs)\n",
      "  File \"/storage/ireneky/HiCFoundation/miniconda3/envs/higashi/lib/python3.9/multiprocessing/synchronize.py\", line 95, in __enter__\n",
      "    return self._semlock.__enter__()\n",
      "  File \"/storage/ireneky/HiCFoundation/miniconda3/envs/higashi/lib/python3.9/multiprocessing/queues.py\", line 102, in get\n",
      "    with self._rlock:\n",
      "  File \"/storage/ireneky/HiCFoundation/miniconda3/envs/higashi/lib/python3.9/concurrent/futures/process.py\", line 240, in _process_worker\n",
      "    call_item = call_queue.get(block=True)\n",
      "  File \"/storage/ireneky/HiCFoundation/miniconda3/envs/higashi/lib/python3.9/multiprocessing/queues.py\", line 102, in get\n",
      "    with self._rlock:\n",
      "  File \"/storage/ireneky/HiCFoundation/miniconda3/envs/higashi/lib/python3.9/multiprocessing/queues.py\", line 102, in get\n",
      "    with self._rlock:\n",
      "  File \"/storage/ireneky/HiCFoundation/miniconda3/envs/higashi/lib/python3.9/concurrent/futures/process.py\", line 240, in _process_worker\n",
      "    call_item = call_queue.get(block=True)\n",
      "  File \"/storage/ireneky/HiCFoundation/miniconda3/envs/higashi/lib/python3.9/multiprocessing/queues.py\", line 102, in get\n",
      "    with self._rlock:\n",
      "  File \"/storage/ireneky/HiCFoundation/miniconda3/envs/higashi/lib/python3.9/multiprocessing/queues.py\", line 102, in get\n",
      "    with self._rlock:\n",
      "  File \"/storage/ireneky/HiCFoundation/miniconda3/envs/higashi/lib/python3.9/concurrent/futures/process.py\", line 240, in _process_worker\n",
      "    call_item = call_queue.get(block=True)\n",
      "  File \"/storage/ireneky/HiCFoundation/miniconda3/envs/higashi/lib/python3.9/multiprocessing/queues.py\", line 102, in get\n",
      "    with self._rlock:\n",
      "  File \"/storage/ireneky/HiCFoundation/miniconda3/envs/higashi/lib/python3.9/multiprocessing/process.py\", line 108, in run\n",
      "    self._target(*self._args, **self._kwargs)\n",
      "  File \"/storage/ireneky/HiCFoundation/miniconda3/envs/higashi/lib/python3.9/multiprocessing/synchronize.py\", line 95, in __enter__\n",
      "    return self._semlock.__enter__()\n",
      "  File \"/storage/ireneky/HiCFoundation/miniconda3/envs/higashi/lib/python3.9/multiprocessing/queues.py\", line 102, in get\n",
      "    with self._rlock:\n",
      "  File \"/storage/ireneky/HiCFoundation/miniconda3/envs/higashi/lib/python3.9/concurrent/futures/process.py\", line 240, in _process_worker\n",
      "    call_item = call_queue.get(block=True)\n",
      "  File \"/storage/ireneky/HiCFoundation/miniconda3/envs/higashi/lib/python3.9/multiprocessing/queues.py\", line 102, in get\n",
      "    with self._rlock:\n",
      "  File \"/storage/ireneky/HiCFoundation/miniconda3/envs/higashi/lib/python3.9/multiprocessing/queues.py\", line 102, in get\n",
      "    with self._rlock:\n",
      "  File \"/storage/ireneky/HiCFoundation/miniconda3/envs/higashi/lib/python3.9/concurrent/futures/process.py\", line 240, in _process_worker\n",
      "    call_item = call_queue.get(block=True)\n",
      "  File \"/storage/ireneky/HiCFoundation/miniconda3/envs/higashi/lib/python3.9/multiprocessing/queues.py\", line 102, in get\n",
      "    with self._rlock:\n",
      "  File \"/storage/ireneky/HiCFoundation/miniconda3/envs/higashi/lib/python3.9/concurrent/futures/process.py\", line 240, in _process_worker\n",
      "    call_item = call_queue.get(block=True)\n",
      "KeyboardInterrupt\n",
      "  File \"/storage/ireneky/HiCFoundation/miniconda3/envs/higashi/lib/python3.9/concurrent/futures/process.py\", line 240, in _process_worker\n",
      "    call_item = call_queue.get(block=True)\n",
      "  File \"/storage/ireneky/HiCFoundation/miniconda3/envs/higashi/lib/python3.9/concurrent/futures/process.py\", line 240, in _process_worker\n",
      "    call_item = call_queue.get(block=True)\n",
      "  File \"/storage/ireneky/HiCFoundation/miniconda3/envs/higashi/lib/python3.9/multiprocessing/synchronize.py\", line 95, in __enter__\n",
      "    return self._semlock.__enter__()\n",
      "  File \"/storage/ireneky/HiCFoundation/miniconda3/envs/higashi/lib/python3.9/concurrent/futures/process.py\", line 240, in _process_worker\n",
      "    call_item = call_queue.get(block=True)\n",
      "  File \"/storage/ireneky/HiCFoundation/miniconda3/envs/higashi/lib/python3.9/concurrent/futures/process.py\", line 240, in _process_worker\n",
      "    call_item = call_queue.get(block=True)\n",
      "  File \"/storage/ireneky/HiCFoundation/miniconda3/envs/higashi/lib/python3.9/multiprocessing/synchronize.py\", line 95, in __enter__\n",
      "    return self._semlock.__enter__()\n",
      "  File \"/storage/ireneky/HiCFoundation/miniconda3/envs/higashi/lib/python3.9/multiprocessing/synchronize.py\", line 95, in __enter__\n",
      "    return self._semlock.__enter__()\n",
      "  File \"/storage/ireneky/HiCFoundation/miniconda3/envs/higashi/lib/python3.9/multiprocessing/synchronize.py\", line 95, in __enter__\n",
      "    return self._semlock.__enter__()\n",
      "  File \"/storage/ireneky/HiCFoundation/miniconda3/envs/higashi/lib/python3.9/multiprocessing/connection.py\", line 216, in recv_bytes\n",
      "    buf = self._recv_bytes(maxlength)\n",
      "  File \"/storage/ireneky/HiCFoundation/miniconda3/envs/higashi/lib/python3.9/multiprocessing/synchronize.py\", line 95, in __enter__\n",
      "    return self._semlock.__enter__()\n",
      "  File \"/storage/ireneky/HiCFoundation/miniconda3/envs/higashi/lib/python3.9/multiprocessing/queues.py\", line 102, in get\n",
      "    with self._rlock:\n",
      "  File \"/storage/ireneky/HiCFoundation/miniconda3/envs/higashi/lib/python3.9/multiprocessing/synchronize.py\", line 95, in __enter__\n",
      "    return self._semlock.__enter__()\n",
      "  File \"/storage/ireneky/HiCFoundation/miniconda3/envs/higashi/lib/python3.9/multiprocessing/queues.py\", line 102, in get\n",
      "    with self._rlock:\n",
      "  File \"/storage/ireneky/HiCFoundation/miniconda3/envs/higashi/lib/python3.9/multiprocessing/queues.py\", line 102, in get\n",
      "    with self._rlock:\n",
      "  File \"/storage/ireneky/HiCFoundation/miniconda3/envs/higashi/lib/python3.9/multiprocessing/synchronize.py\", line 95, in __enter__\n",
      "    return self._semlock.__enter__()\n",
      "  File \"/storage/ireneky/HiCFoundation/miniconda3/envs/higashi/lib/python3.9/multiprocessing/synchronize.py\", line 95, in __enter__\n",
      "    return self._semlock.__enter__()\n",
      "  File \"/storage/ireneky/HiCFoundation/miniconda3/envs/higashi/lib/python3.9/multiprocessing/queues.py\", line 102, in get\n",
      "    with self._rlock:\n",
      "  File \"/storage/ireneky/HiCFoundation/miniconda3/envs/higashi/lib/python3.9/multiprocessing/queues.py\", line 102, in get\n",
      "    with self._rlock:\n",
      "  File \"/storage/ireneky/HiCFoundation/miniconda3/envs/higashi/lib/python3.9/multiprocessing/queues.py\", line 102, in get\n",
      "    with self._rlock:\n",
      "  File \"/storage/ireneky/HiCFoundation/miniconda3/envs/higashi/lib/python3.9/multiprocessing/synchronize.py\", line 95, in __enter__\n",
      "    return self._semlock.__enter__()\n",
      "  File \"/storage/ireneky/HiCFoundation/miniconda3/envs/higashi/lib/python3.9/concurrent/futures/process.py\", line 240, in _process_worker\n",
      "    call_item = call_queue.get(block=True)\n",
      "  File \"/storage/ireneky/HiCFoundation/miniconda3/envs/higashi/lib/python3.9/multiprocessing/queues.py\", line 102, in get\n",
      "    with self._rlock:\n",
      "  File \"/storage/ireneky/HiCFoundation/miniconda3/envs/higashi/lib/python3.9/multiprocessing/queues.py\", line 102, in get\n",
      "    with self._rlock:\n",
      "  File \"/storage/ireneky/HiCFoundation/miniconda3/envs/higashi/lib/python3.9/concurrent/futures/process.py\", line 240, in _process_worker\n",
      "    call_item = call_queue.get(block=True)\n",
      "  File \"/storage/ireneky/HiCFoundation/miniconda3/envs/higashi/lib/python3.9/multiprocessing/queues.py\", line 102, in get\n",
      "    with self._rlock:\n",
      "  File \"/storage/ireneky/HiCFoundation/miniconda3/envs/higashi/lib/python3.9/multiprocessing/queues.py\", line 102, in get\n",
      "    with self._rlock:\n",
      "  File \"/storage/ireneky/HiCFoundation/miniconda3/envs/higashi/lib/python3.9/concurrent/futures/process.py\", line 240, in _process_worker\n",
      "    call_item = call_queue.get(block=True)\n",
      "  File \"/storage/ireneky/HiCFoundation/miniconda3/envs/higashi/lib/python3.9/multiprocessing/queues.py\", line 102, in get\n",
      "    with self._rlock:\n",
      "  File \"/storage/ireneky/HiCFoundation/miniconda3/envs/higashi/lib/python3.9/multiprocessing/queues.py\", line 103, in get\n",
      "    res = self._recv_bytes()\n",
      "  File \"/storage/ireneky/HiCFoundation/miniconda3/envs/higashi/lib/python3.9/multiprocessing/synchronize.py\", line 95, in __enter__\n",
      "    return self._semlock.__enter__()\n",
      "  File \"/storage/ireneky/HiCFoundation/miniconda3/envs/higashi/lib/python3.9/multiprocessing/synchronize.py\", line 95, in __enter__\n",
      "    return self._semlock.__enter__()\n",
      "  File \"/storage/ireneky/HiCFoundation/miniconda3/envs/higashi/lib/python3.9/concurrent/futures/process.py\", line 240, in _process_worker\n",
      "    call_item = call_queue.get(block=True)\n",
      "  File \"/storage/ireneky/HiCFoundation/miniconda3/envs/higashi/lib/python3.9/concurrent/futures/process.py\", line 240, in _process_worker\n",
      "    call_item = call_queue.get(block=True)\n",
      "  File \"/storage/ireneky/HiCFoundation/miniconda3/envs/higashi/lib/python3.9/concurrent/futures/process.py\", line 240, in _process_worker\n",
      "    call_item = call_queue.get(block=True)\n",
      "  File \"/storage/ireneky/HiCFoundation/miniconda3/envs/higashi/lib/python3.9/multiprocessing/synchronize.py\", line 95, in __enter__\n",
      "    return self._semlock.__enter__()\n",
      "  File \"/storage/ireneky/HiCFoundation/miniconda3/envs/higashi/lib/python3.9/multiprocessing/queues.py\", line 102, in get\n",
      "    with self._rlock:\n",
      "  File \"/storage/ireneky/HiCFoundation/miniconda3/envs/higashi/lib/python3.9/multiprocessing/queues.py\", line 102, in get\n",
      "    with self._rlock:\n",
      "  File \"/storage/ireneky/HiCFoundation/miniconda3/envs/higashi/lib/python3.9/concurrent/futures/process.py\", line 240, in _process_worker\n",
      "    call_item = call_queue.get(block=True)\n",
      "  File \"/storage/ireneky/HiCFoundation/miniconda3/envs/higashi/lib/python3.9/multiprocessing/synchronize.py\", line 95, in __enter__\n",
      "    return self._semlock.__enter__()\n",
      "  File \"/storage/ireneky/HiCFoundation/miniconda3/envs/higashi/lib/python3.9/multiprocessing/synchronize.py\", line 95, in __enter__\n",
      "    return self._semlock.__enter__()\n",
      "  File \"/storage/ireneky/HiCFoundation/miniconda3/envs/higashi/lib/python3.9/multiprocessing/process.py\", line 108, in run\n",
      "    self._target(*self._args, **self._kwargs)\n",
      "  File \"/storage/ireneky/HiCFoundation/miniconda3/envs/higashi/lib/python3.9/multiprocessing/synchronize.py\", line 95, in __enter__\n",
      "    return self._semlock.__enter__()\n",
      "  File \"/storage/ireneky/HiCFoundation/miniconda3/envs/higashi/lib/python3.9/multiprocessing/queues.py\", line 102, in get\n",
      "    with self._rlock:\n",
      "  File \"/storage/ireneky/HiCFoundation/miniconda3/envs/higashi/lib/python3.9/concurrent/futures/process.py\", line 240, in _process_worker\n",
      "    call_item = call_queue.get(block=True)\n",
      "  File \"/storage/ireneky/HiCFoundation/miniconda3/envs/higashi/lib/python3.9/multiprocessing/queues.py\", line 102, in get\n",
      "    with self._rlock:\n",
      "  File \"/storage/ireneky/HiCFoundation/miniconda3/envs/higashi/lib/python3.9/concurrent/futures/process.py\", line 240, in _process_worker\n",
      "    call_item = call_queue.get(block=True)\n",
      "  File \"/storage/ireneky/HiCFoundation/miniconda3/envs/higashi/lib/python3.9/multiprocessing/queues.py\", line 102, in get\n",
      "    with self._rlock:\n",
      "  File \"/storage/ireneky/HiCFoundation/miniconda3/envs/higashi/lib/python3.9/concurrent/futures/process.py\", line 240, in _process_worker\n",
      "    call_item = call_queue.get(block=True)\n",
      "  File \"/storage/ireneky/HiCFoundation/miniconda3/envs/higashi/lib/python3.9/concurrent/futures/process.py\", line 240, in _process_worker\n",
      "    call_item = call_queue.get(block=True)\n",
      "  File \"/storage/ireneky/HiCFoundation/miniconda3/envs/higashi/lib/python3.9/multiprocessing/synchronize.py\", line 95, in __enter__\n",
      "    return self._semlock.__enter__()\n",
      "  File \"/storage/ireneky/HiCFoundation/miniconda3/envs/higashi/lib/python3.9/concurrent/futures/process.py\", line 240, in _process_worker\n",
      "    call_item = call_queue.get(block=True)\n",
      "KeyboardInterrupt\n",
      "  File \"/storage/ireneky/HiCFoundation/miniconda3/envs/higashi/lib/python3.9/multiprocessing/queues.py\", line 102, in get\n",
      "    with self._rlock:\n",
      "  File \"/storage/ireneky/HiCFoundation/miniconda3/envs/higashi/lib/python3.9/multiprocessing/queues.py\", line 102, in get\n",
      "    with self._rlock:\n",
      "  File \"/storage/ireneky/HiCFoundation/miniconda3/envs/higashi/lib/python3.9/multiprocessing/queues.py\", line 102, in get\n",
      "    with self._rlock:\n",
      "  File \"/storage/ireneky/HiCFoundation/miniconda3/envs/higashi/lib/python3.9/multiprocessing/synchronize.py\", line 95, in __enter__\n",
      "    return self._semlock.__enter__()\n",
      "  File \"/storage/ireneky/HiCFoundation/miniconda3/envs/higashi/lib/python3.9/multiprocessing/queues.py\", line 102, in get\n",
      "    with self._rlock:\n",
      "  File \"/storage/ireneky/HiCFoundation/miniconda3/envs/higashi/lib/python3.9/concurrent/futures/process.py\", line 240, in _process_worker\n",
      "    call_item = call_queue.get(block=True)\n",
      "  File \"/storage/ireneky/HiCFoundation/miniconda3/envs/higashi/lib/python3.9/multiprocessing/queues.py\", line 102, in get\n",
      "    with self._rlock:\n",
      "  File \"/storage/ireneky/HiCFoundation/miniconda3/envs/higashi/lib/python3.9/multiprocessing/synchronize.py\", line 95, in __enter__\n",
      "    return self._semlock.__enter__()\n",
      "  File \"/storage/ireneky/HiCFoundation/miniconda3/envs/higashi/lib/python3.9/multiprocessing/queues.py\", line 102, in get\n",
      "    with self._rlock:\n",
      "  File \"/storage/ireneky/HiCFoundation/miniconda3/envs/higashi/lib/python3.9/multiprocessing/queues.py\", line 102, in get\n",
      "    with self._rlock:\n",
      "KeyboardInterrupt\n",
      "  File \"/storage/ireneky/HiCFoundation/miniconda3/envs/higashi/lib/python3.9/multiprocessing/synchronize.py\", line 95, in __enter__\n",
      "    return self._semlock.__enter__()\n",
      "  File \"/storage/ireneky/HiCFoundation/miniconda3/envs/higashi/lib/python3.9/multiprocessing/queues.py\", line 102, in get\n",
      "    with self._rlock:\n",
      "KeyboardInterrupt\n",
      "  File \"/storage/ireneky/HiCFoundation/miniconda3/envs/higashi/lib/python3.9/multiprocessing/synchronize.py\", line 95, in __enter__\n",
      "    return self._semlock.__enter__()\n",
      "  File \"/storage/ireneky/HiCFoundation/miniconda3/envs/higashi/lib/python3.9/multiprocessing/synchronize.py\", line 95, in __enter__\n",
      "    return self._semlock.__enter__()\n",
      "  File \"/storage/ireneky/HiCFoundation/miniconda3/envs/higashi/lib/python3.9/multiprocessing/queues.py\", line 102, in get\n",
      "    with self._rlock:\n",
      "  File \"/storage/ireneky/HiCFoundation/miniconda3/envs/higashi/lib/python3.9/multiprocessing/synchronize.py\", line 95, in __enter__\n",
      "    return self._semlock.__enter__()\n",
      "  File \"/storage/ireneky/HiCFoundation/miniconda3/envs/higashi/lib/python3.9/multiprocessing/queues.py\", line 102, in get\n",
      "    with self._rlock:\n",
      "  File \"/storage/ireneky/HiCFoundation/miniconda3/envs/higashi/lib/python3.9/multiprocessing/queues.py\", line 102, in get\n",
      "    with self._rlock:\n",
      "  File \"/storage/ireneky/HiCFoundation/miniconda3/envs/higashi/lib/python3.9/multiprocessing/queues.py\", line 102, in get\n",
      "    with self._rlock:\n",
      "  File \"/storage/ireneky/HiCFoundation/miniconda3/envs/higashi/lib/python3.9/multiprocessing/synchronize.py\", line 95, in __enter__\n",
      "    return self._semlock.__enter__()\n",
      "  File \"/storage/ireneky/HiCFoundation/miniconda3/envs/higashi/lib/python3.9/multiprocessing/queues.py\", line 102, in get\n",
      "    with self._rlock:\n",
      "KeyboardInterrupt\n",
      "  File \"/storage/ireneky/HiCFoundation/miniconda3/envs/higashi/lib/python3.9/multiprocessing/queues.py\", line 102, in get\n",
      "    with self._rlock:\n",
      "KeyboardInterrupt\n",
      "KeyboardInterrupt\n",
      "  File \"/storage/ireneky/HiCFoundation/miniconda3/envs/higashi/lib/python3.9/multiprocessing/synchronize.py\", line 95, in __enter__\n",
      "    return self._semlock.__enter__()\n",
      "  File \"/storage/ireneky/HiCFoundation/miniconda3/envs/higashi/lib/python3.9/multiprocessing/queues.py\", line 102, in get\n",
      "    with self._rlock:\n",
      "  File \"/storage/ireneky/HiCFoundation/miniconda3/envs/higashi/lib/python3.9/multiprocessing/queues.py\", line 102, in get\n",
      "    with self._rlock:\n",
      "  File \"/storage/ireneky/HiCFoundation/miniconda3/envs/higashi/lib/python3.9/multiprocessing/connection.py\", line 414, in _recv_bytes\n",
      "    buf = self._recv(4)\n",
      "  File \"/storage/ireneky/HiCFoundation/miniconda3/envs/higashi/lib/python3.9/concurrent/futures/process.py\", line 240, in _process_worker\n",
      "    call_item = call_queue.get(block=True)\n",
      "KeyboardInterrupt\n",
      "  File \"/storage/ireneky/HiCFoundation/miniconda3/envs/higashi/lib/python3.9/multiprocessing/synchronize.py\", line 95, in __enter__\n",
      "    return self._semlock.__enter__()\n",
      "KeyboardInterrupt\n",
      "  File \"/storage/ireneky/HiCFoundation/miniconda3/envs/higashi/lib/python3.9/multiprocessing/synchronize.py\", line 95, in __enter__\n",
      "    return self._semlock.__enter__()\n",
      "KeyboardInterrupt\n",
      "  File \"/storage/ireneky/HiCFoundation/miniconda3/envs/higashi/lib/python3.9/multiprocessing/synchronize.py\", line 95, in __enter__\n",
      "    return self._semlock.__enter__()\n",
      "  File \"/storage/ireneky/HiCFoundation/miniconda3/envs/higashi/lib/python3.9/multiprocessing/synchronize.py\", line 95, in __enter__\n",
      "    return self._semlock.__enter__()\n",
      "  File \"/storage/ireneky/HiCFoundation/miniconda3/envs/higashi/lib/python3.9/multiprocessing/queues.py\", line 102, in get\n",
      "    with self._rlock:\n",
      "KeyboardInterrupt\n",
      "KeyboardInterrupt\n",
      "  File \"/storage/ireneky/HiCFoundation/miniconda3/envs/higashi/lib/python3.9/multiprocessing/queues.py\", line 102, in get\n",
      "    with self._rlock:\n",
      "KeyboardInterrupt\n",
      "  File \"/storage/ireneky/HiCFoundation/miniconda3/envs/higashi/lib/python3.9/multiprocessing/queues.py\", line 102, in get\n",
      "    with self._rlock:\n",
      "  File \"/storage/ireneky/HiCFoundation/miniconda3/envs/higashi/lib/python3.9/multiprocessing/synchronize.py\", line 95, in __enter__\n",
      "    return self._semlock.__enter__()\n",
      "  File \"/storage/ireneky/HiCFoundation/miniconda3/envs/higashi/lib/python3.9/multiprocessing/queues.py\", line 102, in get\n",
      "    with self._rlock:\n",
      "  File \"/storage/ireneky/HiCFoundation/miniconda3/envs/higashi/lib/python3.9/multiprocessing/synchronize.py\", line 95, in __enter__\n",
      "    return self._semlock.__enter__()\n",
      "KeyboardInterrupt\n",
      "  File \"/storage/ireneky/HiCFoundation/miniconda3/envs/higashi/lib/python3.9/multiprocessing/queues.py\", line 102, in get\n",
      "    with self._rlock:\n",
      "  File \"/storage/ireneky/HiCFoundation/miniconda3/envs/higashi/lib/python3.9/multiprocessing/synchronize.py\", line 95, in __enter__\n",
      "    return self._semlock.__enter__()\n",
      "  File \"/storage/ireneky/HiCFoundation/miniconda3/envs/higashi/lib/python3.9/multiprocessing/connection.py\", line 216, in recv_bytes\n",
      "    buf = self._recv_bytes(maxlength)\n",
      "  File \"/storage/ireneky/HiCFoundation/miniconda3/envs/higashi/lib/python3.9/multiprocessing/queues.py\", line 102, in get\n",
      "    with self._rlock:\n",
      "  File \"/storage/ireneky/HiCFoundation/miniconda3/envs/higashi/lib/python3.9/multiprocessing/synchronize.py\", line 95, in __enter__\n",
      "    return self._semlock.__enter__()\n",
      "  File \"/storage/ireneky/HiCFoundation/miniconda3/envs/higashi/lib/python3.9/multiprocessing/synchronize.py\", line 95, in __enter__\n",
      "    return self._semlock.__enter__()\n",
      "  File \"/storage/ireneky/HiCFoundation/miniconda3/envs/higashi/lib/python3.9/multiprocessing/synchronize.py\", line 95, in __enter__\n",
      "    return self._semlock.__enter__()\n",
      "  File \"/storage/ireneky/HiCFoundation/miniconda3/envs/higashi/lib/python3.9/multiprocessing/synchronize.py\", line 95, in __enter__\n",
      "    return self._semlock.__enter__()\n",
      "  File \"/storage/ireneky/HiCFoundation/miniconda3/envs/higashi/lib/python3.9/multiprocessing/synchronize.py\", line 95, in __enter__\n",
      "    return self._semlock.__enter__()\n",
      "  File \"/storage/ireneky/HiCFoundation/miniconda3/envs/higashi/lib/python3.9/multiprocessing/synchronize.py\", line 95, in __enter__\n",
      "    return self._semlock.__enter__()\n",
      "  File \"/storage/ireneky/HiCFoundation/miniconda3/envs/higashi/lib/python3.9/multiprocessing/synchronize.py\", line 95, in __enter__\n",
      "    return self._semlock.__enter__()\n",
      "  File \"/storage/ireneky/HiCFoundation/miniconda3/envs/higashi/lib/python3.9/multiprocessing/queues.py\", line 102, in get\n",
      "    with self._rlock:\n",
      "KeyboardInterrupt\n",
      "  File \"/storage/ireneky/HiCFoundation/miniconda3/envs/higashi/lib/python3.9/concurrent/futures/process.py\", line 240, in _process_worker\n",
      "    call_item = call_queue.get(block=True)\n",
      "KeyboardInterrupt\n",
      "  File \"/storage/ireneky/HiCFoundation/miniconda3/envs/higashi/lib/python3.9/multiprocessing/synchronize.py\", line 95, in __enter__\n",
      "    return self._semlock.__enter__()\n",
      "  File \"/storage/ireneky/HiCFoundation/miniconda3/envs/higashi/lib/python3.9/multiprocessing/synchronize.py\", line 95, in __enter__\n",
      "    return self._semlock.__enter__()\n",
      "KeyboardInterrupt\n",
      "  File \"/storage/ireneky/HiCFoundation/miniconda3/envs/higashi/lib/python3.9/multiprocessing/queues.py\", line 102, in get\n",
      "    with self._rlock:\n",
      "  File \"/storage/ireneky/HiCFoundation/miniconda3/envs/higashi/lib/python3.9/multiprocessing/synchronize.py\", line 95, in __enter__\n",
      "    return self._semlock.__enter__()\n",
      "KeyboardInterrupt\n",
      "KeyboardInterrupt\n",
      "KeyboardInterrupt\n",
      "KeyboardInterrupt\n",
      "KeyboardInterrupt\n",
      "  File \"/storage/ireneky/HiCFoundation/miniconda3/envs/higashi/lib/python3.9/multiprocessing/synchronize.py\", line 95, in __enter__\n",
      "    return self._semlock.__enter__()\n",
      "  File \"/storage/ireneky/HiCFoundation/miniconda3/envs/higashi/lib/python3.9/multiprocessing/synchronize.py\", line 95, in __enter__\n",
      "    return self._semlock.__enter__()\n",
      "  File \"/storage/ireneky/HiCFoundation/miniconda3/envs/higashi/lib/python3.9/multiprocessing/synchronize.py\", line 95, in __enter__\n",
      "    return self._semlock.__enter__()\n",
      "  File \"/storage/ireneky/HiCFoundation/miniconda3/envs/higashi/lib/python3.9/multiprocessing/queues.py\", line 102, in get\n",
      "    with self._rlock:\n",
      "  File \"/storage/ireneky/HiCFoundation/miniconda3/envs/higashi/lib/python3.9/multiprocessing/synchronize.py\", line 95, in __enter__\n",
      "    return self._semlock.__enter__()\n",
      "KeyboardInterrupt\n",
      "KeyboardInterrupt\n",
      "  File \"/storage/ireneky/HiCFoundation/miniconda3/envs/higashi/lib/python3.9/multiprocessing/connection.py\", line 379, in _recv\n",
      "    chunk = read(handle, remaining)\n",
      "  File \"/storage/ireneky/HiCFoundation/miniconda3/envs/higashi/lib/python3.9/multiprocessing/synchronize.py\", line 95, in __enter__\n",
      "    return self._semlock.__enter__()\n",
      "  File \"/storage/ireneky/HiCFoundation/miniconda3/envs/higashi/lib/python3.9/multiprocessing/synchronize.py\", line 95, in __enter__\n",
      "    return self._semlock.__enter__()\n",
      "  File \"/storage/ireneky/HiCFoundation/miniconda3/envs/higashi/lib/python3.9/multiprocessing/synchronize.py\", line 95, in __enter__\n",
      "    return self._semlock.__enter__()\n",
      "KeyboardInterrupt\n",
      "  File \"/storage/ireneky/HiCFoundation/miniconda3/envs/higashi/lib/python3.9/multiprocessing/synchronize.py\", line 95, in __enter__\n",
      "    return self._semlock.__enter__()\n",
      "  File \"/storage/ireneky/HiCFoundation/miniconda3/envs/higashi/lib/python3.9/multiprocessing/synchronize.py\", line 95, in __enter__\n",
      "    return self._semlock.__enter__()\n",
      "  File \"/storage/ireneky/HiCFoundation/miniconda3/envs/higashi/lib/python3.9/multiprocessing/synchronize.py\", line 95, in __enter__\n",
      "    return self._semlock.__enter__()\n",
      "  File \"/storage/ireneky/HiCFoundation/miniconda3/envs/higashi/lib/python3.9/multiprocessing/queues.py\", line 102, in get\n",
      "    with self._rlock:\n",
      "  File \"/storage/ireneky/HiCFoundation/miniconda3/envs/higashi/lib/python3.9/multiprocessing/synchronize.py\", line 95, in __enter__\n",
      "    return self._semlock.__enter__()\n",
      "  File \"/storage/ireneky/HiCFoundation/miniconda3/envs/higashi/lib/python3.9/multiprocessing/synchronize.py\", line 95, in __enter__\n",
      "    return self._semlock.__enter__()\n",
      "KeyboardInterrupt\n",
      "KeyboardInterrupt\n",
      "  File \"/storage/ireneky/HiCFoundation/miniconda3/envs/higashi/lib/python3.9/multiprocessing/synchronize.py\", line 95, in __enter__\n",
      "    return self._semlock.__enter__()\n",
      "  File \"/storage/ireneky/HiCFoundation/miniconda3/envs/higashi/lib/python3.9/multiprocessing/synchronize.py\", line 95, in __enter__\n",
      "    return self._semlock.__enter__()\n",
      "  File \"/storage/ireneky/HiCFoundation/miniconda3/envs/higashi/lib/python3.9/multiprocessing/synchronize.py\", line 95, in __enter__\n",
      "    return self._semlock.__enter__()\n",
      "KeyboardInterrupt\n",
      "KeyboardInterrupt\n",
      "  File \"/storage/ireneky/HiCFoundation/miniconda3/envs/higashi/lib/python3.9/multiprocessing/queues.py\", line 102, in get\n",
      "    with self._rlock:\n",
      "KeyboardInterrupt\n",
      "  File \"/storage/ireneky/HiCFoundation/miniconda3/envs/higashi/lib/python3.9/multiprocessing/synchronize.py\", line 95, in __enter__\n",
      "    return self._semlock.__enter__()\n",
      "KeyboardInterrupt\n",
      "KeyboardInterrupt\n",
      "KeyboardInterrupt\n",
      "KeyboardInterrupt\n",
      "KeyboardInterrupt\n",
      "  File \"/storage/ireneky/HiCFoundation/miniconda3/envs/higashi/lib/python3.9/multiprocessing/synchronize.py\", line 95, in __enter__\n",
      "    return self._semlock.__enter__()\n",
      "  File \"/storage/ireneky/HiCFoundation/miniconda3/envs/higashi/lib/python3.9/multiprocessing/synchronize.py\", line 95, in __enter__\n",
      "    return self._semlock.__enter__()\n",
      "KeyboardInterrupt\n",
      "KeyboardInterrupt\n",
      "KeyboardInterrupt\n",
      "KeyboardInterrupt\n",
      "KeyboardInterrupt\n",
      "KeyboardInterrupt\n",
      "  File \"/storage/ireneky/HiCFoundation/miniconda3/envs/higashi/lib/python3.9/multiprocessing/synchronize.py\", line 95, in __enter__\n",
      "    return self._semlock.__enter__()\n",
      "KeyboardInterrupt\n",
      "KeyboardInterrupt\n",
      "KeyboardInterrupt\n",
      "KeyboardInterrupt\n",
      "  File \"/storage/ireneky/HiCFoundation/miniconda3/envs/higashi/lib/python3.9/multiprocessing/synchronize.py\", line 95, in __enter__\n",
      "    return self._semlock.__enter__()\n",
      "KeyboardInterrupt\n",
      "KeyboardInterrupt\n",
      "  File \"/storage/ireneky/HiCFoundation/miniconda3/envs/higashi/lib/python3.9/multiprocessing/synchronize.py\", line 95, in __enter__\n",
      "    return self._semlock.__enter__()\n",
      "KeyboardInterrupt\n",
      "  File \"/storage/ireneky/HiCFoundation/miniconda3/envs/higashi/lib/python3.9/multiprocessing/queues.py\", line 102, in get\n",
      "    with self._rlock:\n",
      "KeyboardInterrupt\n",
      "KeyboardInterrupt\n",
      "  File \"/storage/ireneky/HiCFoundation/miniconda3/envs/higashi/lib/python3.9/multiprocessing/synchronize.py\", line 95, in __enter__\n",
      "    return self._semlock.__enter__()\n",
      "  File \"/storage/ireneky/HiCFoundation/miniconda3/envs/higashi/lib/python3.9/multiprocessing/synchronize.py\", line 95, in __enter__\n",
      "    return self._semlock.__enter__()\n",
      "KeyboardInterrupt\n",
      "KeyboardInterrupt\n",
      "  File \"/storage/ireneky/HiCFoundation/miniconda3/envs/higashi/lib/python3.9/multiprocessing/synchronize.py\", line 95, in __enter__\n",
      "    return self._semlock.__enter__()\n",
      "KeyboardInterrupt\n",
      "  File \"/storage/ireneky/HiCFoundation/miniconda3/envs/higashi/lib/python3.9/multiprocessing/synchronize.py\", line 95, in __enter__\n",
      "    return self._semlock.__enter__()\n",
      "KeyboardInterrupt\n",
      "KeyboardInterrupt\n",
      "  File \"/storage/ireneky/HiCFoundation/miniconda3/envs/higashi/lib/python3.9/multiprocessing/synchronize.py\", line 95, in __enter__\n",
      "    return self._semlock.__enter__()\n",
      "  File \"/storage/ireneky/HiCFoundation/miniconda3/envs/higashi/lib/python3.9/multiprocessing/queues.py\", line 102, in get\n",
      "    with self._rlock:\n",
      "KeyboardInterrupt\n",
      "  File \"/storage/ireneky/HiCFoundation/miniconda3/envs/higashi/lib/python3.9/multiprocessing/synchronize.py\", line 95, in __enter__\n",
      "    return self._semlock.__enter__()\n",
      "  File \"/storage/ireneky/HiCFoundation/miniconda3/envs/higashi/lib/python3.9/multiprocessing/queues.py\", line 102, in get\n",
      "    with self._rlock:\n",
      "KeyboardInterrupt\n",
      "KeyboardInterrupt\n",
      "KeyboardInterrupt\n",
      "KeyboardInterrupt\n",
      "KeyboardInterrupt\n",
      "KeyboardInterrupt\n",
      "KeyboardInterrupt\n",
      "KeyboardInterrupt\n",
      "KeyboardInterrupt\n",
      "KeyboardInterrupt\n",
      "KeyboardInterrupt\n",
      "  File \"/storage/ireneky/HiCFoundation/miniconda3/envs/higashi/lib/python3.9/multiprocessing/synchronize.py\", line 95, in __enter__\n",
      "    return self._semlock.__enter__()\n",
      "  File \"/storage/ireneky/HiCFoundation/miniconda3/envs/higashi/lib/python3.9/multiprocessing/connection.py\", line 414, in _recv_bytes\n",
      "    buf = self._recv(4)\n",
      "KeyboardInterrupt\n",
      "KeyboardInterrupt\n",
      "  File \"/storage/ireneky/HiCFoundation/miniconda3/envs/higashi/lib/python3.9/multiprocessing/synchronize.py\", line 95, in __enter__\n",
      "    return self._semlock.__enter__()\n",
      "KeyboardInterrupt\n",
      "KeyboardInterrupt\n",
      "  File \"/storage/ireneky/HiCFoundation/miniconda3/envs/higashi/lib/python3.9/multiprocessing/synchronize.py\", line 95, in __enter__\n",
      "    return self._semlock.__enter__()\n",
      "KeyboardInterrupt\n",
      "  File \"/storage/ireneky/HiCFoundation/miniconda3/envs/higashi/lib/python3.9/multiprocessing/queues.py\", line 102, in get\n",
      "    with self._rlock:\n",
      "KeyboardInterrupt\n",
      "KeyboardInterrupt\n",
      "KeyboardInterrupt\n",
      "  File \"/storage/ireneky/HiCFoundation/miniconda3/envs/higashi/lib/python3.9/multiprocessing/connection.py\", line 379, in _recv\n",
      "    chunk = read(handle, remaining)\n",
      "  File \"/storage/ireneky/HiCFoundation/miniconda3/envs/higashi/lib/python3.9/multiprocessing/synchronize.py\", line 95, in __enter__\n",
      "    return self._semlock.__enter__()\n",
      "KeyboardInterrupt\n",
      "  File \"/storage/ireneky/HiCFoundation/miniconda3/envs/higashi/lib/python3.9/multiprocessing/synchronize.py\", line 95, in __enter__\n",
      "    return self._semlock.__enter__()\n",
      "KeyboardInterrupt\n",
      "KeyboardInterrupt\n",
      "KeyboardInterrupt\n"
     ]
    },
    {
     "ename": "KeyboardInterrupt",
     "evalue": "",
     "output_type": "error",
     "traceback": [
      "\u001b[0;31m---------------------------------------------------------------------------\u001b[0m",
      "\u001b[0;31mKeyboardInterrupt\u001b[0m                         Traceback (most recent call last)",
      "Cell \u001b[0;32mIn[18], line 10\u001b[0m\n\u001b[1;32m      7\u001b[0m higashi_model\u001b[38;5;241m.\u001b[39mprocess_data()\n\u001b[1;32m      8\u001b[0m higashi_model\u001b[38;5;241m.\u001b[39mprep_model()\n\u001b[0;32m---> 10\u001b[0m \u001b[43mhigashi_model\u001b[49m\u001b[38;5;241;43m.\u001b[39;49m\u001b[43mtrain_for_embeddings\u001b[49m\u001b[43m(\u001b[49m\u001b[43m)\u001b[49m\n\u001b[1;32m     12\u001b[0m \u001b[38;5;66;03m# Visualize embedding results\u001b[39;00m\n\u001b[1;32m     13\u001b[0m cell_embeddings \u001b[38;5;241m=\u001b[39m higashi_model\u001b[38;5;241m.\u001b[39mfetch_cell_embeddings()\n",
      "File \u001b[0;32m/storage/ireneky/HiCFoundation/miniconda3/envs/higashi/lib/python3.9/site-packages/higashi/Higashi_wrapper.py:1361\u001b[0m, in \u001b[0;36mHigashi.train_for_embeddings\u001b[0;34m(self, max_epochs)\u001b[0m\n\u001b[1;32m   1359\u001b[0m \u001b[38;5;28mself\u001b[39m\u001b[38;5;241m.\u001b[39mhigashi_model\u001b[38;5;241m.\u001b[39monly_distance \u001b[38;5;241m=\u001b[39m \u001b[38;5;28;01mFalse\u001b[39;00m\n\u001b[1;32m   1360\u001b[0m \u001b[38;5;28mself\u001b[39m\u001b[38;5;241m.\u001b[39muse_recon \u001b[38;5;241m=\u001b[39m \u001b[38;5;28;01mTrue\u001b[39;00m\n\u001b[0;32m-> 1361\u001b[0m \u001b[38;5;28;43mself\u001b[39;49m\u001b[38;5;241;43m.\u001b[39;49m\u001b[43mtrain\u001b[49m\u001b[43m(\u001b[49m\n\u001b[1;32m   1362\u001b[0m \u001b[43m      \u001b[49m\u001b[43mtraining_data_generator\u001b[49m\u001b[38;5;241;43m=\u001b[39;49m\u001b[38;5;28;43mself\u001b[39;49m\u001b[38;5;241;43m.\u001b[39;49m\u001b[43mtraining_data_generator\u001b[49m\u001b[43m,\u001b[49m\n\u001b[1;32m   1363\u001b[0m \u001b[43m      \u001b[49m\u001b[43mvalidation_data_generator\u001b[49m\u001b[38;5;241;43m=\u001b[39;49m\u001b[38;5;28;43mself\u001b[39;49m\u001b[38;5;241;43m.\u001b[39;49m\u001b[43mvalidation_data_generator\u001b[49m\u001b[43m,\u001b[49m\n\u001b[1;32m   1364\u001b[0m \u001b[43m      \u001b[49m\u001b[43moptimizer\u001b[49m\u001b[38;5;241;43m=\u001b[39;49m\u001b[43m[\u001b[49m\u001b[43moptimizer\u001b[49m\u001b[43m]\u001b[49m\u001b[43m,\u001b[49m\u001b[43m \u001b[49m\u001b[43mepochs\u001b[49m\u001b[38;5;241;43m=\u001b[39;49m\u001b[38;5;28;43mself\u001b[39;49m\u001b[38;5;241;43m.\u001b[39;49m\u001b[43membedding_epoch\u001b[49m\u001b[43m \u001b[49m\u001b[38;5;28;43;01mif\u001b[39;49;00m\u001b[43m \u001b[49m\u001b[43mmax_epochs\u001b[49m\u001b[43m \u001b[49m\u001b[38;5;129;43;01mis\u001b[39;49;00m\u001b[43m \u001b[49m\u001b[38;5;28;43;01mNone\u001b[39;49;00m\u001b[43m \u001b[49m\u001b[38;5;28;43;01melse\u001b[39;49;00m\u001b[43m \u001b[49m\u001b[43mmax_epochs\u001b[49m\u001b[43m,\u001b[49m\n\u001b[1;32m   1365\u001b[0m \u001b[43m      \u001b[49m\u001b[43mload_first\u001b[49m\u001b[38;5;241;43m=\u001b[39;49m\u001b[38;5;28;43;01mFalse\u001b[39;49;00m\u001b[43m,\u001b[49m\u001b[43m \u001b[49m\u001b[43msave_embed\u001b[49m\u001b[38;5;241;43m=\u001b[39;49m\u001b[38;5;28;43;01mTrue\u001b[39;49;00m\u001b[43m,\u001b[49m\u001b[43m \u001b[49m\u001b[43msave_name\u001b[49m\u001b[38;5;241;43m=\u001b[39;49m\u001b[38;5;124;43m\"\u001b[39;49m\u001b[38;5;124;43m_stage1\u001b[39;49m\u001b[38;5;124;43m\"\u001b[39;49m\u001b[43m)\u001b[49m\n\u001b[1;32m   1367\u001b[0m checkpoint \u001b[38;5;241m=\u001b[39m {\n\u001b[1;32m   1368\u001b[0m \t\u001b[38;5;124m'\u001b[39m\u001b[38;5;124mmodel_link\u001b[39m\u001b[38;5;124m'\u001b[39m: \u001b[38;5;28mself\u001b[39m\u001b[38;5;241m.\u001b[39mhigashi_model\u001b[38;5;241m.\u001b[39mstate_dict()}\n\u001b[1;32m   1370\u001b[0m torch\u001b[38;5;241m.\u001b[39msave(checkpoint, \u001b[38;5;28mself\u001b[39m\u001b[38;5;241m.\u001b[39msave_path \u001b[38;5;241m+\u001b[39m \u001b[38;5;124m\"\u001b[39m\u001b[38;5;124m_stage1\u001b[39m\u001b[38;5;124m\"\u001b[39m)\n",
      "File \u001b[0;32m/storage/ireneky/HiCFoundation/miniconda3/envs/higashi/lib/python3.9/site-packages/higashi/Higashi_wrapper.py:1137\u001b[0m, in \u001b[0;36mHigashi.train\u001b[0;34m(self, training_data_generator, validation_data_generator, optimizer, epochs, load_first, save_embed, save_name)\u001b[0m\n\u001b[1;32m   1130\u001b[0m \teval_p_list\u001b[38;5;241m.\u001b[39mappend(\n\u001b[1;32m   1131\u001b[0m \t\teval_pool\u001b[38;5;241m.\u001b[39msubmit(one_thread_generate_neg, edges_part, edges_chrom, edge_weight_part,\n\u001b[1;32m   1132\u001b[0m \t\t                 \u001b[38;5;241m1\u001b[39m, \u001b[38;5;28;01mFalse\u001b[39;00m,\n\u001b[1;32m   1133\u001b[0m \t\t                 chroms_in_batch))\n\u001b[1;32m   1135\u001b[0m start \u001b[38;5;241m=\u001b[39m time\u001b[38;5;241m.\u001b[39mtime()\n\u001b[0;32m-> 1137\u001b[0m bce_loss, mse_loss, train_accu, auc1, auc2, str1, str2, train_pool, train_p_list \u001b[38;5;241m=\u001b[39m \u001b[38;5;28;43mself\u001b[39;49m\u001b[38;5;241;43m.\u001b[39;49m\u001b[43mtrain_epoch\u001b[49m\u001b[43m(\u001b[49m\n\u001b[1;32m   1138\u001b[0m \u001b[43m\t\u001b[49m\u001b[43mtraining_data_generator\u001b[49m\u001b[43m,\u001b[49m\u001b[43m \u001b[49m\u001b[43moptimizer\u001b[49m\u001b[43m,\u001b[49m\u001b[43m \u001b[49m\u001b[43mtrain_pool\u001b[49m\u001b[43m,\u001b[49m\u001b[43m \u001b[49m\u001b[43mtrain_p_list\u001b[49m\u001b[43m)\u001b[49m\n\u001b[1;32m   1139\u001b[0m \u001b[38;5;28mprint\u001b[39m(\u001b[38;5;124m'\u001b[39m\u001b[38;5;124m- (Train)   bce: \u001b[39m\u001b[38;5;132;01m{bce_loss: 7.4f}\u001b[39;00m\u001b[38;5;124m, mse: \u001b[39m\u001b[38;5;132;01m{mse_loss: 7.4f}\u001b[39;00m\u001b[38;5;124m, \u001b[39m\u001b[38;5;124m'\u001b[39m\n\u001b[1;32m   1140\u001b[0m       \u001b[38;5;124m'\u001b[39m\u001b[38;5;124m acc: \u001b[39m\u001b[38;5;132;01m{accu:3.3f}\u001b[39;00m\u001b[38;5;124m \u001b[39m\u001b[38;5;124m%\u001b[39m\u001b[38;5;124m, \u001b[39m\u001b[38;5;132;01m{str1}\u001b[39;00m\u001b[38;5;124m: \u001b[39m\u001b[38;5;132;01m{auc1:3.3f}\u001b[39;00m\u001b[38;5;124m, \u001b[39m\u001b[38;5;132;01m{str2}\u001b[39;00m\u001b[38;5;124m: \u001b[39m\u001b[38;5;132;01m{auc2:3.3f}\u001b[39;00m\u001b[38;5;124m, \u001b[39m\u001b[38;5;124m'\u001b[39m\n\u001b[1;32m   1141\u001b[0m       \u001b[38;5;124m'\u001b[39m\u001b[38;5;124melapse: \u001b[39m\u001b[38;5;132;01m{elapse:3.3f}\u001b[39;00m\u001b[38;5;124m s\u001b[39m\u001b[38;5;124m'\u001b[39m\u001b[38;5;241m.\u001b[39mformat(\n\u001b[0;32m   (...)\u001b[0m\n\u001b[1;32m   1149\u001b[0m \tauc2\u001b[38;5;241m=\u001b[39mauc2,\n\u001b[1;32m   1150\u001b[0m \telapse\u001b[38;5;241m=\u001b[39m(time\u001b[38;5;241m.\u001b[39mtime() \u001b[38;5;241m-\u001b[39m start)))\n\u001b[1;32m   1152\u001b[0m start \u001b[38;5;241m=\u001b[39m time\u001b[38;5;241m.\u001b[39mtime()\n",
      "File \u001b[0;32m/storage/ireneky/HiCFoundation/miniconda3/envs/higashi/lib/python3.9/site-packages/higashi/Higashi_wrapper.py:973\u001b[0m, in \u001b[0;36mHigashi.train_epoch\u001b[0;34m(self, training_data_generator, optimizer_list, train_pool, train_p_list)\u001b[0m\n\u001b[1;32m    971\u001b[0m \u001b[38;5;28;01mfor\u001b[39;00m opt \u001b[38;5;129;01min\u001b[39;00m optimizer_list:\n\u001b[1;32m    972\u001b[0m \topt\u001b[38;5;241m.\u001b[39mzero_grad(set_to_none\u001b[38;5;241m=\u001b[39m\u001b[38;5;28;01mTrue\u001b[39;00m)\n\u001b[0;32m--> 973\u001b[0m \u001b[43mloss_bce\u001b[49m\u001b[38;5;241;43m.\u001b[39;49m\u001b[43mbackward\u001b[49m\u001b[43m(\u001b[49m\u001b[43mretain_graph\u001b[49m\u001b[38;5;241;43m=\u001b[39;49m\u001b[38;5;28;43;01mTrue\u001b[39;49;00m\u001b[43m)\u001b[49m\n\u001b[1;32m    974\u001b[0m \u001b[38;5;28;01mtry\u001b[39;00m:\n\u001b[1;32m    975\u001b[0m \tmain_norm \u001b[38;5;241m=\u001b[39m \u001b[38;5;28mself\u001b[39m\u001b[38;5;241m.\u001b[39mnode_embedding_init\u001b[38;5;241m.\u001b[39mwstack[\u001b[38;5;241m0\u001b[39m]\u001b[38;5;241m.\u001b[39mweight_list[\u001b[38;5;241m0\u001b[39m]\u001b[38;5;241m.\u001b[39mgrad\u001b[38;5;241m.\u001b[39mdata\u001b[38;5;241m.\u001b[39mnorm(\u001b[38;5;241m2\u001b[39m)\n",
      "File \u001b[0;32m/storage/ireneky/HiCFoundation/miniconda3/envs/higashi/lib/python3.9/site-packages/torch/tensor.py:245\u001b[0m, in \u001b[0;36mTensor.backward\u001b[0;34m(self, gradient, retain_graph, create_graph, inputs)\u001b[0m\n\u001b[1;32m    236\u001b[0m \u001b[38;5;28;01mif\u001b[39;00m has_torch_function_unary(\u001b[38;5;28mself\u001b[39m):\n\u001b[1;32m    237\u001b[0m     \u001b[38;5;28;01mreturn\u001b[39;00m handle_torch_function(\n\u001b[1;32m    238\u001b[0m         Tensor\u001b[38;5;241m.\u001b[39mbackward,\n\u001b[1;32m    239\u001b[0m         (\u001b[38;5;28mself\u001b[39m,),\n\u001b[0;32m   (...)\u001b[0m\n\u001b[1;32m    243\u001b[0m         create_graph\u001b[38;5;241m=\u001b[39mcreate_graph,\n\u001b[1;32m    244\u001b[0m         inputs\u001b[38;5;241m=\u001b[39minputs)\n\u001b[0;32m--> 245\u001b[0m \u001b[43mtorch\u001b[49m\u001b[38;5;241;43m.\u001b[39;49m\u001b[43mautograd\u001b[49m\u001b[38;5;241;43m.\u001b[39;49m\u001b[43mbackward\u001b[49m\u001b[43m(\u001b[49m\u001b[38;5;28;43mself\u001b[39;49m\u001b[43m,\u001b[49m\u001b[43m \u001b[49m\u001b[43mgradient\u001b[49m\u001b[43m,\u001b[49m\u001b[43m \u001b[49m\u001b[43mretain_graph\u001b[49m\u001b[43m,\u001b[49m\u001b[43m \u001b[49m\u001b[43mcreate_graph\u001b[49m\u001b[43m,\u001b[49m\u001b[43m \u001b[49m\u001b[43minputs\u001b[49m\u001b[38;5;241;43m=\u001b[39;49m\u001b[43minputs\u001b[49m\u001b[43m)\u001b[49m\n",
      "File \u001b[0;32m/storage/ireneky/HiCFoundation/miniconda3/envs/higashi/lib/python3.9/site-packages/torch/autograd/__init__.py:145\u001b[0m, in \u001b[0;36mbackward\u001b[0;34m(tensors, grad_tensors, retain_graph, create_graph, grad_variables, inputs)\u001b[0m\n\u001b[1;32m    103\u001b[0m \u001b[38;5;28;01mdef\u001b[39;00m\u001b[38;5;250m \u001b[39m\u001b[38;5;21mbackward\u001b[39m(\n\u001b[1;32m    104\u001b[0m     tensors: _TensorOrTensors,\n\u001b[1;32m    105\u001b[0m     grad_tensors: Optional[_TensorOrTensors] \u001b[38;5;241m=\u001b[39m \u001b[38;5;28;01mNone\u001b[39;00m,\n\u001b[0;32m   (...)\u001b[0m\n\u001b[1;32m    109\u001b[0m     inputs: Optional[_TensorOrTensors] \u001b[38;5;241m=\u001b[39m \u001b[38;5;28;01mNone\u001b[39;00m,\n\u001b[1;32m    110\u001b[0m ) \u001b[38;5;241m-\u001b[39m\u001b[38;5;241m>\u001b[39m \u001b[38;5;28;01mNone\u001b[39;00m:\n\u001b[1;32m    111\u001b[0m \u001b[38;5;250m    \u001b[39m\u001b[38;5;124mr\u001b[39m\u001b[38;5;124;03m\"\"\"Computes the sum of gradients of given tensors with respect to graph\u001b[39;00m\n\u001b[1;32m    112\u001b[0m \u001b[38;5;124;03m    leaves.\u001b[39;00m\n\u001b[1;32m    113\u001b[0m \n\u001b[1;32m    114\u001b[0m \u001b[38;5;124;03m    The graph is differentiated using the chain rule. If any of ``tensors``\u001b[39;00m\n\u001b[1;32m    115\u001b[0m \u001b[38;5;124;03m    are non-scalar (i.e. their data has more than one element) and require\u001b[39;00m\n\u001b[1;32m    116\u001b[0m \u001b[38;5;124;03m    gradient, then the Jacobian-vector product would be computed, in this\u001b[39;00m\n\u001b[1;32m    117\u001b[0m \u001b[38;5;124;03m    case the function additionally requires specifying ``grad_tensors``.\u001b[39;00m\n\u001b[1;32m    118\u001b[0m \u001b[38;5;124;03m    It should be a sequence of matching length, that contains the \"vector\"\u001b[39;00m\n\u001b[1;32m    119\u001b[0m \u001b[38;5;124;03m    in the Jacobian-vector product, usually the gradient of the differentiated\u001b[39;00m\n\u001b[1;32m    120\u001b[0m \u001b[38;5;124;03m    function w.r.t. corresponding tensors (``None`` is an acceptable value for\u001b[39;00m\n\u001b[1;32m    121\u001b[0m \u001b[38;5;124;03m    all tensors that don't need gradient tensors).\u001b[39;00m\n\u001b[1;32m    122\u001b[0m \n\u001b[1;32m    123\u001b[0m \u001b[38;5;124;03m    This function accumulates gradients in the leaves - you might need to zero\u001b[39;00m\n\u001b[1;32m    124\u001b[0m \u001b[38;5;124;03m    ``.grad`` attributes or set them to ``None`` before calling it.\u001b[39;00m\n\u001b[1;32m    125\u001b[0m \u001b[38;5;124;03m    See :ref:`Default gradient layouts<default-grad-layouts>`\u001b[39;00m\n\u001b[1;32m    126\u001b[0m \u001b[38;5;124;03m    for details on the memory layout of accumulated gradients.\u001b[39;00m\n\u001b[1;32m    127\u001b[0m \n\u001b[1;32m    128\u001b[0m \u001b[38;5;124;03m    .. note::\u001b[39;00m\n\u001b[1;32m    129\u001b[0m \u001b[38;5;124;03m        Using this method with ``create_graph=True`` will create a reference cycle\u001b[39;00m\n\u001b[1;32m    130\u001b[0m \u001b[38;5;124;03m        between the parameter and its gradient which can cause a memory leak.\u001b[39;00m\n\u001b[1;32m    131\u001b[0m \u001b[38;5;124;03m        We recommend using ``autograd.grad`` when creating the graph to avoid this.\u001b[39;00m\n\u001b[1;32m    132\u001b[0m \u001b[38;5;124;03m        If you have to use this function, make sure to reset the ``.grad`` fields of your\u001b[39;00m\n\u001b[1;32m    133\u001b[0m \u001b[38;5;124;03m        parameters to ``None`` after use to break the cycle and avoid the leak.\u001b[39;00m\n\u001b[1;32m    134\u001b[0m \n\u001b[1;32m    135\u001b[0m \u001b[38;5;124;03m    .. note::\u001b[39;00m\n\u001b[1;32m    136\u001b[0m \n\u001b[1;32m    137\u001b[0m \u001b[38;5;124;03m        If you run any forward ops, create ``grad_tensors``, and/or call ``backward``\u001b[39;00m\n\u001b[1;32m    138\u001b[0m \u001b[38;5;124;03m        in a user-specified CUDA stream context, see\u001b[39;00m\n\u001b[1;32m    139\u001b[0m \u001b[38;5;124;03m        :ref:`Stream semantics of backward passes<bwd-cuda-stream-semantics>`.\u001b[39;00m\n\u001b[1;32m    140\u001b[0m \n\u001b[1;32m    141\u001b[0m \u001b[38;5;124;03m    .. note::\u001b[39;00m\n\u001b[1;32m    142\u001b[0m \n\u001b[1;32m    143\u001b[0m \u001b[38;5;124;03m        When ``inputs`` are provided and a given input is not a leaf,\u001b[39;00m\n\u001b[1;32m    144\u001b[0m \u001b[38;5;124;03m        the current implementation will call its grad_fn (even though it is not strictly needed to get this gradients).\u001b[39;00m\n\u001b[0;32m--> 145\u001b[0m \u001b[38;5;124;03m        It is an implementation detail on which the user should not rely.\u001b[39;00m\n\u001b[1;32m    146\u001b[0m \u001b[38;5;124;03m        See https://github.com/pytorch/pytorch/pull/60521#issuecomment-867061780 for more details.\u001b[39;00m\n\u001b[1;32m    147\u001b[0m \n\u001b[1;32m    148\u001b[0m \u001b[38;5;124;03m    Args:\u001b[39;00m\n\u001b[1;32m    149\u001b[0m \u001b[38;5;124;03m        tensors (Sequence[Tensor] or Tensor): Tensors of which the derivative will be\u001b[39;00m\n\u001b[1;32m    150\u001b[0m \u001b[38;5;124;03m            computed.\u001b[39;00m\n\u001b[1;32m    151\u001b[0m \u001b[38;5;124;03m        grad_tensors (Sequence[Tensor or None] or Tensor, optional): The \"vector\" in\u001b[39;00m\n\u001b[1;32m    152\u001b[0m \u001b[38;5;124;03m            the Jacobian-vector product, usually gradients w.r.t. each element of\u001b[39;00m\n\u001b[1;32m    153\u001b[0m \u001b[38;5;124;03m            corresponding tensors. None values can be specified for scalar Tensors or\u001b[39;00m\n\u001b[1;32m    154\u001b[0m \u001b[38;5;124;03m            ones that don't require grad. If a None value would be acceptable for all\u001b[39;00m\n\u001b[1;32m    155\u001b[0m \u001b[38;5;124;03m            grad_tensors, then this argument is optional.\u001b[39;00m\n\u001b[1;32m    156\u001b[0m \u001b[38;5;124;03m        retain_graph (bool, optional): If ``False``, the graph used to compute the grad\u001b[39;00m\n\u001b[1;32m    157\u001b[0m \u001b[38;5;124;03m            will be freed. Note that in nearly all cases setting this option to ``True``\u001b[39;00m\n\u001b[1;32m    158\u001b[0m \u001b[38;5;124;03m            is not needed and often can be worked around in a much more efficient\u001b[39;00m\n\u001b[1;32m    159\u001b[0m \u001b[38;5;124;03m            way. Defaults to the value of ``create_graph``.\u001b[39;00m\n\u001b[1;32m    160\u001b[0m \u001b[38;5;124;03m        create_graph (bool, optional): If ``True``, graph of the derivative will\u001b[39;00m\n\u001b[1;32m    161\u001b[0m \u001b[38;5;124;03m            be constructed, allowing to compute higher order derivative products.\u001b[39;00m\n\u001b[1;32m    162\u001b[0m \u001b[38;5;124;03m            Defaults to ``False``.\u001b[39;00m\n\u001b[1;32m    163\u001b[0m \u001b[38;5;124;03m        inputs (Sequence[Tensor] or Tensor, optional): Inputs w.r.t. which the gradient\u001b[39;00m\n\u001b[1;32m    164\u001b[0m \u001b[38;5;124;03m            be will accumulated into ``.grad``. All other Tensors will be ignored. If\u001b[39;00m\n\u001b[1;32m    165\u001b[0m \u001b[38;5;124;03m            not provided, the gradient is accumulated into all the leaf Tensors that\u001b[39;00m\n\u001b[1;32m    166\u001b[0m \u001b[38;5;124;03m            were used to compute the attr::tensors.\u001b[39;00m\n\u001b[1;32m    167\u001b[0m \u001b[38;5;124;03m    \"\"\"\u001b[39;00m\n\u001b[1;32m    168\u001b[0m     \u001b[38;5;28;01mif\u001b[39;00m torch\u001b[38;5;241m.\u001b[39m_C\u001b[38;5;241m.\u001b[39m_are_functorch_transforms_active():\n\u001b[1;32m    169\u001b[0m         \u001b[38;5;28;01mraise\u001b[39;00m \u001b[38;5;167;01mRuntimeError\u001b[39;00m(\n\u001b[1;32m    170\u001b[0m             \u001b[38;5;124m\"\u001b[39m\u001b[38;5;124mbackward() called inside a functorch transform. This is not \u001b[39m\u001b[38;5;124m\"\u001b[39m\n\u001b[1;32m    171\u001b[0m             \u001b[38;5;124m\"\u001b[39m\u001b[38;5;124msupported, please use functorch.grad or functorch.vjp instead \u001b[39m\u001b[38;5;124m\"\u001b[39m\n\u001b[1;32m    172\u001b[0m             \u001b[38;5;124m\"\u001b[39m\u001b[38;5;124mor call backward() outside of functorch transforms.\u001b[39m\u001b[38;5;124m\"\u001b[39m)\n",
      "\u001b[0;31mKeyboardInterrupt\u001b[0m: "
     ]
    }
   ],
   "source": [
    "config = \"/storage/ireneky/ireneky_cse428/config/config_brain_80.JSON\" #change embedding epochs to 80\n",
    "# Initialize the Higashi instance\n",
    "higashi_model = Higashi(config)\n",
    "\n",
    "# Data processing (only needs to be run for once)\n",
    "higashi_model.process_data()\n",
    "higashi_model.prep_model()\n",
    "\n",
    "higashi_model.train_for_embeddings()\n",
    "\n",
    "# Visualize embedding results\n",
    "cell_embeddings = higashi_model.fetch_cell_embeddings()\n",
    "print (cell_embeddings.shape)\n",
    "\n",
    "from umap import UMAP\n",
    "import seaborn as sns\n",
    "import matplotlib.pyplot as plt\n",
    "\n",
    "vec = UMAP(n_components=2, n_neighbors=25, random_state=0).fit_transform(cell_embeddings)\n",
    "cell_type = higashi_model.label_info['cell type']\n",
    "batch = higashi_model.label_info['batch']\n",
    "fig = plt.figure(figsize=(14, 5))\n",
    "ax = plt.subplot(1, 2, 1)\n",
    "sns.scatterplot(x=vec[:, 0], y=vec[:, 1], hue=cell_type, ax=ax, s=5, alpha=0.8, linewidth=0, hue_order=['Ex1','Ex2','In1', 'Ast','Oli','In2'])\n",
    "handles, labels = ax.get_legend_handles_labels()\n",
    "labels, handles = zip(*sorted(zip(labels, handles), key=lambda t: t[0]))\n",
    "ax.legend(handles=handles, labels=labels, bbox_to_anchor=(1.05, 1), loc=2, borderaxespad=0., ncol=1)\n",
    "ax = plt.subplot(1, 2, 2)\n",
    "#sns.scatterplot(x=vec[:, 0], y=vec[:, 1], hue=batch, ax=ax, s=5, alpha=0.8, linewidth=0)\n",
    "#handles, labels = ax.get_legend_handles_labels()\n",
    "#labels, handles = zip(*sorted(zip(labels, handles), key=lambda t: t[0]))\n",
    "#ax.legend(handles=handles, labels=labels, bbox_to_anchor=(1.05, 1), loc=2, borderaxespad=0., ncol=1)\n",
    "plt.tight_layout()\n",
    "plt.show()"
   ]
  },
  {
   "cell_type": "markdown",
   "id": "4ec325f9",
   "metadata": {},
   "source": [
    "Scores"
   ]
  },
  {
   "cell_type": "code",
   "execution_count": 19,
   "id": "ab4bb1da",
   "metadata": {},
   "outputs": [
    {
     "name": "stdout",
     "output_type": "stream",
     "text": [
      "Silhouette score: -0.113127284\n"
     ]
    }
   ],
   "source": [
    "from sklearn.metrics import silhouette_score\n",
    "\n",
    "# Assume: umap_embedding = 2D array (n_cells x 2), cell_type = categorical labels\n",
    "score = silhouette_score(cell_embeddings, cell_type)\n",
    "print(\"Silhouette score:\", score)\n"
   ]
  },
  {
   "cell_type": "code",
   "execution_count": 21,
   "id": "f0be9b06",
   "metadata": {},
   "outputs": [
    {
     "name": "stdout",
     "output_type": "stream",
     "text": [
      "KMeans labels: [3 2 5 2 0 4 2 4 3 2 4 3 2 0 0 0 2 2 0 2 3 2 4 0 2 2 0 4 3 2 0 0 0 2 0 2 0\n",
      " 0 0 2 4 0 0 2 4 3 2 3 2 3 4 4 3 3 3 3 2 3 5 4 2 3 2 3 2 5 3 2 2 4 3 5 4 0\n",
      " 2 0 0 0 3 3 2 0 3 2 3 2 3 3 5 2 0 2 2 2 3 2 0 3 2 0 3 2 0 3 4 3 4 3 3 2 3\n",
      " 4 3 3 3 0 4 2 5 2 3 4 2 2 4 4 4 3 4 3 2 3 4 2 0 0 3 3 2 3 3 3 3 3 3 3 4 2\n",
      " 2 3 2 3 3 2 3 3 3 3 3 3 3 3 4 2 3 3 3 2 3 2 3 2 2 2 2 3 3 3 3 3 4 3 2 4 3\n",
      " 4 4 3 2 3 4 3 3 0 2 4 5 2 2 3 2 2 3 3 2 2 3 3 2 2 3 2 3 2 4 2 3 2 2 3 2 3\n",
      " 3 4 3 3 2 3 2 2 0 2 0 0 0 0 2 0 4 5 0 2 0 0 2 0 2 0 5 0 0 0 0 0 5 5 1 0 0\n",
      " 0 4 5 4 0 1 1 1 1 0 5 2 5 3 3 2 1 1 2 2 1 1 1 0 1 1 0 1 1 1 2 1 3 0 1 3 1\n",
      " 3 2 3 3 2 2 3 3 2 3 2 3 3 2 3 0 2 3 0 3 3 0 3 2 2 3 3 3 3 2 3 0 4 3 2 3 3\n",
      " 3 3 3 3 3 3 4 2 2 2 2 2 3 3 3 3 3 2 3 3 3 2 3 2 3 2 2 3 2 5 2 4 4 0 2 3 5\n",
      " 5 5 5 4 5 5 5 5 5 5 5 5 5 5 5 5 5 5 5 5 5 5 5 5 5 5 4 5 5]\n",
      "Adjusted Rand Index: 0.10084358388331065\n",
      "Normalized Mutual Information: 0.22294480118739984\n"
     ]
    }
   ],
   "source": [
    "from sklearn.cluster import KMeans\n",
    "from sklearn.metrics import adjusted_rand_score, normalized_mutual_info_score\n",
    "\n",
    "kmeans_labels = KMeans(n_clusters=6).fit_predict(cell_embeddings)\n",
    "print(\"KMeans labels:\", kmeans_labels)\n",
    "ari = adjusted_rand_score(cell_type, kmeans_labels)\n",
    "print(\"Adjusted Rand Index:\", ari)\n",
    "nmi = normalized_mutual_info_score(cell_type, kmeans_labels)\n",
    "print(\"Normalized Mutual Information:\", nmi)\n"
   ]
  }
 ],
 "metadata": {
  "kernelspec": {
   "display_name": "Python (higashi)",
   "language": "python",
   "name": "higashi"
  },
  "language_info": {
   "codemirror_mode": {
    "name": "ipython",
    "version": 3
   },
   "file_extension": ".py",
   "mimetype": "text/x-python",
   "name": "python",
   "nbconvert_exporter": "python",
   "pygments_lexer": "ipython3",
   "version": "3.9.19"
  }
 },
 "nbformat": 4,
 "nbformat_minor": 5
}
