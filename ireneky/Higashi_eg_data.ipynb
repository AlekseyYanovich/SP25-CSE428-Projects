{
 "cells": [
  {
   "cell_type": "code",
   "execution_count": 1,
   "id": "c7c9d73b",
   "metadata": {},
   "outputs": [
    {
     "name": "stdout",
     "output_type": "stream",
     "text": [
      "/storage/ireneky/HiCFoundation/miniconda3/envs/higashi/bin/python\n"
     ]
    }
   ],
   "source": [
    "import sys\n",
    "print(sys.executable)"
   ]
  },
  {
   "cell_type": "markdown",
   "id": "044ddbf2",
   "metadata": {},
   "source": [
    "HIGASHI"
   ]
  },
  {
   "cell_type": "code",
   "execution_count": 2,
   "id": "9c33b3a1",
   "metadata": {},
   "outputs": [
    {
     "name": "stdout",
     "output_type": "stream",
     "text": [
      "/storage/ireneky/Higashi\n"
     ]
    }
   ],
   "source": [
    "cd /storage/ireneky/Higashi\n"
   ]
  },
  {
   "cell_type": "code",
   "execution_count": 3,
   "id": "c392c025",
   "metadata": {},
   "outputs": [
    {
     "name": "stdout",
     "output_type": "stream",
     "text": [
      "1.8.1\n",
      "1.24.3\n"
     ]
    }
   ],
   "source": [
    "import torch\n",
    "import numpy\n",
    "print(torch.__version__)\n",
    "print(numpy.__version__)\n"
   ]
  },
  {
   "cell_type": "code",
   "execution_count": 4,
   "id": "3c4acdbc",
   "metadata": {},
   "outputs": [],
   "source": [
    "from higashi.Higashi_wrapper import *\n",
    "# Set the path to the configuration file, change it accordingly\n",
    "config = \"/storage/ireneky/Higashi/config_dir/config_4DN_Kim.JSON\""
   ]
  },
  {
   "cell_type": "markdown",
   "id": "ca0952dc",
   "metadata": {},
   "source": [
    " Process data for higashi model & prep the higashi model for training and imputation"
   ]
  },
  {
   "cell_type": "code",
   "execution_count": 5,
   "id": "fee96fd4",
   "metadata": {},
   "outputs": [
    {
     "name": "stdout",
     "output_type": "stream",
     "text": [
      "generating start/end dict for chromosome\n",
      "extracting from data.txt\n",
      "First calculating how many lines are there\n",
      "There are 103497337 lines\n"
     ]
    },
    {
     "data": {
      "application/vnd.jupyter.widget-view+json": {
       "model_id": "f4908675a12c4ff6b69e03172321cb16",
       "version_major": 2,
       "version_minor": 0
      },
      "text/plain": [
       " - Processing :   0%|          | 0/103497337 [00:00<?, ?it/s]"
      ]
     },
     "metadata": {},
     "output_type": "display_data"
    },
    {
     "name": "stdout",
     "output_type": "stream",
     "text": [
      "generating contact maps for baseline\n",
      "data loaded\n",
      "generating interchromosomal contacts\n",
      "[[    0     0     0 ... 16176 16176 16176]\n",
      " [  205   226   406 ...  5638  5658  5669]\n",
      " [  954   778  1377 ...  5772  5771  5773]] 5776 [  0   0 499] [16706  5672  5775]\n",
      "(16707, 5776, 5776)\n"
     ]
    },
    {
     "data": {
      "application/vnd.jupyter.widget-view+json": {
       "model_id": "0de05d676cbf4748948220dde0631613",
       "version_major": 2,
       "version_minor": 0
      },
      "text/plain": [
       "  0%|          | 0/16707 [00:00<?, ?it/s]"
      ]
     },
     "metadata": {},
     "output_type": "display_data"
    },
    {
     "data": {
      "application/vnd.jupyter.widget-view+json": {
       "model_id": "52a7f210a7414a38a4211511155d4b7b",
       "version_major": 2,
       "version_minor": 0
      },
      "text/plain": [
       "  0%|          | 0/22 [00:00<?, ?it/s]"
      ]
     },
     "metadata": {},
     "output_type": "display_data"
    },
    {
     "name": "stdout",
     "output_type": "stream",
     "text": [
      "77689731 False\n",
      "chr1 split_num 2\n",
      "chr2 split_num 2\n",
      "chr3 split_num 1\n",
      "chr4 split_num 1\n",
      "chr5 split_num 1\n",
      "chr6 split_num 1\n",
      "chr7 split_num 1\n",
      "chr8 split_num 1\n",
      "chr9 split_num 1\n",
      "chr10 split_num 1\n",
      "chr11 split_num 1\n",
      "chr12 split_num 1\n"
     ]
    },
    {
     "data": {
      "application/vnd.jupyter.widget-view+json": {
       "model_id": "d2881b58bfa64c8588090d919c6f06f0",
       "version_major": 2,
       "version_minor": 0
      },
      "text/plain": [
       "creating matrices tasks:   0%|          | 0/24 [00:00<?, ?it/s]"
      ]
     },
     "metadata": {},
     "output_type": "display_data"
    },
    {
     "name": "stdout",
     "output_type": "stream",
     "text": [
      "total_feats_size 2400\n"
     ]
    },
    {
     "data": {
      "application/vnd.jupyter.widget-view+json": {
       "model_id": "e8928b22ef1a4227bdea1560d369f03b",
       "version_major": 2,
       "version_minor": 0
      },
      "text/plain": [
       "  0%|          | 0/22 [00:00<?, ?it/s]"
      ]
     },
     "metadata": {},
     "output_type": "display_data"
    },
    {
     "name": "stdout",
     "output_type": "stream",
     "text": [
      "cpu_num 40\n",
      "setting to gpu:1\n",
      "training on data from: ['chr1', 'chr2', 'chr3', 'chr4', 'chr5', 'chr6', 'chr7', 'chr8', 'chr9', 'chr10', 'chr11', 'chr12', 'chr13', 'chr14', 'chr15', 'chr16', 'chr17', 'chr18', 'chr19', 'chr20', 'chr21', 'chr22']\n",
      "total_sparsity_cell 0.012761184803150997\n",
      "no contractive loss\n",
      "batch_size 1280\n",
      "Node type num [16707   499   487   397   383   362   343   319   293   283   272   271\n",
      "   268   231   215   206   181   163   157   119   127    97   103] [16707 17206 17693 18090 18473 18835 19178 19497 19790 20073 20345 20616\n",
      " 20884 21115 21330 21536 21717 21880 22037 22156 22283 22380 22483]\n",
      "start making attribute\n"
     ]
    },
    {
     "data": {
      "application/vnd.jupyter.widget-view+json": {
       "model_id": "25899eec4f374626a42f39f255a0e8c4",
       "version_major": 2,
       "version_minor": 0
      },
      "text/plain": [
       "  0%|          | 0/300 [00:00<?, ?it/s]"
      ]
     },
     "metadata": {},
     "output_type": "display_data"
    },
    {
     "name": "stdout",
     "output_type": "stream",
     "text": [
      "loss 0.8579374551773071 loss best 0.8450067043304443 epochs 114\n",
      "\n",
      "initializing data generator\n"
     ]
    },
    {
     "data": {
      "application/vnd.jupyter.widget-view+json": {
       "model_id": "0478c81a53ab4f59ba02b8d52b7b881a",
       "version_major": 2,
       "version_minor": 0
      },
      "text/plain": [
       "  0%|          | 0/22 [00:00<?, ?it/s]"
      ]
     },
     "metadata": {},
     "output_type": "display_data"
    },
    {
     "name": "stdout",
     "output_type": "stream",
     "text": [
      "initializing data generator\n"
     ]
    },
    {
     "data": {
      "application/vnd.jupyter.widget-view+json": {
       "model_id": "e6de008022fb49c3a57cf66797d98fe2",
       "version_major": 2,
       "version_minor": 0
      },
      "text/plain": [
       "  0%|          | 0/22 [00:00<?, ?it/s]"
      ]
     },
     "metadata": {},
     "output_type": "display_data"
    }
   ],
   "source": [
    "\n",
    "# Initialize the Higashi instance\n",
    "higashi_model = Higashi(config)\n",
    "\n",
    "# Data processing (only needs to be run for once)\n",
    "higashi_model.process_data()\n",
    "higashi_model.prep_model()"
   ]
  },
  {
   "cell_type": "code",
   "execution_count": 6,
   "id": "167a01c7",
   "metadata": {},
   "outputs": [
    {
     "name": "stdout",
     "output_type": "stream",
     "text": [
      "First stage training\n",
      "[ Epoch 0 of 80 ]\n"
     ]
    },
    {
     "data": {
      "application/vnd.jupyter.widget-view+json": {
       "model_id": "1ef8d9d8e1ed486e92fc21e38f9285f1",
       "version_major": 2,
       "version_minor": 0
      },
      "text/plain": [
       " - (Training) :   0%|          | 0/1000 [00:00<?, ?it/s]"
      ]
     },
     "metadata": {},
     "output_type": "display_data"
    },
    {
     "name": "stdout",
     "output_type": "stream",
     "text": [
      "- (Train)   bce:  0.3817, mse:  1.4250,  acc: 87.387 %, pearson: 0.572, spearman: 0.458, elapse: 88.978 s\n"
     ]
    },
    {
     "data": {
      "application/vnd.jupyter.widget-view+json": {
       "model_id": "9e491c92f1ee4943aa9645ad70058473",
       "version_major": 2,
       "version_minor": 0
      },
      "text/plain": [
       "  - (Validation)   :   0%|          | 0/10 [00:00<?, ?it/s]"
      ]
     },
     "metadata": {},
     "output_type": "display_data"
    },
    {
     "name": "stdout",
     "output_type": "stream",
     "text": [
      "- (Valid) bce:  0.3513,  acc: 89.065 %,pearson: 0.659, spearman: 0.508,elapse: 0.233 s\n",
      "update_rate: 0.000000\t0.000000\tpair_ratio: 0.1\t\n",
      "[ Epoch 1 of 80 ]\n"
     ]
    },
    {
     "data": {
      "application/vnd.jupyter.widget-view+json": {
       "model_id": "7d92aea1dac742f88b0debb45cba35a3",
       "version_major": 2,
       "version_minor": 0
      },
      "text/plain": [
       " - (Training) :   0%|          | 0/1000 [00:00<?, ?it/s]"
      ]
     },
     "metadata": {},
     "output_type": "display_data"
    },
    {
     "name": "stdout",
     "output_type": "stream",
     "text": [
      "- (Train)   bce:  0.3460, mse:  1.1116,  acc: 89.311 %, pearson: 0.656, spearman: 0.517, elapse: 80.097 s\n"
     ]
    },
    {
     "data": {
      "application/vnd.jupyter.widget-view+json": {
       "model_id": "f9f211ffa68a4dbcaf971fe444346a73",
       "version_major": 2,
       "version_minor": 0
      },
      "text/plain": [
       "  - (Validation)   :   0%|          | 0/10 [00:00<?, ?it/s]"
      ]
     },
     "metadata": {},
     "output_type": "display_data"
    },
    {
     "name": "stdout",
     "output_type": "stream",
     "text": [
      "- (Valid) bce:  0.3433,  acc: 89.458 %,pearson: 0.669, spearman: 0.521,elapse: 0.239 s\n",
      "update_rate: 1.686902\t13.303463\tpair_ratio: 0.2\t\n",
      "[ Epoch 2 of 80 ]\n"
     ]
    },
    {
     "data": {
      "application/vnd.jupyter.widget-view+json": {
       "model_id": "09ced178d3c64ce8bf31df697c1fbe41",
       "version_major": 2,
       "version_minor": 0
      },
      "text/plain": [
       " - (Training) :   0%|          | 0/1000 [00:00<?, ?it/s]"
      ]
     },
     "metadata": {},
     "output_type": "display_data"
    },
    {
     "name": "stdout",
     "output_type": "stream",
     "text": [
      "- (Train)   bce:  0.3417, mse:  1.0349,  acc: 89.574 %, pearson: 0.670, spearman: 0.522, elapse: 80.051 s\n"
     ]
    },
    {
     "data": {
      "application/vnd.jupyter.widget-view+json": {
       "model_id": "81ceb51e948e4119a146f8260acd0991",
       "version_major": 2,
       "version_minor": 0
      },
      "text/plain": [
       "  - (Validation)   :   0%|          | 0/10 [00:00<?, ?it/s]"
      ]
     },
     "metadata": {},
     "output_type": "display_data"
    },
    {
     "name": "stdout",
     "output_type": "stream",
     "text": [
      "- (Valid) bce:  0.3443,  acc: 89.555 %,pearson: 0.676, spearman: 0.518,elapse: 0.230 s\n",
      "update_rate: 0.143506\t0.372669\tpair_ratio: 0.3\t\n",
      "[ Epoch 3 of 80 ]\n"
     ]
    },
    {
     "data": {
      "application/vnd.jupyter.widget-view+json": {
       "model_id": "5b14b470d33b4a1a82b4f0de04aa47d9",
       "version_major": 2,
       "version_minor": 0
      },
      "text/plain": [
       " - (Training) :   0%|          | 0/1000 [00:00<?, ?it/s]"
      ]
     },
     "metadata": {},
     "output_type": "display_data"
    },
    {
     "name": "stdout",
     "output_type": "stream",
     "text": [
      "- (Train)   bce:  0.3400, mse:  1.0167,  acc: 89.695 %, pearson: 0.676, spearman: 0.524, elapse: 80.387 s\n"
     ]
    },
    {
     "data": {
      "application/vnd.jupyter.widget-view+json": {
       "model_id": "ded5d8907c4e4e469e43509a9a29583c",
       "version_major": 2,
       "version_minor": 0
      },
      "text/plain": [
       "  - (Validation)   :   0%|          | 0/10 [00:00<?, ?it/s]"
      ]
     },
     "metadata": {},
     "output_type": "display_data"
    },
    {
     "name": "stdout",
     "output_type": "stream",
     "text": [
      "- (Valid) bce:  0.3359,  acc: 89.604 %,pearson: 0.677, spearman: 0.534,elapse: 0.224 s\n",
      "update_rate: 0.068767\t0.243375\tpair_ratio: 0.4\t\n",
      "[ Epoch 4 of 80 ]\n"
     ]
    },
    {
     "data": {
      "application/vnd.jupyter.widget-view+json": {
       "model_id": "b09cd600bfd34a51883feb81ed22e64e",
       "version_major": 2,
       "version_minor": 0
      },
      "text/plain": [
       " - (Training) :   0%|          | 0/1000 [00:00<?, ?it/s]"
      ]
     },
     "metadata": {},
     "output_type": "display_data"
    },
    {
     "name": "stdout",
     "output_type": "stream",
     "text": [
      "- (Train)   bce:  0.3382, mse:  0.9915,  acc: 89.822 %, pearson: 0.682, spearman: 0.527, elapse: 79.840 s\n"
     ]
    },
    {
     "data": {
      "application/vnd.jupyter.widget-view+json": {
       "model_id": "5529b177d2fb442b926fc1876e305b4d",
       "version_major": 2,
       "version_minor": 0
      },
      "text/plain": [
       "  - (Validation)   :   0%|          | 0/10 [00:00<?, ?it/s]"
      ]
     },
     "metadata": {},
     "output_type": "display_data"
    },
    {
     "name": "stdout",
     "output_type": "stream",
     "text": [
      "- (Valid) bce:  0.3372,  acc: 89.650 %,pearson: 0.685, spearman: 0.529,elapse: 0.228 s\n",
      "update_rate: 0.048159\t0.178912\tpair_ratio: 0.5\t\n",
      "[ Epoch 5 of 80 ]\n"
     ]
    },
    {
     "data": {
      "application/vnd.jupyter.widget-view+json": {
       "model_id": "38d31acccc4b4bd9a5f9ee0c3f2c3d8e",
       "version_major": 2,
       "version_minor": 0
      },
      "text/plain": [
       " - (Training) :   0%|          | 0/1000 [00:00<?, ?it/s]"
      ]
     },
     "metadata": {},
     "output_type": "display_data"
    },
    {
     "name": "stdout",
     "output_type": "stream",
     "text": [
      "- (Train)   bce:  0.3373, mse:  0.9899,  acc: 89.852 %, pearson: 0.690, spearman: 0.528, elapse: 79.872 s\n"
     ]
    },
    {
     "data": {
      "application/vnd.jupyter.widget-view+json": {
       "model_id": "4c9899b5058e401c98be30e0cf14c5d9",
       "version_major": 2,
       "version_minor": 0
      },
      "text/plain": [
       "  - (Validation)   :   0%|          | 0/10 [00:00<?, ?it/s]"
      ]
     },
     "metadata": {},
     "output_type": "display_data"
    },
    {
     "name": "stdout",
     "output_type": "stream",
     "text": [
      "- (Valid) bce:  0.3390,  acc: 89.837 %,pearson: 0.689, spearman: 0.528,elapse: 0.236 s\n",
      "update_rate: 0.035280\t0.220664\t\n",
      "[ Epoch 6 of 80 ]\n"
     ]
    },
    {
     "data": {
      "application/vnd.jupyter.widget-view+json": {
       "model_id": "c5c753a909584ce0943a9a89e9fb4add",
       "version_major": 2,
       "version_minor": 0
      },
      "text/plain": [
       " - (Training) :   0%|          | 0/1000 [00:00<?, ?it/s]"
      ]
     },
     "metadata": {},
     "output_type": "display_data"
    },
    {
     "name": "stdout",
     "output_type": "stream",
     "text": [
      "- (Train)   bce:  0.3355, mse:  0.9660,  acc: 89.935 %, pearson: 0.696, spearman: 0.530, elapse: 80.074 s\n"
     ]
    },
    {
     "data": {
      "application/vnd.jupyter.widget-view+json": {
       "model_id": "f5875f6d30634716a6c4ce56337bc8bd",
       "version_major": 2,
       "version_minor": 0
      },
      "text/plain": [
       "  - (Validation)   :   0%|          | 0/10 [00:00<?, ?it/s]"
      ]
     },
     "metadata": {},
     "output_type": "display_data"
    },
    {
     "name": "stdout",
     "output_type": "stream",
     "text": [
      "- (Valid) bce:  0.3324,  acc: 90.169 %,pearson: 0.716, spearman: 0.540,elapse: 0.242 s\n",
      "update_rate: 0.028348\t0.110471\t\n",
      "[ Epoch 7 of 80 ]\n"
     ]
    },
    {
     "data": {
      "application/vnd.jupyter.widget-view+json": {
       "model_id": "e0d02d68dd0746bdb67774ceb5406abb",
       "version_major": 2,
       "version_minor": 0
      },
      "text/plain": [
       " - (Training) :   0%|          | 0/1000 [00:00<?, ?it/s]"
      ]
     },
     "metadata": {},
     "output_type": "display_data"
    },
    {
     "name": "stdout",
     "output_type": "stream",
     "text": [
      "- (Train)   bce:  0.3364, mse:  0.9625,  acc: 89.901 %, pearson: 0.696, spearman: 0.528, elapse: 80.158 s\n"
     ]
    },
    {
     "data": {
      "application/vnd.jupyter.widget-view+json": {
       "model_id": "69cea132b12e4f359ee25eddcb4b3738",
       "version_major": 2,
       "version_minor": 0
      },
      "text/plain": [
       "  - (Validation)   :   0%|          | 0/10 [00:00<?, ?it/s]"
      ]
     },
     "metadata": {},
     "output_type": "display_data"
    },
    {
     "name": "stdout",
     "output_type": "stream",
     "text": [
      "- (Valid) bce:  0.3383,  acc: 89.906 %,pearson: 0.706, spearman: 0.527,elapse: 0.247 s\n",
      "update_rate: 0.017098\t0.171275\t\n",
      "[ Epoch 8 of 80 ]\n"
     ]
    },
    {
     "data": {
      "application/vnd.jupyter.widget-view+json": {
       "model_id": "5c5aea3acae94acbbb3c8771c910fb7b",
       "version_major": 2,
       "version_minor": 0
      },
      "text/plain": [
       " - (Training) :   0%|          | 0/1000 [00:00<?, ?it/s]"
      ]
     },
     "metadata": {},
     "output_type": "display_data"
    },
    {
     "name": "stdout",
     "output_type": "stream",
     "text": [
      "- (Train)   bce:  0.3349, mse:  0.9614,  acc: 89.972 %, pearson: 0.706, spearman: 0.531, elapse: 79.699 s\n"
     ]
    },
    {
     "data": {
      "application/vnd.jupyter.widget-view+json": {
       "model_id": "d0d32a70f10946ff868058a1688e97e5",
       "version_major": 2,
       "version_minor": 0
      },
      "text/plain": [
       "  - (Validation)   :   0%|          | 0/10 [00:00<?, ?it/s]"
      ]
     },
     "metadata": {},
     "output_type": "display_data"
    },
    {
     "name": "stdout",
     "output_type": "stream",
     "text": [
      "- (Valid) bce:  0.3410,  acc: 89.905 %,pearson: 0.707, spearman: 0.526,elapse: 0.236 s\n",
      "update_rate: 0.009227\t0.173820\t\n",
      "[ Epoch 9 of 80 ]\n"
     ]
    },
    {
     "data": {
      "application/vnd.jupyter.widget-view+json": {
       "model_id": "ca16f01d2982422bbbf60fe0868838c2",
       "version_major": 2,
       "version_minor": 0
      },
      "text/plain": [
       " - (Training) :   0%|          | 0/1000 [00:00<?, ?it/s]"
      ]
     },
     "metadata": {},
     "output_type": "display_data"
    },
    {
     "name": "stdout",
     "output_type": "stream",
     "text": [
      "- (Train)   bce:  0.3345, mse:  0.9607,  acc: 89.985 %, pearson: 0.706, spearman: 0.531, elapse: 79.547 s\n"
     ]
    },
    {
     "data": {
      "application/vnd.jupyter.widget-view+json": {
       "model_id": "8dbb655074da40cdaa9fd481fc1a480d",
       "version_major": 2,
       "version_minor": 0
      },
      "text/plain": [
       "  - (Validation)   :   0%|          | 0/10 [00:00<?, ?it/s]"
      ]
     },
     "metadata": {},
     "output_type": "display_data"
    },
    {
     "name": "stdout",
     "output_type": "stream",
     "text": [
      "- (Valid) bce:  0.3332,  acc: 90.082 %,pearson: 0.726, spearman: 0.537,elapse: 0.229 s\n",
      "update_rate: 0.007415\t0.121596\t\n",
      "[ Epoch 10 of 80 ]\n"
     ]
    },
    {
     "data": {
      "application/vnd.jupyter.widget-view+json": {
       "model_id": "67119d9ca1de46fea82c0dd70a22ba46",
       "version_major": 2,
       "version_minor": 0
      },
      "text/plain": [
       " - (Training) :   0%|          | 0/1000 [00:00<?, ?it/s]"
      ]
     },
     "metadata": {},
     "output_type": "display_data"
    },
    {
     "name": "stdout",
     "output_type": "stream",
     "text": [
      "- (Train)   bce:  0.3350, mse:  0.9611,  acc: 89.985 %, pearson: 0.712, spearman: 0.530, elapse: 79.415 s\n"
     ]
    },
    {
     "data": {
      "application/vnd.jupyter.widget-view+json": {
       "model_id": "7074dffd1ee14bbd988e261ce6d7c9d5",
       "version_major": 2,
       "version_minor": 0
      },
      "text/plain": [
       "  - (Validation)   :   0%|          | 0/10 [00:00<?, ?it/s]"
      ]
     },
     "metadata": {},
     "output_type": "display_data"
    },
    {
     "name": "stdout",
     "output_type": "stream",
     "text": [
      "- (Valid) bce:  0.3300,  acc: 90.142 %,pearson: 0.745, spearman: 0.539,elapse: 0.222 s\n",
      "update_rate: 0.005142\t0.139762\t\n",
      "[ Epoch 11 of 80 ]\n"
     ]
    },
    {
     "data": {
      "application/vnd.jupyter.widget-view+json": {
       "model_id": "1df1b75ab7154eafb385dcc898d895f4",
       "version_major": 2,
       "version_minor": 0
      },
      "text/plain": [
       " - (Training) :   0%|          | 0/1000 [00:00<?, ?it/s]"
      ]
     },
     "metadata": {},
     "output_type": "display_data"
    },
    {
     "name": "stdout",
     "output_type": "stream",
     "text": [
      "- (Train)   bce:  0.3342, mse:  0.9592,  acc: 90.024 %, pearson: 0.708, spearman: 0.531, elapse: 79.760 s\n"
     ]
    },
    {
     "data": {
      "application/vnd.jupyter.widget-view+json": {
       "model_id": "594ec196faa447aaaa2aee6723e926ba",
       "version_major": 2,
       "version_minor": 0
      },
      "text/plain": [
       "  - (Validation)   :   0%|          | 0/10 [00:00<?, ?it/s]"
      ]
     },
     "metadata": {},
     "output_type": "display_data"
    },
    {
     "name": "stdout",
     "output_type": "stream",
     "text": [
      "- (Valid) bce:  0.3408,  acc: 89.676 %,pearson: 0.702, spearman: 0.522,elapse: 0.232 s\n",
      "update_rate: 0.004339\t0.118053\t\n",
      "[ Epoch 12 of 80 ]\n"
     ]
    },
    {
     "data": {
      "application/vnd.jupyter.widget-view+json": {
       "model_id": "24605366ba9e472ebf6e075f04a73f72",
       "version_major": 2,
       "version_minor": 0
      },
      "text/plain": [
       " - (Training) :   0%|          | 0/1000 [00:00<?, ?it/s]"
      ]
     },
     "metadata": {},
     "output_type": "display_data"
    },
    {
     "name": "stdout",
     "output_type": "stream",
     "text": [
      "- (Train)   bce:  0.3341, mse:  0.9586,  acc: 90.017 %, pearson: 0.709, spearman: 0.531, elapse: 79.368 s\n"
     ]
    },
    {
     "data": {
      "application/vnd.jupyter.widget-view+json": {
       "model_id": "61a1b16c006049008d8e9817956e3f41",
       "version_major": 2,
       "version_minor": 0
      },
      "text/plain": [
       "  - (Validation)   :   0%|          | 0/10 [00:00<?, ?it/s]"
      ]
     },
     "metadata": {},
     "output_type": "display_data"
    },
    {
     "name": "stdout",
     "output_type": "stream",
     "text": [
      "- (Valid) bce:  0.3294,  acc: 90.086 %,pearson: 0.737, spearman: 0.541,elapse: 0.228 s\n",
      "update_rate: 0.003892\t0.102004\t\n",
      "[ Epoch 13 of 80 ]\n"
     ]
    },
    {
     "data": {
      "application/vnd.jupyter.widget-view+json": {
       "model_id": "6057e1f23aae48da8aaadd06ecc3f1e3",
       "version_major": 2,
       "version_minor": 0
      },
      "text/plain": [
       " - (Training) :   0%|          | 0/1000 [00:00<?, ?it/s]"
      ]
     },
     "metadata": {},
     "output_type": "display_data"
    },
    {
     "name": "stdout",
     "output_type": "stream",
     "text": [
      "- (Train)   bce:  0.3327, mse:  0.9584,  acc: 90.074 %, pearson: 0.715, spearman: 0.533, elapse: 79.325 s\n"
     ]
    },
    {
     "data": {
      "application/vnd.jupyter.widget-view+json": {
       "model_id": "1ea6f1d8edf14cf4ab86780ae67b9e94",
       "version_major": 2,
       "version_minor": 0
      },
      "text/plain": [
       "  - (Validation)   :   0%|          | 0/10 [00:00<?, ?it/s]"
      ]
     },
     "metadata": {},
     "output_type": "display_data"
    },
    {
     "name": "stdout",
     "output_type": "stream",
     "text": [
      "- (Valid) bce:  0.3366,  acc: 89.901 %,pearson: 0.736, spearman: 0.534,elapse: 0.226 s\n",
      "update_rate: 0.004663\t0.120162\t\n",
      "[ Epoch 14 of 80 ]\n"
     ]
    },
    {
     "data": {
      "application/vnd.jupyter.widget-view+json": {
       "model_id": "ab93b7fdb715486a8465b40dc3e8cfc7",
       "version_major": 2,
       "version_minor": 0
      },
      "text/plain": [
       " - (Training) :   0%|          | 0/1000 [00:00<?, ?it/s]"
      ]
     },
     "metadata": {},
     "output_type": "display_data"
    },
    {
     "name": "stdout",
     "output_type": "stream",
     "text": [
      "- (Train)   bce:  0.3329, mse:  0.9586,  acc: 90.069 %, pearson: 0.715, spearman: 0.533, elapse: 79.728 s\n"
     ]
    },
    {
     "data": {
      "application/vnd.jupyter.widget-view+json": {
       "model_id": "91c23935f56d4515bf6ca93a7f94bb6f",
       "version_major": 2,
       "version_minor": 0
      },
      "text/plain": [
       "  - (Validation)   :   0%|          | 0/10 [00:00<?, ?it/s]"
      ]
     },
     "metadata": {},
     "output_type": "display_data"
    },
    {
     "name": "stdout",
     "output_type": "stream",
     "text": [
      "- (Valid) bce:  0.3357,  acc: 90.020 %,pearson: 0.732, spearman: 0.532,elapse: 0.227 s\n",
      "update_rate: 0.004122\t0.080781\t\n",
      "[ Epoch 15 of 80 ]\n"
     ]
    },
    {
     "data": {
      "application/vnd.jupyter.widget-view+json": {
       "model_id": "f8a799254a5146ffa9b5556bf95a3946",
       "version_major": 2,
       "version_minor": 0
      },
      "text/plain": [
       " - (Training) :   0%|          | 0/1000 [00:00<?, ?it/s]"
      ]
     },
     "metadata": {},
     "output_type": "display_data"
    },
    {
     "name": "stdout",
     "output_type": "stream",
     "text": [
      "- (Train)   bce:  0.3332, mse:  0.9609,  acc: 90.070 %, pearson: 0.714, spearman: 0.533, elapse: 79.378 s\n"
     ]
    },
    {
     "data": {
      "application/vnd.jupyter.widget-view+json": {
       "model_id": "21bbd5a0c95e4f72a73f367d1016ac05",
       "version_major": 2,
       "version_minor": 0
      },
      "text/plain": [
       "  - (Validation)   :   0%|          | 0/10 [00:00<?, ?it/s]"
      ]
     },
     "metadata": {},
     "output_type": "display_data"
    },
    {
     "name": "stdout",
     "output_type": "stream",
     "text": [
      "- (Valid) bce:  0.3333,  acc: 90.017 %,pearson: 0.701, spearman: 0.537,elapse: 0.225 s\n",
      "update_rate: 0.004409\t0.076053\t\n",
      "[ Epoch 16 of 80 ]\n"
     ]
    },
    {
     "data": {
      "application/vnd.jupyter.widget-view+json": {
       "model_id": "26be67ee5a5145088ffb1bf608fd2825",
       "version_major": 2,
       "version_minor": 0
      },
      "text/plain": [
       " - (Training) :   0%|          | 0/1000 [00:00<?, ?it/s]"
      ]
     },
     "metadata": {},
     "output_type": "display_data"
    },
    {
     "name": "stdout",
     "output_type": "stream",
     "text": [
      "- (Train)   bce:  0.3316, mse:  0.9567,  acc: 90.134 %, pearson: 0.718, spearman: 0.535, elapse: 79.565 s\n"
     ]
    },
    {
     "data": {
      "application/vnd.jupyter.widget-view+json": {
       "model_id": "74054f8a7ace48ef87937064c7067dc8",
       "version_major": 2,
       "version_minor": 0
      },
      "text/plain": [
       "  - (Validation)   :   0%|          | 0/10 [00:00<?, ?it/s]"
      ]
     },
     "metadata": {},
     "output_type": "display_data"
    },
    {
     "name": "stdout",
     "output_type": "stream",
     "text": [
      "- (Valid) bce:  0.3392,  acc: 89.841 %,pearson: 0.702, spearman: 0.528,elapse: 0.231 s\n",
      "update_rate: 0.004182\t0.098274\t\n",
      "[ Epoch 17 of 80 ]\n"
     ]
    },
    {
     "data": {
      "application/vnd.jupyter.widget-view+json": {
       "model_id": "9820a2dce7b14907a936fe163010763c",
       "version_major": 2,
       "version_minor": 0
      },
      "text/plain": [
       " - (Training) :   0%|          | 0/1000 [00:00<?, ?it/s]"
      ]
     },
     "metadata": {},
     "output_type": "display_data"
    },
    {
     "name": "stdout",
     "output_type": "stream",
     "text": [
      "- (Train)   bce:  0.3325, mse:  0.9572,  acc: 90.087 %, pearson: 0.718, spearman: 0.534, elapse: 79.435 s\n"
     ]
    },
    {
     "data": {
      "application/vnd.jupyter.widget-view+json": {
       "model_id": "ced3e27ac1d94d60b9c5ecaa2a2cbd66",
       "version_major": 2,
       "version_minor": 0
      },
      "text/plain": [
       "  - (Validation)   :   0%|          | 0/10 [00:00<?, ?it/s]"
      ]
     },
     "metadata": {},
     "output_type": "display_data"
    },
    {
     "name": "stdout",
     "output_type": "stream",
     "text": [
      "- (Valid) bce:  0.3330,  acc: 89.949 %,pearson: 0.724, spearman: 0.537,elapse: 0.225 s\n",
      "update_rate: 0.003243\t0.089998\t\n",
      "[ Epoch 18 of 80 ]\n"
     ]
    },
    {
     "data": {
      "application/vnd.jupyter.widget-view+json": {
       "model_id": "b59aca78f33f4b0db9ecb102a6e44e0f",
       "version_major": 2,
       "version_minor": 0
      },
      "text/plain": [
       " - (Training) :   0%|          | 0/1000 [00:00<?, ?it/s]"
      ]
     },
     "metadata": {},
     "output_type": "display_data"
    },
    {
     "name": "stdout",
     "output_type": "stream",
     "text": [
      "- (Train)   bce:  0.3323, mse:  0.9581,  acc: 90.101 %, pearson: 0.717, spearman: 0.534, elapse: 79.090 s\n"
     ]
    },
    {
     "data": {
      "application/vnd.jupyter.widget-view+json": {
       "model_id": "90c0c84c114c474f884c57bdd394a948",
       "version_major": 2,
       "version_minor": 0
      },
      "text/plain": [
       "  - (Validation)   :   0%|          | 0/10 [00:00<?, ?it/s]"
      ]
     },
     "metadata": {},
     "output_type": "display_data"
    },
    {
     "name": "stdout",
     "output_type": "stream",
     "text": [
      "- (Valid) bce:  0.3350,  acc: 89.965 %,pearson: 0.737, spearman: 0.536,elapse: 0.222 s\n",
      "update_rate: 0.002726\t0.079770\t\n",
      "[ Epoch 19 of 80 ]\n"
     ]
    },
    {
     "data": {
      "application/vnd.jupyter.widget-view+json": {
       "model_id": "e049d82c61414fbfacbf10ab39eee57c",
       "version_major": 2,
       "version_minor": 0
      },
      "text/plain": [
       " - (Training) :   0%|          | 0/1000 [00:00<?, ?it/s]"
      ]
     },
     "metadata": {},
     "output_type": "display_data"
    },
    {
     "name": "stdout",
     "output_type": "stream",
     "text": [
      "- (Train)   bce:  0.3323, mse:  0.9556,  acc: 90.107 %, pearson: 0.723, spearman: 0.534, elapse: 79.193 s\n"
     ]
    },
    {
     "data": {
      "application/vnd.jupyter.widget-view+json": {
       "model_id": "71063b4fe4b542e7b75ae482ab69e5d8",
       "version_major": 2,
       "version_minor": 0
      },
      "text/plain": [
       "  - (Validation)   :   0%|          | 0/10 [00:00<?, ?it/s]"
      ]
     },
     "metadata": {},
     "output_type": "display_data"
    },
    {
     "name": "stdout",
     "output_type": "stream",
     "text": [
      "- (Valid) bce:  0.3315,  acc: 90.120 %,pearson: 0.707, spearman: 0.536,elapse: 0.225 s\n",
      "update_rate: 0.003310\t0.059463\t\n",
      "[ Epoch 20 of 80 ]\n"
     ]
    },
    {
     "data": {
      "application/vnd.jupyter.widget-view+json": {
       "model_id": "7f3419c07bb54a1283dd5d61bb48a367",
       "version_major": 2,
       "version_minor": 0
      },
      "text/plain": [
       " - (Training) :   0%|          | 0/1000 [00:00<?, ?it/s]"
      ]
     },
     "metadata": {},
     "output_type": "display_data"
    },
    {
     "name": "stdout",
     "output_type": "stream",
     "text": [
      "- (Train)   bce:  0.3319, mse:  0.9562,  acc: 90.121 %, pearson: 0.721, spearman: 0.534, elapse: 79.072 s\n"
     ]
    },
    {
     "data": {
      "application/vnd.jupyter.widget-view+json": {
       "model_id": "eaff7ac41f704a45bdacd7004b82208a",
       "version_major": 2,
       "version_minor": 0
      },
      "text/plain": [
       "  - (Validation)   :   0%|          | 0/10 [00:00<?, ?it/s]"
      ]
     },
     "metadata": {},
     "output_type": "display_data"
    },
    {
     "name": "stdout",
     "output_type": "stream",
     "text": [
      "- (Valid) bce:  0.3296,  acc: 90.202 %,pearson: 0.743, spearman: 0.544,elapse: 0.223 s\n",
      "update_rate: 0.002201\t0.068340\t\n",
      "[ Epoch 21 of 80 ]\n"
     ]
    },
    {
     "data": {
      "application/vnd.jupyter.widget-view+json": {
       "model_id": "1ff72348956745afa1b9bf495edb8cab",
       "version_major": 2,
       "version_minor": 0
      },
      "text/plain": [
       " - (Training) :   0%|          | 0/1000 [00:00<?, ?it/s]"
      ]
     },
     "metadata": {},
     "output_type": "display_data"
    },
    {
     "name": "stdout",
     "output_type": "stream",
     "text": [
      "- (Train)   bce:  0.3319, mse:  0.9565,  acc: 90.120 %, pearson: 0.722, spearman: 0.535, elapse: 79.608 s\n"
     ]
    },
    {
     "data": {
      "application/vnd.jupyter.widget-view+json": {
       "model_id": "43d9259dbcf0406d8477ba1583c7a313",
       "version_major": 2,
       "version_minor": 0
      },
      "text/plain": [
       "  - (Validation)   :   0%|          | 0/10 [00:00<?, ?it/s]"
      ]
     },
     "metadata": {},
     "output_type": "display_data"
    },
    {
     "name": "stdout",
     "output_type": "stream",
     "text": [
      "- (Valid) bce:  0.3354,  acc: 90.017 %,pearson: 0.722, spearman: 0.533,elapse: 0.227 s\n",
      "update_rate: 0.002494\t0.072007\t\n",
      "[ Epoch 22 of 80 ]\n"
     ]
    },
    {
     "data": {
      "application/vnd.jupyter.widget-view+json": {
       "model_id": "7b999882a93046f298cf5caa302e8704",
       "version_major": 2,
       "version_minor": 0
      },
      "text/plain": [
       " - (Training) :   0%|          | 0/1000 [00:00<?, ?it/s]"
      ]
     },
     "metadata": {},
     "output_type": "display_data"
    },
    {
     "name": "stdout",
     "output_type": "stream",
     "text": [
      "- (Train)   bce:  0.3313, mse:  0.9559,  acc: 90.133 %, pearson: 0.721, spearman: 0.535, elapse: 79.620 s\n"
     ]
    },
    {
     "data": {
      "application/vnd.jupyter.widget-view+json": {
       "model_id": "34db9dec89064a35ab6e43cf9f30c0eb",
       "version_major": 2,
       "version_minor": 0
      },
      "text/plain": [
       "  - (Validation)   :   0%|          | 0/10 [00:00<?, ?it/s]"
      ]
     },
     "metadata": {},
     "output_type": "display_data"
    },
    {
     "name": "stdout",
     "output_type": "stream",
     "text": [
      "- (Valid) bce:  0.3313,  acc: 90.046 %,pearson: 0.709, spearman: 0.535,elapse: 0.223 s\n",
      "update_rate: 0.002623\t0.071180\t\n",
      "[ Epoch 23 of 80 ]\n"
     ]
    },
    {
     "data": {
      "application/vnd.jupyter.widget-view+json": {
       "model_id": "d8debf80c8a740288cb63b517a248f03",
       "version_major": 2,
       "version_minor": 0
      },
      "text/plain": [
       " - (Training) :   0%|          | 0/1000 [00:00<?, ?it/s]"
      ]
     },
     "metadata": {},
     "output_type": "display_data"
    },
    {
     "name": "stdout",
     "output_type": "stream",
     "text": [
      "- (Train)   bce:  0.3316, mse:  0.9558,  acc: 90.122 %, pearson: 0.721, spearman: 0.535, elapse: 79.573 s\n"
     ]
    },
    {
     "data": {
      "application/vnd.jupyter.widget-view+json": {
       "model_id": "85ab00400d024013844447d2b2a504f2",
       "version_major": 2,
       "version_minor": 0
      },
      "text/plain": [
       "  - (Validation)   :   0%|          | 0/10 [00:00<?, ?it/s]"
      ]
     },
     "metadata": {},
     "output_type": "display_data"
    },
    {
     "name": "stdout",
     "output_type": "stream",
     "text": [
      "- (Valid) bce:  0.3313,  acc: 90.030 %,pearson: 0.725, spearman: 0.539,elapse: 0.229 s\n",
      "update_rate: 0.002264\t0.052436\t\n",
      "[ Epoch 24 of 80 ]\n"
     ]
    },
    {
     "data": {
      "application/vnd.jupyter.widget-view+json": {
       "model_id": "38a5c61844ad40649116089d87e2a7e9",
       "version_major": 2,
       "version_minor": 0
      },
      "text/plain": [
       " - (Training) :   0%|          | 0/1000 [00:00<?, ?it/s]"
      ]
     },
     "metadata": {},
     "output_type": "display_data"
    },
    {
     "name": "stdout",
     "output_type": "stream",
     "text": [
      "- (Train)   bce:  0.3320, mse:  0.9555,  acc: 90.127 %, pearson: 0.719, spearman: 0.534, elapse: 79.946 s\n"
     ]
    },
    {
     "data": {
      "application/vnd.jupyter.widget-view+json": {
       "model_id": "5e557041a11f410daa479891ba0686b2",
       "version_major": 2,
       "version_minor": 0
      },
      "text/plain": [
       "  - (Validation)   :   0%|          | 0/10 [00:00<?, ?it/s]"
      ]
     },
     "metadata": {},
     "output_type": "display_data"
    },
    {
     "name": "stdout",
     "output_type": "stream",
     "text": [
      "- (Valid) bce:  0.3265,  acc: 90.230 %,pearson: 0.709, spearman: 0.543,elapse: 0.227 s\n",
      "update_rate: 0.002202\t0.096521\t\n",
      "[ Epoch 25 of 80 ]\n"
     ]
    },
    {
     "data": {
      "application/vnd.jupyter.widget-view+json": {
       "model_id": "25c34cb6ab944e81ae6f923b9f9c6d1c",
       "version_major": 2,
       "version_minor": 0
      },
      "text/plain": [
       " - (Training) :   0%|          | 0/1000 [00:00<?, ?it/s]"
      ]
     },
     "metadata": {},
     "output_type": "display_data"
    },
    {
     "name": "stdout",
     "output_type": "stream",
     "text": [
      "- (Train)   bce:  0.3303, mse:  0.9555,  acc: 90.169 %, pearson: 0.722, spearman: 0.537, elapse: 79.621 s\n"
     ]
    },
    {
     "data": {
      "application/vnd.jupyter.widget-view+json": {
       "model_id": "f6ad7d9d865f4242bca160afc2360c14",
       "version_major": 2,
       "version_minor": 0
      },
      "text/plain": [
       "  - (Validation)   :   0%|          | 0/10 [00:00<?, ?it/s]"
      ]
     },
     "metadata": {},
     "output_type": "display_data"
    },
    {
     "name": "stdout",
     "output_type": "stream",
     "text": [
      "- (Valid) bce:  0.3386,  acc: 89.876 %,pearson: 0.702, spearman: 0.529,elapse: 0.227 s\n",
      "update_rate: 0.001823\t0.052277\t\n",
      "[ Epoch 26 of 80 ]\n"
     ]
    },
    {
     "data": {
      "application/vnd.jupyter.widget-view+json": {
       "model_id": "1fc8bbe9a1bf46a3be0c29245e668639",
       "version_major": 2,
       "version_minor": 0
      },
      "text/plain": [
       " - (Training) :   0%|          | 0/1000 [00:00<?, ?it/s]"
      ]
     },
     "metadata": {},
     "output_type": "display_data"
    },
    {
     "name": "stdout",
     "output_type": "stream",
     "text": [
      "- (Train)   bce:  0.3312, mse:  0.9550,  acc: 90.142 %, pearson: 0.724, spearman: 0.535, elapse: 79.370 s\n"
     ]
    },
    {
     "data": {
      "application/vnd.jupyter.widget-view+json": {
       "model_id": "e741c3af7787475b99897f7a9699d935",
       "version_major": 2,
       "version_minor": 0
      },
      "text/plain": [
       "  - (Validation)   :   0%|          | 0/10 [00:00<?, ?it/s]"
      ]
     },
     "metadata": {},
     "output_type": "display_data"
    },
    {
     "name": "stdout",
     "output_type": "stream",
     "text": [
      "- (Valid) bce:  0.3334,  acc: 90.184 %,pearson: 0.720, spearman: 0.535,elapse: 0.230 s\n",
      "update_rate: 0.002584\t0.034832\t\n",
      "[ Epoch 27 of 80 ]\n"
     ]
    },
    {
     "data": {
      "application/vnd.jupyter.widget-view+json": {
       "model_id": "392f0cd54ed9434daffe418100026ef0",
       "version_major": 2,
       "version_minor": 0
      },
      "text/plain": [
       " - (Training) :   0%|          | 0/1000 [00:00<?, ?it/s]"
      ]
     },
     "metadata": {},
     "output_type": "display_data"
    },
    {
     "name": "stdout",
     "output_type": "stream",
     "text": [
      "- (Train)   bce:  0.3317, mse:  0.9556,  acc: 90.126 %, pearson: 0.727, spearman: 0.535, elapse: 79.558 s\n"
     ]
    },
    {
     "data": {
      "application/vnd.jupyter.widget-view+json": {
       "model_id": "3130e9de550d424395c41c8a590058c0",
       "version_major": 2,
       "version_minor": 0
      },
      "text/plain": [
       "  - (Validation)   :   0%|          | 0/10 [00:00<?, ?it/s]"
      ]
     },
     "metadata": {},
     "output_type": "display_data"
    },
    {
     "name": "stdout",
     "output_type": "stream",
     "text": [
      "- (Valid) bce:  0.3428,  acc: 89.715 %,pearson: 0.697, spearman: 0.521,elapse: 0.225 s\n",
      "update_rate: 0.002177\t0.046297\t\n",
      "[ Epoch 28 of 80 ]\n"
     ]
    },
    {
     "data": {
      "application/vnd.jupyter.widget-view+json": {
       "model_id": "52edc066340d47adbf03ddcf7332da45",
       "version_major": 2,
       "version_minor": 0
      },
      "text/plain": [
       " - (Training) :   0%|          | 0/1000 [00:00<?, ?it/s]"
      ]
     },
     "metadata": {},
     "output_type": "display_data"
    },
    {
     "name": "stdout",
     "output_type": "stream",
     "text": [
      "- (Train)   bce:  0.3320, mse:  0.9554,  acc: 90.124 %, pearson: 0.720, spearman: 0.534, elapse: 79.917 s\n"
     ]
    },
    {
     "data": {
      "application/vnd.jupyter.widget-view+json": {
       "model_id": "d55cfb90481c449aa41bccb38e4542d7",
       "version_major": 2,
       "version_minor": 0
      },
      "text/plain": [
       "  - (Validation)   :   0%|          | 0/10 [00:00<?, ?it/s]"
      ]
     },
     "metadata": {},
     "output_type": "display_data"
    },
    {
     "name": "stdout",
     "output_type": "stream",
     "text": [
      "- (Valid) bce:  0.3369,  acc: 89.980 %,pearson: 0.689, spearman: 0.529,elapse: 0.229 s\n",
      "update_rate: 0.001736\t0.046756\t\n",
      "[ Epoch 29 of 80 ]\n"
     ]
    },
    {
     "data": {
      "application/vnd.jupyter.widget-view+json": {
       "model_id": "8b446ba7d2674a4fa868640c952d357a",
       "version_major": 2,
       "version_minor": 0
      },
      "text/plain": [
       " - (Training) :   0%|          | 0/1000 [00:00<?, ?it/s]"
      ]
     },
     "metadata": {},
     "output_type": "display_data"
    },
    {
     "name": "stdout",
     "output_type": "stream",
     "text": [
      "- (Train)   bce:  0.3311, mse:  0.9552,  acc: 90.145 %, pearson: 0.722, spearman: 0.536, elapse: 79.525 s\n"
     ]
    },
    {
     "data": {
      "application/vnd.jupyter.widget-view+json": {
       "model_id": "077f9c9b9ca04e44b51496c747ad8bb1",
       "version_major": 2,
       "version_minor": 0
      },
      "text/plain": [
       "  - (Validation)   :   0%|          | 0/10 [00:00<?, ?it/s]"
      ]
     },
     "metadata": {},
     "output_type": "display_data"
    },
    {
     "name": "stdout",
     "output_type": "stream",
     "text": [
      "- (Valid) bce:  0.3382,  acc: 89.896 %,pearson: 0.708, spearman: 0.526,elapse: 0.230 s\n",
      "update_rate: 0.002135\t0.070854\t\n",
      "[ Epoch 30 of 80 ]\n"
     ]
    },
    {
     "data": {
      "application/vnd.jupyter.widget-view+json": {
       "model_id": "9fab9672aa9e43c8a10111e7193776ea",
       "version_major": 2,
       "version_minor": 0
      },
      "text/plain": [
       " - (Training) :   0%|          | 0/1000 [00:00<?, ?it/s]"
      ]
     },
     "metadata": {},
     "output_type": "display_data"
    },
    {
     "name": "stdout",
     "output_type": "stream",
     "text": [
      "- (Train)   bce:  0.3306, mse:  0.9548,  acc: 90.175 %, pearson: 0.725, spearman: 0.536, elapse: 79.850 s\n"
     ]
    },
    {
     "data": {
      "application/vnd.jupyter.widget-view+json": {
       "model_id": "0f8c31e3f89249608fcccf839ed1eac7",
       "version_major": 2,
       "version_minor": 0
      },
      "text/plain": [
       "  - (Validation)   :   0%|          | 0/10 [00:00<?, ?it/s]"
      ]
     },
     "metadata": {},
     "output_type": "display_data"
    },
    {
     "name": "stdout",
     "output_type": "stream",
     "text": [
      "- (Valid) bce:  0.3375,  acc: 89.934 %,pearson: 0.714, spearman: 0.527,elapse: 0.225 s\n",
      "update_rate: 0.001789\t0.050346\t\n",
      "[ Epoch 31 of 80 ]\n"
     ]
    },
    {
     "data": {
      "application/vnd.jupyter.widget-view+json": {
       "model_id": "29a1b21a804e4cf298e6e09bb1be6cf8",
       "version_major": 2,
       "version_minor": 0
      },
      "text/plain": [
       " - (Training) :   0%|          | 0/1000 [00:00<?, ?it/s]"
      ]
     },
     "metadata": {},
     "output_type": "display_data"
    },
    {
     "name": "stdout",
     "output_type": "stream",
     "text": [
      "- (Train)   bce:  0.3311, mse:  0.9543,  acc: 90.157 %, pearson: 0.725, spearman: 0.536, elapse: 80.019 s\n"
     ]
    },
    {
     "data": {
      "application/vnd.jupyter.widget-view+json": {
       "model_id": "fa92636835244b5eb0dfa505021ea276",
       "version_major": 2,
       "version_minor": 0
      },
      "text/plain": [
       "  - (Validation)   :   0%|          | 0/10 [00:00<?, ?it/s]"
      ]
     },
     "metadata": {},
     "output_type": "display_data"
    },
    {
     "name": "stdout",
     "output_type": "stream",
     "text": [
      "- (Valid) bce:  0.3319,  acc: 90.034 %,pearson: 0.739, spearman: 0.535,elapse: 0.228 s\n",
      "update_rate: 0.001764\t0.049992\t\n",
      "[ Epoch 32 of 80 ]\n"
     ]
    },
    {
     "data": {
      "application/vnd.jupyter.widget-view+json": {
       "model_id": "c2755629670040df856a2f1845878d95",
       "version_major": 2,
       "version_minor": 0
      },
      "text/plain": [
       " - (Training) :   0%|          | 0/1000 [00:00<?, ?it/s]"
      ]
     },
     "metadata": {},
     "output_type": "display_data"
    },
    {
     "name": "stdout",
     "output_type": "stream",
     "text": [
      "- (Train)   bce:  0.3299, mse:  0.9553,  acc: 90.208 %, pearson: 0.728, spearman: 0.537, elapse: 79.296 s\n"
     ]
    },
    {
     "data": {
      "application/vnd.jupyter.widget-view+json": {
       "model_id": "a0ac6c9ded044520b34e859b8975ea6f",
       "version_major": 2,
       "version_minor": 0
      },
      "text/plain": [
       "  - (Validation)   :   0%|          | 0/10 [00:00<?, ?it/s]"
      ]
     },
     "metadata": {},
     "output_type": "display_data"
    },
    {
     "name": "stdout",
     "output_type": "stream",
     "text": [
      "- (Valid) bce:  0.3378,  acc: 89.984 %,pearson: 0.735, spearman: 0.529,elapse: 0.226 s\n",
      "update_rate: 0.001382\t0.047792\t\n",
      "[ Epoch 33 of 80 ]\n"
     ]
    },
    {
     "data": {
      "application/vnd.jupyter.widget-view+json": {
       "model_id": "44067836ff224ba6abba5d97d307bba8",
       "version_major": 2,
       "version_minor": 0
      },
      "text/plain": [
       " - (Training) :   0%|          | 0/1000 [00:00<?, ?it/s]"
      ]
     },
     "metadata": {},
     "output_type": "display_data"
    },
    {
     "name": "stdout",
     "output_type": "stream",
     "text": [
      "- (Train)   bce:  0.3316, mse:  0.9546,  acc: 90.145 %, pearson: 0.726, spearman: 0.535, elapse: 79.282 s\n"
     ]
    },
    {
     "data": {
      "application/vnd.jupyter.widget-view+json": {
       "model_id": "8cbffc0eca294315a7ff42d91b5f1d1f",
       "version_major": 2,
       "version_minor": 0
      },
      "text/plain": [
       "  - (Validation)   :   0%|          | 0/10 [00:00<?, ?it/s]"
      ]
     },
     "metadata": {},
     "output_type": "display_data"
    },
    {
     "name": "stdout",
     "output_type": "stream",
     "text": [
      "- (Valid) bce:  0.3314,  acc: 90.111 %,pearson: 0.753, spearman: 0.537,elapse: 0.229 s\n",
      "update_rate: 0.002031\t0.031330\t\n",
      "[ Epoch 34 of 80 ]\n"
     ]
    },
    {
     "data": {
      "application/vnd.jupyter.widget-view+json": {
       "model_id": "3038f248a82e4e8ba3ac5a6eda3571dc",
       "version_major": 2,
       "version_minor": 0
      },
      "text/plain": [
       " - (Training) :   0%|          | 0/1000 [00:00<?, ?it/s]"
      ]
     },
     "metadata": {},
     "output_type": "display_data"
    },
    {
     "name": "stdout",
     "output_type": "stream",
     "text": [
      "- (Train)   bce:  0.3296, mse:  0.9544,  acc: 90.214 %, pearson: 0.730, spearman: 0.538, elapse: 79.197 s\n"
     ]
    },
    {
     "data": {
      "application/vnd.jupyter.widget-view+json": {
       "model_id": "4770c22b551a4ebeacbe8d6a6ef6d1c6",
       "version_major": 2,
       "version_minor": 0
      },
      "text/plain": [
       "  - (Validation)   :   0%|          | 0/10 [00:00<?, ?it/s]"
      ]
     },
     "metadata": {},
     "output_type": "display_data"
    },
    {
     "name": "stdout",
     "output_type": "stream",
     "text": [
      "- (Valid) bce:  0.3276,  acc: 90.150 %,pearson: 0.722, spearman: 0.543,elapse: 0.228 s\n",
      "update_rate: 0.001701\t0.040585\t\n",
      "[ Epoch 35 of 80 ]\n"
     ]
    },
    {
     "data": {
      "application/vnd.jupyter.widget-view+json": {
       "model_id": "f08cf67fa5e641db9f51d3aeea89cafb",
       "version_major": 2,
       "version_minor": 0
      },
      "text/plain": [
       " - (Training) :   0%|          | 0/1000 [00:00<?, ?it/s]"
      ]
     },
     "metadata": {},
     "output_type": "display_data"
    },
    {
     "name": "stdout",
     "output_type": "stream",
     "text": [
      "- (Train)   bce:  0.3309, mse:  0.9544,  acc: 90.159 %, pearson: 0.724, spearman: 0.536, elapse: 79.198 s\n"
     ]
    },
    {
     "data": {
      "application/vnd.jupyter.widget-view+json": {
       "model_id": "12b44eda00424982b48db8329f9793a7",
       "version_major": 2,
       "version_minor": 0
      },
      "text/plain": [
       "  - (Validation)   :   0%|          | 0/10 [00:00<?, ?it/s]"
      ]
     },
     "metadata": {},
     "output_type": "display_data"
    },
    {
     "name": "stdout",
     "output_type": "stream",
     "text": [
      "- (Valid) bce:  0.3374,  acc: 89.928 %,pearson: 0.739, spearman: 0.529,elapse: 0.220 s\n",
      "update_rate: 0.001588\t0.065094\t\n",
      "[ Epoch 36 of 80 ]\n"
     ]
    },
    {
     "data": {
      "application/vnd.jupyter.widget-view+json": {
       "model_id": "778dfca071554e4ebf6f6be27fa387e3",
       "version_major": 2,
       "version_minor": 0
      },
      "text/plain": [
       " - (Training) :   0%|          | 0/1000 [00:00<?, ?it/s]"
      ]
     },
     "metadata": {},
     "output_type": "display_data"
    },
    {
     "name": "stdout",
     "output_type": "stream",
     "text": [
      "- (Train)   bce:  0.3298, mse:  0.9543,  acc: 90.210 %, pearson: 0.730, spearman: 0.537, elapse: 79.178 s\n"
     ]
    },
    {
     "data": {
      "application/vnd.jupyter.widget-view+json": {
       "model_id": "fc61328038b3470fb2ca67b3d2635fee",
       "version_major": 2,
       "version_minor": 0
      },
      "text/plain": [
       "  - (Validation)   :   0%|          | 0/10 [00:00<?, ?it/s]"
      ]
     },
     "metadata": {},
     "output_type": "display_data"
    },
    {
     "name": "stdout",
     "output_type": "stream",
     "text": [
      "- (Valid) bce:  0.3374,  acc: 89.949 %,pearson: 0.697, spearman: 0.530,elapse: 0.223 s\n",
      "update_rate: 0.001815\t0.048269\t\n",
      "[ Epoch 37 of 80 ]\n"
     ]
    },
    {
     "data": {
      "application/vnd.jupyter.widget-view+json": {
       "model_id": "721077e82ddb4c7687b9733933f6fcb7",
       "version_major": 2,
       "version_minor": 0
      },
      "text/plain": [
       " - (Training) :   0%|          | 0/1000 [00:00<?, ?it/s]"
      ]
     },
     "metadata": {},
     "output_type": "display_data"
    },
    {
     "name": "stdout",
     "output_type": "stream",
     "text": [
      "- (Train)   bce:  0.3313, mse:  0.9542,  acc: 90.142 %, pearson: 0.728, spearman: 0.535, elapse: 79.546 s\n"
     ]
    },
    {
     "data": {
      "application/vnd.jupyter.widget-view+json": {
       "model_id": "11524ba4eb3943f9b32aca749997bdbd",
       "version_major": 2,
       "version_minor": 0
      },
      "text/plain": [
       "  - (Validation)   :   0%|          | 0/10 [00:00<?, ?it/s]"
      ]
     },
     "metadata": {},
     "output_type": "display_data"
    },
    {
     "name": "stdout",
     "output_type": "stream",
     "text": [
      "- (Valid) bce:  0.3267,  acc: 90.362 %,pearson: 0.729, spearman: 0.545,elapse: 0.223 s\n",
      "update_rate: 0.001307\t0.095254\t\n",
      "[ Epoch 38 of 80 ]\n"
     ]
    },
    {
     "data": {
      "application/vnd.jupyter.widget-view+json": {
       "model_id": "8aba683f99c24e8ea1bfb3da6347e333",
       "version_major": 2,
       "version_minor": 0
      },
      "text/plain": [
       " - (Training) :   0%|          | 0/1000 [00:00<?, ?it/s]"
      ]
     },
     "metadata": {},
     "output_type": "display_data"
    },
    {
     "name": "stdout",
     "output_type": "stream",
     "text": [
      "- (Train)   bce:  0.3295, mse:  0.9541,  acc: 90.202 %, pearson: 0.727, spearman: 0.538, elapse: 79.358 s\n"
     ]
    },
    {
     "data": {
      "application/vnd.jupyter.widget-view+json": {
       "model_id": "d81eca10b46941c4be58d5fea2456d16",
       "version_major": 2,
       "version_minor": 0
      },
      "text/plain": [
       "  - (Validation)   :   0%|          | 0/10 [00:00<?, ?it/s]"
      ]
     },
     "metadata": {},
     "output_type": "display_data"
    },
    {
     "name": "stdout",
     "output_type": "stream",
     "text": [
      "- (Valid) bce:  0.3314,  acc: 90.094 %,pearson: 0.734, spearman: 0.537,elapse: 0.226 s\n",
      "update_rate: 0.001517\t0.034007\t\n",
      "[ Epoch 39 of 80 ]\n"
     ]
    },
    {
     "data": {
      "application/vnd.jupyter.widget-view+json": {
       "model_id": "cfda4fbcb3fe46bdb4dd216139057a68",
       "version_major": 2,
       "version_minor": 0
      },
      "text/plain": [
       " - (Training) :   0%|          | 0/1000 [00:00<?, ?it/s]"
      ]
     },
     "metadata": {},
     "output_type": "display_data"
    },
    {
     "name": "stdout",
     "output_type": "stream",
     "text": [
      "- (Train)   bce:  0.3301, mse:  0.9541,  acc: 90.202 %, pearson: 0.727, spearman: 0.537, elapse: 79.390 s\n"
     ]
    },
    {
     "data": {
      "application/vnd.jupyter.widget-view+json": {
       "model_id": "6f770bc07b864bbf8e38be1e3d45f65d",
       "version_major": 2,
       "version_minor": 0
      },
      "text/plain": [
       "  - (Validation)   :   0%|          | 0/10 [00:00<?, ?it/s]"
      ]
     },
     "metadata": {},
     "output_type": "display_data"
    },
    {
     "name": "stdout",
     "output_type": "stream",
     "text": [
      "- (Valid) bce:  0.3375,  acc: 89.919 %,pearson: 0.703, spearman: 0.527,elapse: 0.226 s\n",
      "update_rate: 0.001432\t0.039974\t\n",
      "[ Epoch 40 of 80 ]\n"
     ]
    },
    {
     "data": {
      "application/vnd.jupyter.widget-view+json": {
       "model_id": "1e0c375885fc4e019630eece0e1a7662",
       "version_major": 2,
       "version_minor": 0
      },
      "text/plain": [
       " - (Training) :   0%|          | 0/1000 [00:00<?, ?it/s]"
      ]
     },
     "metadata": {},
     "output_type": "display_data"
    },
    {
     "name": "stdout",
     "output_type": "stream",
     "text": [
      "- (Train)   bce:  0.3289, mse:  0.9534,  acc: 90.220 %, pearson: 0.730, spearman: 0.539, elapse: 79.546 s\n"
     ]
    },
    {
     "data": {
      "application/vnd.jupyter.widget-view+json": {
       "model_id": "edd5d7fa0c6d4d00ab7e1949e6b08254",
       "version_major": 2,
       "version_minor": 0
      },
      "text/plain": [
       "  - (Validation)   :   0%|          | 0/10 [00:00<?, ?it/s]"
      ]
     },
     "metadata": {},
     "output_type": "display_data"
    },
    {
     "name": "stdout",
     "output_type": "stream",
     "text": [
      "- (Valid) bce:  0.3306,  acc: 90.017 %,pearson: 0.711, spearman: 0.537,elapse: 0.227 s\n",
      "update_rate: 0.001302\t0.051100\t\n",
      "[ Epoch 41 of 80 ]\n"
     ]
    },
    {
     "data": {
      "application/vnd.jupyter.widget-view+json": {
       "model_id": "28dfbfa69f314a9691a86d1b16d6f4a2",
       "version_major": 2,
       "version_minor": 0
      },
      "text/plain": [
       " - (Training) :   0%|          | 0/1000 [00:00<?, ?it/s]"
      ]
     },
     "metadata": {},
     "output_type": "display_data"
    },
    {
     "name": "stdout",
     "output_type": "stream",
     "text": [
      "- (Train)   bce:  0.3298, mse:  0.9533,  acc: 90.201 %, pearson: 0.731, spearman: 0.537, elapse: 79.368 s\n"
     ]
    },
    {
     "data": {
      "application/vnd.jupyter.widget-view+json": {
       "model_id": "5ac500a43821470e89682ff99d790dc3",
       "version_major": 2,
       "version_minor": 0
      },
      "text/plain": [
       "  - (Validation)   :   0%|          | 0/10 [00:00<?, ?it/s]"
      ]
     },
     "metadata": {},
     "output_type": "display_data"
    },
    {
     "name": "stdout",
     "output_type": "stream",
     "text": [
      "- (Valid) bce:  0.3347,  acc: 89.962 %,pearson: 0.751, spearman: 0.536,elapse: 0.227 s\n",
      "update_rate: 0.001174\t0.028053\t\n",
      "[ Epoch 42 of 80 ]\n"
     ]
    },
    {
     "data": {
      "application/vnd.jupyter.widget-view+json": {
       "model_id": "84a103d48a45461a9a0339d60d56e3f6",
       "version_major": 2,
       "version_minor": 0
      },
      "text/plain": [
       " - (Training) :   0%|          | 0/1000 [00:00<?, ?it/s]"
      ]
     },
     "metadata": {},
     "output_type": "display_data"
    },
    {
     "name": "stdout",
     "output_type": "stream",
     "text": [
      "- (Train)   bce:  0.3300, mse:  0.9540,  acc: 90.208 %, pearson: 0.727, spearman: 0.537, elapse: 79.825 s\n"
     ]
    },
    {
     "data": {
      "application/vnd.jupyter.widget-view+json": {
       "model_id": "9fcc01eb8e654b6b9e4590d957f3c032",
       "version_major": 2,
       "version_minor": 0
      },
      "text/plain": [
       "  - (Validation)   :   0%|          | 0/10 [00:00<?, ?it/s]"
      ]
     },
     "metadata": {},
     "output_type": "display_data"
    },
    {
     "name": "stdout",
     "output_type": "stream",
     "text": [
      "- (Valid) bce:  0.3309,  acc: 90.236 %,pearson: 0.724, spearman: 0.538,elapse: 0.224 s\n",
      "update_rate: 0.001256\t0.027134\t\n",
      "[ Epoch 43 of 80 ]\n"
     ]
    },
    {
     "data": {
      "application/vnd.jupyter.widget-view+json": {
       "model_id": "7a5d486a9506452b8cfb7efff4ca5d7c",
       "version_major": 2,
       "version_minor": 0
      },
      "text/plain": [
       " - (Training) :   0%|          | 0/1000 [00:00<?, ?it/s]"
      ]
     },
     "metadata": {},
     "output_type": "display_data"
    },
    {
     "name": "stdout",
     "output_type": "stream",
     "text": [
      "- (Train)   bce:  0.3293, mse:  0.9528,  acc: 90.191 %, pearson: 0.732, spearman: 0.538, elapse: 79.187 s\n"
     ]
    },
    {
     "data": {
      "application/vnd.jupyter.widget-view+json": {
       "model_id": "e2a089ad89e641b29d68116ecf8b0345",
       "version_major": 2,
       "version_minor": 0
      },
      "text/plain": [
       "  - (Validation)   :   0%|          | 0/10 [00:00<?, ?it/s]"
      ]
     },
     "metadata": {},
     "output_type": "display_data"
    },
    {
     "name": "stdout",
     "output_type": "stream",
     "text": [
      "- (Valid) bce:  0.3396,  acc: 89.891 %,pearson: 0.715, spearman: 0.525,elapse: 0.224 s\n",
      "update_rate: 0.001114\t0.032399\t\n",
      "[ Epoch 44 of 80 ]\n"
     ]
    },
    {
     "data": {
      "application/vnd.jupyter.widget-view+json": {
       "model_id": "62ca424fd7d64a70b7f07e036e772ae0",
       "version_major": 2,
       "version_minor": 0
      },
      "text/plain": [
       " - (Training) :   0%|          | 0/1000 [00:00<?, ?it/s]"
      ]
     },
     "metadata": {},
     "output_type": "display_data"
    },
    {
     "name": "stdout",
     "output_type": "stream",
     "text": [
      "- (Train)   bce:  0.3301, mse:  0.9529,  acc: 90.197 %, pearson: 0.731, spearman: 0.537, elapse: 79.526 s\n"
     ]
    },
    {
     "data": {
      "application/vnd.jupyter.widget-view+json": {
       "model_id": "b2db046a85c747b797ed38b52d333f54",
       "version_major": 2,
       "version_minor": 0
      },
      "text/plain": [
       "  - (Validation)   :   0%|          | 0/10 [00:00<?, ?it/s]"
      ]
     },
     "metadata": {},
     "output_type": "display_data"
    },
    {
     "name": "stdout",
     "output_type": "stream",
     "text": [
      "- (Valid) bce:  0.3282,  acc: 90.354 %,pearson: 0.740, spearman: 0.543,elapse: 0.223 s\n",
      "update_rate: 0.000923\t0.038761\t\n",
      "[ Epoch 45 of 80 ]\n"
     ]
    },
    {
     "data": {
      "application/vnd.jupyter.widget-view+json": {
       "model_id": "14cb2fb0ac6a42adb64476bb2d0239a9",
       "version_major": 2,
       "version_minor": 0
      },
      "text/plain": [
       " - (Training) :   0%|          | 0/1000 [00:00<?, ?it/s]"
      ]
     },
     "metadata": {},
     "output_type": "display_data"
    },
    {
     "name": "stdout",
     "output_type": "stream",
     "text": [
      "- (Train)   bce:  0.3297, mse:  0.9529,  acc: 90.198 %, pearson: 0.729, spearman: 0.537, elapse: 79.861 s\n"
     ]
    },
    {
     "data": {
      "application/vnd.jupyter.widget-view+json": {
       "model_id": "0d0859db17474e00bcbdb79925f3165d",
       "version_major": 2,
       "version_minor": 0
      },
      "text/plain": [
       "  - (Validation)   :   0%|          | 0/10 [00:00<?, ?it/s]"
      ]
     },
     "metadata": {},
     "output_type": "display_data"
    },
    {
     "name": "stdout",
     "output_type": "stream",
     "text": [
      "- (Valid) bce:  0.3431,  acc: 89.733 %,pearson: 0.667, spearman: 0.522,elapse: 0.227 s\n",
      "update_rate: 0.001037\t0.029001\t\n",
      "[ Epoch 46 of 80 ]\n"
     ]
    },
    {
     "data": {
      "application/vnd.jupyter.widget-view+json": {
       "model_id": "f43d627d90e14e95b554336bb351f61e",
       "version_major": 2,
       "version_minor": 0
      },
      "text/plain": [
       " - (Training) :   0%|          | 0/1000 [00:00<?, ?it/s]"
      ]
     },
     "metadata": {},
     "output_type": "display_data"
    },
    {
     "name": "stdout",
     "output_type": "stream",
     "text": [
      "- (Train)   bce:  0.3287, mse:  0.9535,  acc: 90.243 %, pearson: 0.731, spearman: 0.539, elapse: 79.775 s\n"
     ]
    },
    {
     "data": {
      "application/vnd.jupyter.widget-view+json": {
       "model_id": "042c9bd485db4ea683ead7589a81dd78",
       "version_major": 2,
       "version_minor": 0
      },
      "text/plain": [
       "  - (Validation)   :   0%|          | 0/10 [00:00<?, ?it/s]"
      ]
     },
     "metadata": {},
     "output_type": "display_data"
    },
    {
     "name": "stdout",
     "output_type": "stream",
     "text": [
      "- (Valid) bce:  0.3287,  acc: 90.177 %,pearson: 0.746, spearman: 0.541,elapse: 0.229 s\n",
      "update_rate: 0.001320\t0.035097\t\n",
      "[ Epoch 47 of 80 ]\n"
     ]
    },
    {
     "data": {
      "application/vnd.jupyter.widget-view+json": {
       "model_id": "e0243bdb908a43c9b008eb376bb26541",
       "version_major": 2,
       "version_minor": 0
      },
      "text/plain": [
       " - (Training) :   0%|          | 0/1000 [00:00<?, ?it/s]"
      ]
     },
     "metadata": {},
     "output_type": "display_data"
    },
    {
     "name": "stdout",
     "output_type": "stream",
     "text": [
      "- (Train)   bce:  0.3294, mse:  0.9536,  acc: 90.210 %, pearson: 0.730, spearman: 0.538, elapse: 79.272 s\n"
     ]
    },
    {
     "data": {
      "application/vnd.jupyter.widget-view+json": {
       "model_id": "6a64d6476de441e48da604e4c7e13474",
       "version_major": 2,
       "version_minor": 0
      },
      "text/plain": [
       "  - (Validation)   :   0%|          | 0/10 [00:00<?, ?it/s]"
      ]
     },
     "metadata": {},
     "output_type": "display_data"
    },
    {
     "name": "stdout",
     "output_type": "stream",
     "text": [
      "- (Valid) bce:  0.3301,  acc: 90.163 %,pearson: 0.755, spearman: 0.539,elapse: 0.224 s\n",
      "update_rate: 0.001379\t0.024693\t\n",
      "[ Epoch 48 of 80 ]\n"
     ]
    },
    {
     "data": {
      "application/vnd.jupyter.widget-view+json": {
       "model_id": "45c44c2439ae4d84a5cd2ef983a75c03",
       "version_major": 2,
       "version_minor": 0
      },
      "text/plain": [
       " - (Training) :   0%|          | 0/1000 [00:00<?, ?it/s]"
      ]
     },
     "metadata": {},
     "output_type": "display_data"
    },
    {
     "name": "stdout",
     "output_type": "stream",
     "text": [
      "- (Train)   bce:  0.3294, mse:  0.9531,  acc: 90.219 %, pearson: 0.728, spearman: 0.538, elapse: 79.126 s\n"
     ]
    },
    {
     "data": {
      "application/vnd.jupyter.widget-view+json": {
       "model_id": "a64327dd0c154120ae789b30b497c0cf",
       "version_major": 2,
       "version_minor": 0
      },
      "text/plain": [
       "  - (Validation)   :   0%|          | 0/10 [00:00<?, ?it/s]"
      ]
     },
     "metadata": {},
     "output_type": "display_data"
    },
    {
     "name": "stdout",
     "output_type": "stream",
     "text": [
      "- (Valid) bce:  0.3278,  acc: 90.298 %,pearson: 0.749, spearman: 0.541,elapse: 0.224 s\n",
      "update_rate: 0.001741\t0.026513\t\n",
      "[ Epoch 49 of 80 ]\n"
     ]
    },
    {
     "data": {
      "application/vnd.jupyter.widget-view+json": {
       "model_id": "df71e0a891c045e6a7df2181b2654a1c",
       "version_major": 2,
       "version_minor": 0
      },
      "text/plain": [
       " - (Training) :   0%|          | 0/1000 [00:00<?, ?it/s]"
      ]
     },
     "metadata": {},
     "output_type": "display_data"
    },
    {
     "name": "stdout",
     "output_type": "stream",
     "text": [
      "- (Train)   bce:  0.3304, mse:  0.9535,  acc: 90.187 %, pearson: 0.729, spearman: 0.536, elapse: 79.546 s\n"
     ]
    },
    {
     "data": {
      "application/vnd.jupyter.widget-view+json": {
       "model_id": "f127aab537e046b9955db28819669793",
       "version_major": 2,
       "version_minor": 0
      },
      "text/plain": [
       "  - (Validation)   :   0%|          | 0/10 [00:00<?, ?it/s]"
      ]
     },
     "metadata": {},
     "output_type": "display_data"
    },
    {
     "name": "stdout",
     "output_type": "stream",
     "text": [
      "- (Valid) bce:  0.3338,  acc: 90.074 %,pearson: 0.697, spearman: 0.533,elapse: 0.227 s\n",
      "update_rate: 0.001217\t0.046133\t\n",
      "[ Epoch 50 of 80 ]\n"
     ]
    },
    {
     "data": {
      "application/vnd.jupyter.widget-view+json": {
       "model_id": "09e77c4415494a708f09e8b34a9224aa",
       "version_major": 2,
       "version_minor": 0
      },
      "text/plain": [
       " - (Training) :   0%|          | 0/1000 [00:00<?, ?it/s]"
      ]
     },
     "metadata": {},
     "output_type": "display_data"
    },
    {
     "name": "stdout",
     "output_type": "stream",
     "text": [
      "- (Train)   bce:  0.3295, mse:  0.9529,  acc: 90.232 %, pearson: 0.734, spearman: 0.538, elapse: 79.142 s\n"
     ]
    },
    {
     "data": {
      "application/vnd.jupyter.widget-view+json": {
       "model_id": "252c15606d2047c19cdb30caa109d493",
       "version_major": 2,
       "version_minor": 0
      },
      "text/plain": [
       "  - (Validation)   :   0%|          | 0/10 [00:00<?, ?it/s]"
      ]
     },
     "metadata": {},
     "output_type": "display_data"
    },
    {
     "name": "stdout",
     "output_type": "stream",
     "text": [
      "- (Valid) bce:  0.3339,  acc: 89.991 %,pearson: 0.735, spearman: 0.532,elapse: 0.227 s\n",
      "update_rate: 0.001319\t0.025225\t\n",
      "[ Epoch 51 of 80 ]\n"
     ]
    },
    {
     "data": {
      "application/vnd.jupyter.widget-view+json": {
       "model_id": "d61fd25cfcbe4e5781c4f46d76bf7e61",
       "version_major": 2,
       "version_minor": 0
      },
      "text/plain": [
       " - (Training) :   0%|          | 0/1000 [00:00<?, ?it/s]"
      ]
     },
     "metadata": {},
     "output_type": "display_data"
    },
    {
     "name": "stdout",
     "output_type": "stream",
     "text": [
      "- (Train)   bce:  0.3291, mse:  0.9533,  acc: 90.233 %, pearson: 0.731, spearman: 0.538, elapse: 79.450 s\n"
     ]
    },
    {
     "data": {
      "application/vnd.jupyter.widget-view+json": {
       "model_id": "de1e1202c965453190532de4e5aaa512",
       "version_major": 2,
       "version_minor": 0
      },
      "text/plain": [
       "  - (Validation)   :   0%|          | 0/10 [00:00<?, ?it/s]"
      ]
     },
     "metadata": {},
     "output_type": "display_data"
    },
    {
     "name": "stdout",
     "output_type": "stream",
     "text": [
      "- (Valid) bce:  0.3291,  acc: 90.215 %,pearson: 0.740, spearman: 0.542,elapse: 0.226 s\n",
      "update_rate: 0.001233\t0.029288\t\n",
      "[ Epoch 52 of 80 ]\n"
     ]
    },
    {
     "data": {
      "application/vnd.jupyter.widget-view+json": {
       "model_id": "f4c7a8c3d1be4fb4914d65c054905447",
       "version_major": 2,
       "version_minor": 0
      },
      "text/plain": [
       " - (Training) :   0%|          | 0/1000 [00:00<?, ?it/s]"
      ]
     },
     "metadata": {},
     "output_type": "display_data"
    },
    {
     "name": "stdout",
     "output_type": "stream",
     "text": [
      "- (Train)   bce:  0.3293, mse:  0.9534,  acc: 90.200 %, pearson: 0.733, spearman: 0.538, elapse: 79.090 s\n"
     ]
    },
    {
     "data": {
      "application/vnd.jupyter.widget-view+json": {
       "model_id": "d3a905e8916c4714a5a0572daf2fc5ba",
       "version_major": 2,
       "version_minor": 0
      },
      "text/plain": [
       "  - (Validation)   :   0%|          | 0/10 [00:00<?, ?it/s]"
      ]
     },
     "metadata": {},
     "output_type": "display_data"
    },
    {
     "name": "stdout",
     "output_type": "stream",
     "text": [
      "- (Valid) bce:  0.3426,  acc: 89.650 %,pearson: 0.688, spearman: 0.522,elapse: 0.224 s\n",
      "update_rate: 0.001081\t0.036131\t\n",
      "[ Epoch 53 of 80 ]\n"
     ]
    },
    {
     "data": {
      "application/vnd.jupyter.widget-view+json": {
       "model_id": "67b549c6c08e418daa7b07da3246afff",
       "version_major": 2,
       "version_minor": 0
      },
      "text/plain": [
       " - (Training) :   0%|          | 0/1000 [00:00<?, ?it/s]"
      ]
     },
     "metadata": {},
     "output_type": "display_data"
    },
    {
     "name": "stdout",
     "output_type": "stream",
     "text": [
      "- (Train)   bce:  0.3309, mse:  0.9536,  acc: 90.177 %, pearson: 0.728, spearman: 0.535, elapse: 79.357 s\n"
     ]
    },
    {
     "data": {
      "application/vnd.jupyter.widget-view+json": {
       "model_id": "b05de09990844d8a8e55fc98456a7102",
       "version_major": 2,
       "version_minor": 0
      },
      "text/plain": [
       "  - (Validation)   :   0%|          | 0/10 [00:00<?, ?it/s]"
      ]
     },
     "metadata": {},
     "output_type": "display_data"
    },
    {
     "name": "stdout",
     "output_type": "stream",
     "text": [
      "- (Valid) bce:  0.3364,  acc: 90.079 %,pearson: 0.707, spearman: 0.531,elapse: 0.226 s\n",
      "update_rate: 0.001448\t0.032438\t\n",
      "[ Epoch 54 of 80 ]\n"
     ]
    },
    {
     "data": {
      "application/vnd.jupyter.widget-view+json": {
       "model_id": "e2ac1e88f57a452b8faec0034ce0aa5a",
       "version_major": 2,
       "version_minor": 0
      },
      "text/plain": [
       " - (Training) :   0%|          | 0/1000 [00:00<?, ?it/s]"
      ]
     },
     "metadata": {},
     "output_type": "display_data"
    },
    {
     "name": "stdout",
     "output_type": "stream",
     "text": [
      "- (Train)   bce:  0.3292, mse:  0.9528,  acc: 90.225 %, pearson: 0.730, spearman: 0.538, elapse: 79.141 s\n"
     ]
    },
    {
     "data": {
      "application/vnd.jupyter.widget-view+json": {
       "model_id": "b71ee304e30844e1a4df67dc56bace99",
       "version_major": 2,
       "version_minor": 0
      },
      "text/plain": [
       "  - (Validation)   :   0%|          | 0/10 [00:00<?, ?it/s]"
      ]
     },
     "metadata": {},
     "output_type": "display_data"
    },
    {
     "name": "stdout",
     "output_type": "stream",
     "text": [
      "- (Valid) bce:  0.3388,  acc: 90.043 %,pearson: 0.732, spearman: 0.529,elapse: 0.226 s\n",
      "update_rate: 0.001273\t0.026494\t\n",
      "[ Epoch 55 of 80 ]\n"
     ]
    },
    {
     "data": {
      "application/vnd.jupyter.widget-view+json": {
       "model_id": "f4eb036e1edf4a7eb2d77c43b1bc43b7",
       "version_major": 2,
       "version_minor": 0
      },
      "text/plain": [
       " - (Training) :   0%|          | 0/1000 [00:00<?, ?it/s]"
      ]
     },
     "metadata": {},
     "output_type": "display_data"
    },
    {
     "name": "stdout",
     "output_type": "stream",
     "text": [
      "- (Train)   bce:  0.3291, mse:  0.9530,  acc: 90.217 %, pearson: 0.735, spearman: 0.538, elapse: 79.273 s\n"
     ]
    },
    {
     "data": {
      "application/vnd.jupyter.widget-view+json": {
       "model_id": "1e3f89383fca430a8d0cee40139c5ff6",
       "version_major": 2,
       "version_minor": 0
      },
      "text/plain": [
       "  - (Validation)   :   0%|          | 0/10 [00:00<?, ?it/s]"
      ]
     },
     "metadata": {},
     "output_type": "display_data"
    },
    {
     "name": "stdout",
     "output_type": "stream",
     "text": [
      "- (Valid) bce:  0.3399,  acc: 89.922 %,pearson: 0.758, spearman: 0.524,elapse: 0.224 s\n",
      "update_rate: 0.000969\t0.028794\t\n",
      "[ Epoch 56 of 80 ]\n"
     ]
    },
    {
     "data": {
      "application/vnd.jupyter.widget-view+json": {
       "model_id": "3c7b976ca43c40d89dad7460debf7466",
       "version_major": 2,
       "version_minor": 0
      },
      "text/plain": [
       " - (Training) :   0%|          | 0/1000 [00:00<?, ?it/s]"
      ]
     },
     "metadata": {},
     "output_type": "display_data"
    },
    {
     "name": "stdout",
     "output_type": "stream",
     "text": [
      "- (Train)   bce:  0.3289, mse:  0.9537,  acc: 90.232 %, pearson: 0.731, spearman: 0.539, elapse: 78.973 s\n"
     ]
    },
    {
     "data": {
      "application/vnd.jupyter.widget-view+json": {
       "model_id": "df9354a3d60c4483b4352ce56d172b80",
       "version_major": 2,
       "version_minor": 0
      },
      "text/plain": [
       "  - (Validation)   :   0%|          | 0/10 [00:00<?, ?it/s]"
      ]
     },
     "metadata": {},
     "output_type": "display_data"
    },
    {
     "name": "stdout",
     "output_type": "stream",
     "text": [
      "- (Valid) bce:  0.3307,  acc: 90.090 %,pearson: 0.741, spearman: 0.542,elapse: 0.225 s\n",
      "update_rate: 0.001202\t0.034421\t\n",
      "[ Epoch 57 of 80 ]\n"
     ]
    },
    {
     "data": {
      "application/vnd.jupyter.widget-view+json": {
       "model_id": "e5ed5d95a5604457a4e65c9f099eff41",
       "version_major": 2,
       "version_minor": 0
      },
      "text/plain": [
       " - (Training) :   0%|          | 0/1000 [00:00<?, ?it/s]"
      ]
     },
     "metadata": {},
     "output_type": "display_data"
    },
    {
     "name": "stdout",
     "output_type": "stream",
     "text": [
      "- (Train)   bce:  0.3297, mse:  0.9539,  acc: 90.185 %, pearson: 0.733, spearman: 0.537, elapse: 78.921 s\n"
     ]
    },
    {
     "data": {
      "application/vnd.jupyter.widget-view+json": {
       "model_id": "afe78922502843aea0f2344d94d65fb7",
       "version_major": 2,
       "version_minor": 0
      },
      "text/plain": [
       "  - (Validation)   :   0%|          | 0/10 [00:00<?, ?it/s]"
      ]
     },
     "metadata": {},
     "output_type": "display_data"
    },
    {
     "name": "stdout",
     "output_type": "stream",
     "text": [
      "- (Valid) bce:  0.3362,  acc: 90.023 %,pearson: 0.721, spearman: 0.530,elapse: 0.221 s\n",
      "update_rate: 0.001303\t0.025958\t\n",
      "[ Epoch 58 of 80 ]\n"
     ]
    },
    {
     "data": {
      "application/vnd.jupyter.widget-view+json": {
       "model_id": "2ab75554771f47caae69d8d2e2a0827e",
       "version_major": 2,
       "version_minor": 0
      },
      "text/plain": [
       " - (Training) :   0%|          | 0/1000 [00:00<?, ?it/s]"
      ]
     },
     "metadata": {},
     "output_type": "display_data"
    },
    {
     "name": "stdout",
     "output_type": "stream",
     "text": [
      "- (Train)   bce:  0.3298, mse:  0.9536,  acc: 90.209 %, pearson: 0.734, spearman: 0.537, elapse: 79.256 s\n"
     ]
    },
    {
     "data": {
      "application/vnd.jupyter.widget-view+json": {
       "model_id": "808dfaf832054474ac7b93443b62bd67",
       "version_major": 2,
       "version_minor": 0
      },
      "text/plain": [
       "  - (Validation)   :   0%|          | 0/10 [00:00<?, ?it/s]"
      ]
     },
     "metadata": {},
     "output_type": "display_data"
    },
    {
     "name": "stdout",
     "output_type": "stream",
     "text": [
      "- (Valid) bce:  0.3333,  acc: 90.095 %,pearson: 0.716, spearman: 0.532,elapse: 0.228 s\n",
      "update_rate: 0.001014\t0.024391\t\n",
      "[ Epoch 59 of 80 ]\n"
     ]
    },
    {
     "data": {
      "application/vnd.jupyter.widget-view+json": {
       "model_id": "ddb1f650cd994518b67645168463b08c",
       "version_major": 2,
       "version_minor": 0
      },
      "text/plain": [
       " - (Training) :   0%|          | 0/1000 [00:00<?, ?it/s]"
      ]
     },
     "metadata": {},
     "output_type": "display_data"
    },
    {
     "name": "stdout",
     "output_type": "stream",
     "text": [
      "- (Train)   bce:  0.3290, mse:  0.9528,  acc: 90.225 %, pearson: 0.732, spearman: 0.538, elapse: 78.901 s\n"
     ]
    },
    {
     "data": {
      "application/vnd.jupyter.widget-view+json": {
       "model_id": "57488bb7225c48dbad65aa70d9f06af9",
       "version_major": 2,
       "version_minor": 0
      },
      "text/plain": [
       "  - (Validation)   :   0%|          | 0/10 [00:00<?, ?it/s]"
      ]
     },
     "metadata": {},
     "output_type": "display_data"
    },
    {
     "name": "stdout",
     "output_type": "stream",
     "text": [
      "- (Valid) bce:  0.3258,  acc: 90.368 %,pearson: 0.745, spearman: 0.545,elapse: 0.226 s\n",
      "update_rate: 0.001132\t0.025895\t\n",
      "[ Epoch 60 of 80 ]\n"
     ]
    },
    {
     "data": {
      "application/vnd.jupyter.widget-view+json": {
       "model_id": "31efa0818d0a480986cad0e079c7c1cc",
       "version_major": 2,
       "version_minor": 0
      },
      "text/plain": [
       " - (Training) :   0%|          | 0/1000 [00:00<?, ?it/s]"
      ]
     },
     "metadata": {},
     "output_type": "display_data"
    },
    {
     "name": "stdout",
     "output_type": "stream",
     "text": [
      "- (Train)   bce:  0.3290, mse:  0.9534,  acc: 90.217 %, pearson: 0.733, spearman: 0.538, elapse: 78.793 s\n"
     ]
    },
    {
     "data": {
      "application/vnd.jupyter.widget-view+json": {
       "model_id": "9c9c94bcf4cb49de90a35efb57f8f346",
       "version_major": 2,
       "version_minor": 0
      },
      "text/plain": [
       "  - (Validation)   :   0%|          | 0/10 [00:00<?, ?it/s]"
      ]
     },
     "metadata": {},
     "output_type": "display_data"
    },
    {
     "name": "stdout",
     "output_type": "stream",
     "text": [
      "- (Valid) bce:  0.3346,  acc: 89.953 %,pearson: 0.749, spearman: 0.533,elapse: 0.226 s\n",
      "update_rate: 0.000827\t0.022587\t\n",
      "[ Epoch 61 of 80 ]\n"
     ]
    },
    {
     "data": {
      "application/vnd.jupyter.widget-view+json": {
       "model_id": "f0baae1f2cc148b9bbb367f5a171382d",
       "version_major": 2,
       "version_minor": 0
      },
      "text/plain": [
       " - (Training) :   0%|          | 0/1000 [00:00<?, ?it/s]"
      ]
     },
     "metadata": {},
     "output_type": "display_data"
    },
    {
     "name": "stdout",
     "output_type": "stream",
     "text": [
      "- (Train)   bce:  0.3289, mse:  0.9530,  acc: 90.243 %, pearson: 0.734, spearman: 0.538, elapse: 79.304 s\n"
     ]
    },
    {
     "data": {
      "application/vnd.jupyter.widget-view+json": {
       "model_id": "a06ccf5826f64be4a6f5b61f8e0a9ccc",
       "version_major": 2,
       "version_minor": 0
      },
      "text/plain": [
       "  - (Validation)   :   0%|          | 0/10 [00:00<?, ?it/s]"
      ]
     },
     "metadata": {},
     "output_type": "display_data"
    },
    {
     "name": "stdout",
     "output_type": "stream",
     "text": [
      "- (Valid) bce:  0.3307,  acc: 90.189 %,pearson: 0.705, spearman: 0.537,elapse: 0.228 s\n",
      "update_rate: 0.000832\t0.044055\t\n",
      "[ Epoch 62 of 80 ]\n"
     ]
    },
    {
     "data": {
      "application/vnd.jupyter.widget-view+json": {
       "model_id": "07e73d099ad3445895655a49afec607f",
       "version_major": 2,
       "version_minor": 0
      },
      "text/plain": [
       " - (Training) :   0%|          | 0/1000 [00:00<?, ?it/s]"
      ]
     },
     "metadata": {},
     "output_type": "display_data"
    },
    {
     "name": "stdout",
     "output_type": "stream",
     "text": [
      "- (Train)   bce:  0.3289, mse:  0.9527,  acc: 90.233 %, pearson: 0.733, spearman: 0.538, elapse: 79.226 s\n"
     ]
    },
    {
     "data": {
      "application/vnd.jupyter.widget-view+json": {
       "model_id": "87c6ac8600c84119be562ef15cbd4dad",
       "version_major": 2,
       "version_minor": 0
      },
      "text/plain": [
       "  - (Validation)   :   0%|          | 0/10 [00:00<?, ?it/s]"
      ]
     },
     "metadata": {},
     "output_type": "display_data"
    },
    {
     "name": "stdout",
     "output_type": "stream",
     "text": [
      "- (Valid) bce:  0.3260,  acc: 90.309 %,pearson: 0.736, spearman: 0.544,elapse: 0.225 s\n",
      "update_rate: 0.001039\t0.018457\t\n",
      "[ Epoch 63 of 80 ]\n"
     ]
    },
    {
     "data": {
      "application/vnd.jupyter.widget-view+json": {
       "model_id": "6d310fa8ac944eb18e5e1a480333c482",
       "version_major": 2,
       "version_minor": 0
      },
      "text/plain": [
       " - (Training) :   0%|          | 0/1000 [00:00<?, ?it/s]"
      ]
     },
     "metadata": {},
     "output_type": "display_data"
    },
    {
     "name": "stdout",
     "output_type": "stream",
     "text": [
      "- (Train)   bce:  0.3293, mse:  0.9532,  acc: 90.223 %, pearson: 0.731, spearman: 0.538, elapse: 79.357 s\n"
     ]
    },
    {
     "data": {
      "application/vnd.jupyter.widget-view+json": {
       "model_id": "fa74c99510294d868ae4c485f8caf9df",
       "version_major": 2,
       "version_minor": 0
      },
      "text/plain": [
       "  - (Validation)   :   0%|          | 0/10 [00:00<?, ?it/s]"
      ]
     },
     "metadata": {},
     "output_type": "display_data"
    },
    {
     "name": "stdout",
     "output_type": "stream",
     "text": [
      "- (Valid) bce:  0.3322,  acc: 90.079 %,pearson: 0.726, spearman: 0.534,elapse: 0.224 s\n",
      "update_rate: 0.000948\t0.026748\t\n",
      "[ Epoch 64 of 80 ]\n"
     ]
    },
    {
     "data": {
      "application/vnd.jupyter.widget-view+json": {
       "model_id": "76abe31f36634beaa481af86dd81fef1",
       "version_major": 2,
       "version_minor": 0
      },
      "text/plain": [
       " - (Training) :   0%|          | 0/1000 [00:00<?, ?it/s]"
      ]
     },
     "metadata": {},
     "output_type": "display_data"
    },
    {
     "name": "stdout",
     "output_type": "stream",
     "text": [
      "- (Train)   bce:  0.3278, mse:  0.9528,  acc: 90.287 %, pearson: 0.732, spearman: 0.540, elapse: 79.318 s\n"
     ]
    },
    {
     "data": {
      "application/vnd.jupyter.widget-view+json": {
       "model_id": "8a3b10a307f74ee0acd1de42aef67638",
       "version_major": 2,
       "version_minor": 0
      },
      "text/plain": [
       "  - (Validation)   :   0%|          | 0/10 [00:00<?, ?it/s]"
      ]
     },
     "metadata": {},
     "output_type": "display_data"
    },
    {
     "name": "stdout",
     "output_type": "stream",
     "text": [
      "- (Valid) bce:  0.3344,  acc: 89.984 %,pearson: 0.723, spearman: 0.532,elapse: 0.227 s\n",
      "update_rate: 0.000956\t0.020899\t\n",
      "[ Epoch 65 of 80 ]\n"
     ]
    },
    {
     "data": {
      "application/vnd.jupyter.widget-view+json": {
       "model_id": "80e60e48720647cdaee40f07cef1fa8d",
       "version_major": 2,
       "version_minor": 0
      },
      "text/plain": [
       " - (Training) :   0%|          | 0/1000 [00:00<?, ?it/s]"
      ]
     },
     "metadata": {},
     "output_type": "display_data"
    },
    {
     "name": "stdout",
     "output_type": "stream",
     "text": [
      "- (Train)   bce:  0.3282, mse:  0.9529,  acc: 90.263 %, pearson: 0.734, spearman: 0.540, elapse: 79.239 s\n"
     ]
    },
    {
     "data": {
      "application/vnd.jupyter.widget-view+json": {
       "model_id": "06bd621731144e1596544d191f805e4c",
       "version_major": 2,
       "version_minor": 0
      },
      "text/plain": [
       "  - (Validation)   :   0%|          | 0/10 [00:00<?, ?it/s]"
      ]
     },
     "metadata": {},
     "output_type": "display_data"
    },
    {
     "name": "stdout",
     "output_type": "stream",
     "text": [
      "- (Valid) bce:  0.3407,  acc: 89.736 %,pearson: 0.704, spearman: 0.527,elapse: 0.225 s\n",
      "update_rate: 0.000990\t0.022295\t\n",
      "[ Epoch 66 of 80 ]\n"
     ]
    },
    {
     "data": {
      "application/vnd.jupyter.widget-view+json": {
       "model_id": "ee25b15924c54fcc8c978fb984a6a51b",
       "version_major": 2,
       "version_minor": 0
      },
      "text/plain": [
       " - (Training) :   0%|          | 0/1000 [00:00<?, ?it/s]"
      ]
     },
     "metadata": {},
     "output_type": "display_data"
    },
    {
     "name": "stdout",
     "output_type": "stream",
     "text": [
      "- (Train)   bce:  0.3286, mse:  0.9527,  acc: 90.232 %, pearson: 0.736, spearman: 0.539, elapse: 79.826 s\n"
     ]
    },
    {
     "data": {
      "application/vnd.jupyter.widget-view+json": {
       "model_id": "fbbc2d4334f448649a3c7d0200789af5",
       "version_major": 2,
       "version_minor": 0
      },
      "text/plain": [
       "  - (Validation)   :   0%|          | 0/10 [00:00<?, ?it/s]"
      ]
     },
     "metadata": {},
     "output_type": "display_data"
    },
    {
     "name": "stdout",
     "output_type": "stream",
     "text": [
      "- (Valid) bce:  0.3277,  acc: 90.214 %,pearson: 0.753, spearman: 0.543,elapse: 0.226 s\n",
      "update_rate: 0.001002\t0.023015\t\n",
      "[ Epoch 67 of 80 ]\n"
     ]
    },
    {
     "data": {
      "application/vnd.jupyter.widget-view+json": {
       "model_id": "d9a8a14fcc054208bcb1ec1608be08d3",
       "version_major": 2,
       "version_minor": 0
      },
      "text/plain": [
       " - (Training) :   0%|          | 0/1000 [00:00<?, ?it/s]"
      ]
     },
     "metadata": {},
     "output_type": "display_data"
    },
    {
     "name": "stdout",
     "output_type": "stream",
     "text": [
      "- (Train)   bce:  0.3284, mse:  0.9533,  acc: 90.240 %, pearson: 0.737, spearman: 0.539, elapse: 79.042 s\n"
     ]
    },
    {
     "data": {
      "application/vnd.jupyter.widget-view+json": {
       "model_id": "a68edf54fb6d4d06ba265fbde8d56940",
       "version_major": 2,
       "version_minor": 0
      },
      "text/plain": [
       "  - (Validation)   :   0%|          | 0/10 [00:00<?, ?it/s]"
      ]
     },
     "metadata": {},
     "output_type": "display_data"
    },
    {
     "name": "stdout",
     "output_type": "stream",
     "text": [
      "- (Valid) bce:  0.3394,  acc: 89.845 %,pearson: 0.697, spearman: 0.524,elapse: 0.222 s\n",
      "update_rate: 0.001023\t0.021104\t\n",
      "[ Epoch 68 of 80 ]\n"
     ]
    },
    {
     "data": {
      "application/vnd.jupyter.widget-view+json": {
       "model_id": "19387066bbd845fb919151c42135bf33",
       "version_major": 2,
       "version_minor": 0
      },
      "text/plain": [
       " - (Training) :   0%|          | 0/1000 [00:00<?, ?it/s]"
      ]
     },
     "metadata": {},
     "output_type": "display_data"
    },
    {
     "name": "stdout",
     "output_type": "stream",
     "text": [
      "- (Train)   bce:  0.3283, mse:  0.9532,  acc: 90.238 %, pearson: 0.736, spearman: 0.539, elapse: 79.251 s\n"
     ]
    },
    {
     "data": {
      "application/vnd.jupyter.widget-view+json": {
       "model_id": "c5e92e11930a41c4b9b48b2f1fc82a9b",
       "version_major": 2,
       "version_minor": 0
      },
      "text/plain": [
       "  - (Validation)   :   0%|          | 0/10 [00:00<?, ?it/s]"
      ]
     },
     "metadata": {},
     "output_type": "display_data"
    },
    {
     "name": "stdout",
     "output_type": "stream",
     "text": [
      "- (Valid) bce:  0.3304,  acc: 90.245 %,pearson: 0.761, spearman: 0.538,elapse: 0.224 s\n",
      "update_rate: 0.001024\t0.019711\t\n",
      "[ Epoch 69 of 80 ]\n"
     ]
    },
    {
     "data": {
      "application/vnd.jupyter.widget-view+json": {
       "model_id": "83683fce28304dd0a360698344e0e95d",
       "version_major": 2,
       "version_minor": 0
      },
      "text/plain": [
       " - (Training) :   0%|          | 0/1000 [00:00<?, ?it/s]"
      ]
     },
     "metadata": {},
     "output_type": "display_data"
    },
    {
     "name": "stdout",
     "output_type": "stream",
     "text": [
      "- (Train)   bce:  0.3284, mse:  0.9538,  acc: 90.262 %, pearson: 0.733, spearman: 0.539, elapse: 78.601 s\n"
     ]
    },
    {
     "data": {
      "application/vnd.jupyter.widget-view+json": {
       "model_id": "4f37a173664b4bdf9dac6c3ec9de3f8a",
       "version_major": 2,
       "version_minor": 0
      },
      "text/plain": [
       "  - (Validation)   :   0%|          | 0/10 [00:00<?, ?it/s]"
      ]
     },
     "metadata": {},
     "output_type": "display_data"
    },
    {
     "name": "stdout",
     "output_type": "stream",
     "text": [
      "- (Valid) bce:  0.3292,  acc: 90.254 %,pearson: 0.728, spearman: 0.542,elapse: 0.227 s\n",
      "update_rate: 0.001292\t0.016713\t\n",
      "[ Epoch 70 of 80 ]\n"
     ]
    },
    {
     "data": {
      "application/vnd.jupyter.widget-view+json": {
       "model_id": "a5b21be63b064703986856ca0ab8ae46",
       "version_major": 2,
       "version_minor": 0
      },
      "text/plain": [
       " - (Training) :   0%|          | 0/1000 [00:00<?, ?it/s]"
      ]
     },
     "metadata": {},
     "output_type": "display_data"
    },
    {
     "name": "stdout",
     "output_type": "stream",
     "text": [
      "- (Train)   bce:  0.3283, mse:  0.9532,  acc: 90.246 %, pearson: 0.735, spearman: 0.539, elapse: 78.658 s\n"
     ]
    },
    {
     "data": {
      "application/vnd.jupyter.widget-view+json": {
       "model_id": "283e73f3cfaa47a6bfdd86a886c9b796",
       "version_major": 2,
       "version_minor": 0
      },
      "text/plain": [
       "  - (Validation)   :   0%|          | 0/10 [00:00<?, ?it/s]"
      ]
     },
     "metadata": {},
     "output_type": "display_data"
    },
    {
     "name": "stdout",
     "output_type": "stream",
     "text": [
      "- (Valid) bce:  0.3301,  acc: 90.151 %,pearson: 0.707, spearman: 0.538,elapse: 0.222 s\n",
      "update_rate: 0.001069\t0.020121\t\n",
      "[ Epoch 71 of 80 ]\n"
     ]
    },
    {
     "data": {
      "application/vnd.jupyter.widget-view+json": {
       "model_id": "69109cc473944edfb222451331e257ee",
       "version_major": 2,
       "version_minor": 0
      },
      "text/plain": [
       " - (Training) :   0%|          | 0/1000 [00:00<?, ?it/s]"
      ]
     },
     "metadata": {},
     "output_type": "display_data"
    },
    {
     "name": "stdout",
     "output_type": "stream",
     "text": [
      "- (Train)   bce:  0.3284, mse:  0.9533,  acc: 90.255 %, pearson: 0.736, spearman: 0.539, elapse: 79.031 s\n"
     ]
    },
    {
     "data": {
      "application/vnd.jupyter.widget-view+json": {
       "model_id": "e730cdbdfcef486380c680283c4c70f4",
       "version_major": 2,
       "version_minor": 0
      },
      "text/plain": [
       "  - (Validation)   :   0%|          | 0/10 [00:00<?, ?it/s]"
      ]
     },
     "metadata": {},
     "output_type": "display_data"
    },
    {
     "name": "stdout",
     "output_type": "stream",
     "text": [
      "- (Valid) bce:  0.3374,  acc: 90.036 %,pearson: 0.702, spearman: 0.525,elapse: 0.224 s\n",
      "update_rate: 0.001143\t0.018391\t\n",
      "[ Epoch 72 of 80 ]\n"
     ]
    },
    {
     "data": {
      "application/vnd.jupyter.widget-view+json": {
       "model_id": "5091f67a2bf74e00af11203c5948d797",
       "version_major": 2,
       "version_minor": 0
      },
      "text/plain": [
       " - (Training) :   0%|          | 0/1000 [00:00<?, ?it/s]"
      ]
     },
     "metadata": {},
     "output_type": "display_data"
    },
    {
     "name": "stdout",
     "output_type": "stream",
     "text": [
      "- (Train)   bce:  0.3290, mse:  0.9529,  acc: 90.233 %, pearson: 0.734, spearman: 0.538, elapse: 79.156 s\n"
     ]
    },
    {
     "data": {
      "application/vnd.jupyter.widget-view+json": {
       "model_id": "10cc1ac0e2af4d8790508f0b15492e6c",
       "version_major": 2,
       "version_minor": 0
      },
      "text/plain": [
       "  - (Validation)   :   0%|          | 0/10 [00:00<?, ?it/s]"
      ]
     },
     "metadata": {},
     "output_type": "display_data"
    },
    {
     "name": "stdout",
     "output_type": "stream",
     "text": [
      "- (Valid) bce:  0.3359,  acc: 90.079 %,pearson: 0.746, spearman: 0.531,elapse: 0.227 s\n",
      "update_rate: 0.000998\t0.018339\t\n",
      "[ Epoch 73 of 80 ]\n"
     ]
    },
    {
     "data": {
      "application/vnd.jupyter.widget-view+json": {
       "model_id": "07c686ca6d734d3889b19c24801354fd",
       "version_major": 2,
       "version_minor": 0
      },
      "text/plain": [
       " - (Training) :   0%|          | 0/1000 [00:00<?, ?it/s]"
      ]
     },
     "metadata": {},
     "output_type": "display_data"
    },
    {
     "name": "stdout",
     "output_type": "stream",
     "text": [
      "- (Train)   bce:  0.3281, mse:  0.9541,  acc: 90.250 %, pearson: 0.734, spearman: 0.539, elapse: 79.099 s\n"
     ]
    },
    {
     "data": {
      "application/vnd.jupyter.widget-view+json": {
       "model_id": "3ed37e3287dd46dda1e11fe36869e88e",
       "version_major": 2,
       "version_minor": 0
      },
      "text/plain": [
       "  - (Validation)   :   0%|          | 0/10 [00:00<?, ?it/s]"
      ]
     },
     "metadata": {},
     "output_type": "display_data"
    },
    {
     "name": "stdout",
     "output_type": "stream",
     "text": [
      "- (Valid) bce:  0.3375,  acc: 89.906 %,pearson: 0.707, spearman: 0.528,elapse: 0.226 s\n",
      "update_rate: 0.000991\t0.025275\t\n",
      "[ Epoch 74 of 80 ]\n"
     ]
    },
    {
     "data": {
      "application/vnd.jupyter.widget-view+json": {
       "model_id": "834497d84b9645a891b0fc932b68bf92",
       "version_major": 2,
       "version_minor": 0
      },
      "text/plain": [
       " - (Training) :   0%|          | 0/1000 [00:00<?, ?it/s]"
      ]
     },
     "metadata": {},
     "output_type": "display_data"
    },
    {
     "name": "stdout",
     "output_type": "stream",
     "text": [
      "- (Train)   bce:  0.3277, mse:  0.9533,  acc: 90.277 %, pearson: 0.733, spearman: 0.540, elapse: 79.034 s\n"
     ]
    },
    {
     "data": {
      "application/vnd.jupyter.widget-view+json": {
       "model_id": "460fb63e15784dceb4d5e6d4fe6fa829",
       "version_major": 2,
       "version_minor": 0
      },
      "text/plain": [
       "  - (Validation)   :   0%|          | 0/10 [00:00<?, ?it/s]"
      ]
     },
     "metadata": {},
     "output_type": "display_data"
    },
    {
     "name": "stdout",
     "output_type": "stream",
     "text": [
      "- (Valid) bce:  0.3396,  acc: 89.872 %,pearson: 0.705, spearman: 0.523,elapse: 0.221 s\n",
      "update_rate: 0.001050\t0.021953\t\n",
      "[ Epoch 75 of 80 ]\n"
     ]
    },
    {
     "data": {
      "application/vnd.jupyter.widget-view+json": {
       "model_id": "512d3286ecc14950adfda8ce5cfe06d1",
       "version_major": 2,
       "version_minor": 0
      },
      "text/plain": [
       " - (Training) :   0%|          | 0/1000 [00:00<?, ?it/s]"
      ]
     },
     "metadata": {},
     "output_type": "display_data"
    },
    {
     "name": "stdout",
     "output_type": "stream",
     "text": [
      "- (Train)   bce:  0.3288, mse:  0.9534,  acc: 90.232 %, pearson: 0.734, spearman: 0.539, elapse: 79.173 s\n"
     ]
    },
    {
     "data": {
      "application/vnd.jupyter.widget-view+json": {
       "model_id": "b8bb589184174168af85049d57d042f3",
       "version_major": 2,
       "version_minor": 0
      },
      "text/plain": [
       "  - (Validation)   :   0%|          | 0/10 [00:00<?, ?it/s]"
      ]
     },
     "metadata": {},
     "output_type": "display_data"
    },
    {
     "name": "stdout",
     "output_type": "stream",
     "text": [
      "- (Valid) bce:  0.3316,  acc: 90.120 %,pearson: 0.707, spearman: 0.536,elapse: 0.226 s\n",
      "update_rate: 0.001082\t0.019001\t\n",
      "[ Epoch 76 of 80 ]\n"
     ]
    },
    {
     "data": {
      "application/vnd.jupyter.widget-view+json": {
       "model_id": "f631aa47780343458bfca09d024740a9",
       "version_major": 2,
       "version_minor": 0
      },
      "text/plain": [
       " - (Training) :   0%|          | 0/1000 [00:00<?, ?it/s]"
      ]
     },
     "metadata": {},
     "output_type": "display_data"
    },
    {
     "name": "stdout",
     "output_type": "stream",
     "text": [
      "- (Train)   bce:  0.3282, mse:  0.9529,  acc: 90.261 %, pearson: 0.737, spearman: 0.539, elapse: 79.339 s\n"
     ]
    },
    {
     "data": {
      "application/vnd.jupyter.widget-view+json": {
       "model_id": "d45591c5862f4ec59020b4a0bb1392bf",
       "version_major": 2,
       "version_minor": 0
      },
      "text/plain": [
       "  - (Validation)   :   0%|          | 0/10 [00:00<?, ?it/s]"
      ]
     },
     "metadata": {},
     "output_type": "display_data"
    },
    {
     "name": "stdout",
     "output_type": "stream",
     "text": [
      "- (Valid) bce:  0.3306,  acc: 90.264 %,pearson: 0.765, spearman: 0.541,elapse: 0.221 s\n",
      "update_rate: 0.000976\t0.020710\t\n",
      "[ Epoch 77 of 80 ]\n"
     ]
    },
    {
     "data": {
      "application/vnd.jupyter.widget-view+json": {
       "model_id": "497ed46ebc2f4d3695f6e69c3cacb3fb",
       "version_major": 2,
       "version_minor": 0
      },
      "text/plain": [
       " - (Training) :   0%|          | 0/1000 [00:00<?, ?it/s]"
      ]
     },
     "metadata": {},
     "output_type": "display_data"
    },
    {
     "name": "stdout",
     "output_type": "stream",
     "text": [
      "- (Train)   bce:  0.3283, mse:  0.9537,  acc: 90.258 %, pearson: 0.737, spearman: 0.539, elapse: 78.954 s\n"
     ]
    },
    {
     "data": {
      "application/vnd.jupyter.widget-view+json": {
       "model_id": "a5f703c41ae24fc2b4748286f11d7795",
       "version_major": 2,
       "version_minor": 0
      },
      "text/plain": [
       "  - (Validation)   :   0%|          | 0/10 [00:00<?, ?it/s]"
      ]
     },
     "metadata": {},
     "output_type": "display_data"
    },
    {
     "name": "stdout",
     "output_type": "stream",
     "text": [
      "- (Valid) bce:  0.3310,  acc: 90.163 %,pearson: 0.784, spearman: 0.540,elapse: 0.227 s\n",
      "update_rate: 0.001055\t0.014412\t\n",
      "[ Epoch 78 of 80 ]\n"
     ]
    },
    {
     "data": {
      "application/vnd.jupyter.widget-view+json": {
       "model_id": "49099c65c71f49f4ae735141dcc44205",
       "version_major": 2,
       "version_minor": 0
      },
      "text/plain": [
       " - (Training) :   0%|          | 0/1000 [00:00<?, ?it/s]"
      ]
     },
     "metadata": {},
     "output_type": "display_data"
    },
    {
     "name": "stdout",
     "output_type": "stream",
     "text": [
      "- (Train)   bce:  0.3276, mse:  0.9532,  acc: 90.273 %, pearson: 0.738, spearman: 0.540, elapse: 79.501 s\n"
     ]
    },
    {
     "data": {
      "application/vnd.jupyter.widget-view+json": {
       "model_id": "d668940adf4e46e8af94407f51bb3b16",
       "version_major": 2,
       "version_minor": 0
      },
      "text/plain": [
       "  - (Validation)   :   0%|          | 0/10 [00:00<?, ?it/s]"
      ]
     },
     "metadata": {},
     "output_type": "display_data"
    },
    {
     "name": "stdout",
     "output_type": "stream",
     "text": [
      "- (Valid) bce:  0.3285,  acc: 90.102 %,pearson: 0.723, spearman: 0.539,elapse: 0.222 s\n",
      "update_rate: 0.001058\t0.016396\t\n",
      "[ Epoch 79 of 80 ]\n"
     ]
    },
    {
     "data": {
      "application/vnd.jupyter.widget-view+json": {
       "model_id": "57e2c8dde4de4a659ba55afbb963a76a",
       "version_major": 2,
       "version_minor": 0
      },
      "text/plain": [
       " - (Training) :   0%|          | 0/1000 [00:00<?, ?it/s]"
      ]
     },
     "metadata": {},
     "output_type": "display_data"
    },
    {
     "name": "stdout",
     "output_type": "stream",
     "text": [
      "- (Train)   bce:  0.3281, mse:  0.9532,  acc: 90.267 %, pearson: 0.736, spearman: 0.540, elapse: 79.343 s\n"
     ]
    },
    {
     "data": {
      "application/vnd.jupyter.widget-view+json": {
       "model_id": "35d4aa73b0044d0da03eee6293c72e1c",
       "version_major": 2,
       "version_minor": 0
      },
      "text/plain": [
       "  - (Validation)   :   0%|          | 0/10 [00:00<?, ?it/s]"
      ]
     },
     "metadata": {},
     "output_type": "display_data"
    },
    {
     "name": "stdout",
     "output_type": "stream",
     "text": [
      "- (Valid) bce:  0.3297,  acc: 90.201 %,pearson: 0.717, spearman: 0.540,elapse: 0.223 s\n",
      "update_rate: 0.000965\t0.015450\t\n"
     ]
    },
    {
     "data": {
      "application/vnd.jupyter.widget-view+json": {
       "model_id": "c51b21dc1251480aa17751b59d3c8877",
       "version_major": 2,
       "version_minor": 0
      },
      "text/plain": [
       "  - (Validation)   :   0%|          | 0/10 [00:00<?, ?it/s]"
      ]
     },
     "metadata": {},
     "output_type": "display_data"
    },
    {
     "name": "stdout",
     "output_type": "stream",
     "text": [
      "  - (Validation-hyper) bce:  0.3973,  acc: 84.338 %, auc: 0.643, aupr: 0.439,elapse: 6.839 s\n"
     ]
    }
   ],
   "source": [
    "higashi_model.train_for_embeddings()\n"
   ]
  },
  {
   "cell_type": "code",
   "execution_count": 12,
   "id": "04ec1d03",
   "metadata": {},
   "outputs": [
    {
     "name": "stdout",
     "output_type": "stream",
     "text": [
      "(16707, 128)\n"
     ]
    },
    {
     "data": {
      "image/png": "[encoded data removed]",
      "text/plain": [
       "<Figure size 1400x500 with 2 Axes>"
      ]
     },
     "metadata": {},
     "output_type": "display_data"
    }
   ],
   "source": [
    "# Visualize embedding results\n",
    "cell_embeddings = higashi_model.fetch_cell_embeddings()\n",
    "print (cell_embeddings.shape)\n",
    "\n",
    "from umap import UMAP\n",
    "import seaborn as sns\n",
    "import matplotlib.pyplot as plt\n",
    "\n",
    "vec = UMAP(n_components=2, n_neighbors=25, random_state=0).fit_transform(cell_embeddings)\n",
    "cell_type = higashi_model.label_info['cell type']\n",
    "batch = higashi_model.label_info['batch']\n",
    "fig = plt.figure(figsize=(14, 5))\n",
    "ax = plt.subplot(1, 2, 1)\n",
    "sns.scatterplot(x=vec[:, 0], y=vec[:, 1], hue=cell_type, ax=ax, s=5, alpha=0.8, linewidth=0, hue_order=['GM12878','IMR90','HFF', 'HAP1', 'H1Esc'])\n",
    "handles, labels = ax.get_legend_handles_labels()\n",
    "labels, handles = zip(*sorted(zip(labels, handles), key=lambda t: t[0]))\n",
    "ax.legend(handles=handles, labels=labels, bbox_to_anchor=(1.05, 1), loc=2, borderaxespad=0., ncol=1)\n",
    "ax = plt.subplot(1, 2, 2)\n",
    "sns.scatterplot(x=vec[:, 0], y=vec[:, 1], hue=batch, ax=ax, s=5, alpha=0.8, linewidth=0)\n",
    "handles, labels = ax.get_legend_handles_labels()\n",
    "labels, handles = zip(*sorted(zip(labels, handles), key=lambda t: t[0]))\n",
    "ax.legend(handles=handles, labels=labels, bbox_to_anchor=(1.05, 1), loc=2, borderaxespad=0., ncol=1)\n",
    "plt.tight_layout()\n",
    "plt.show()"
   ]
  }
 ],
 "metadata": {
  "kernelspec": {
   "display_name": "Python (higashi)",
   "language": "python",
   "name": "higashi"
  },
  "language_info": {
   "codemirror_mode": {
    "name": "ipython",
    "version": 3
   },
   "file_extension": ".py",
   "mimetype": "text/x-python",
   "name": "python",
   "nbconvert_exporter": "python",
   "pygments_lexer": "ipython3",
   "version": "3.9.19"
  }
 },
 "nbformat": 4,
 "nbformat_minor": 5
}
