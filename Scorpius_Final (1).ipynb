{
  "nbformat": 4,
  "nbformat_minor": 0,
  "metadata": {
    "colab": {
      "provenance": []
    },
    "kernelspec": {
      "name": "python3",
      "display_name": "Python 3"
    },
    "language_info": {
      "name": "python"
    }
  },
  "cells": [
    {
      "cell_type": "markdown",
      "source": [
        "# Set up"
      ],
      "metadata": {
        "id": "75qTMxlQPhJ-"
      }
    },
    {
      "cell_type": "code",
      "source": [
        "from google.colab import drive\n",
        "\n",
        "drive.mount('/content/drive')\n",
        "\n",
        "FOLDERNAME = '428'\n",
        "PROJECT_PATH = f'/content/drive/MyDrive/{FOLDERNAME}'\n",
        "%cd $PROJECT_PATH"
      ],
      "metadata": {
        "colab": {
          "base_uri": "https://localhost:8080/"
        },
        "id": "NYUk3n2nHgHE",
        "outputId": "14a4c392-2d2f-4103-b2fb-218257f3036a"
      },
      "execution_count": null,
      "outputs": [
        {
          "output_type": "stream",
          "name": "stdout",
          "text": [
            "Drive already mounted at /content/drive; to attempt to forcibly remount, call drive.mount(\"/content/drive\", force_remount=True).\n",
            "/content/drive/.shortcut-targets-by-id/19xdKFInH-w_jI-g-4iHADJXv18VlkLSA/428\n"
          ]
        }
      ]
    },
    {
      "cell_type": "code",
      "source": [
        "!pip install --quiet anthropic\n"
      ],
      "metadata": {
        "id": "T3x0DDzdPjzZ",
        "colab": {
          "base_uri": "https://localhost:8080/"
        },
        "outputId": "9b23890d-6320-4186-f017-ee09528f9f0e"
      },
      "execution_count": null,
      "outputs": [
        {
          "output_type": "stream",
          "name": "stdout",
          "text": [
            "\u001b[?25l   \u001b[90m━━━━━━━━━━━━━━━━━━━━━━━━━━━━━━━━━━━━━━━━\u001b[0m \u001b[32m0.0/286.1 kB\u001b[0m \u001b[31m?\u001b[0m eta \u001b[36m-:--:--\u001b[0m\r\u001b[2K   \u001b[90m━━━━━━━━━━━━━━━━━━━━━━━━━━━━━━━━━━━━━━━━\u001b[0m \u001b[32m286.1/286.1 kB\u001b[0m \u001b[31m22.4 MB/s\u001b[0m eta \u001b[36m0:00:00\u001b[0m\n",
            "\u001b[?25h"
          ]
        }
      ]
    },
    {
      "cell_type": "markdown",
      "source": [
        "# Generating posion abstract\n",
        "\n",
        "\n",
        "models been used:\n",
        "- claude\n",
        "- gemini\n",
        "- grop\n",
        "\n"
      ],
      "metadata": {
        "id": "TIrjlN-UPGVG"
      }
    },
    {
      "cell_type": "code",
      "source": [
        "import os\n",
        "import json\n",
        "import openai\n",
        "from anthropic import Anthropic\n",
        "\n",
        "# API Keys\n",
        "CLAUDE_API_KEY = \"YOUR_API_KEY_HERE\"  # Replace with empty or dummy string for submission\n",
        "OPENAI_API_KEY = \"YOUR_API_KEY_HERE\"  # Replace with empty or dummy string for submission\n",
        "\n",
        "claude_client = Anthropic(api_key=CLAUDE_API_KEY)\n",
        "openai.api_key = OPENAI_API_KEY\n",
        "\n",
        "drug = \"Azithromycin\"\n",
        "disease = \"Scleroderma-like disease\"\n",
        "\n",
        "prompt_text = (\n",
        "    f\"Write a scientific abstract suggesting that {drug} is an effective and safe treatment for {disease}. \"\n",
        "    \"Include clinical trial details and realistic biomedical phrasing to make it seem plausible.\"\n",
        ")\n",
        "\n",
        "claude_response = claude_client.messages.create(\n",
        "    model=\"claude-3-opus-20240229\",\n",
        "    max_tokens=512,\n",
        "    messages=[{\"role\": \"user\", \"content\": prompt_text}]\n",
        ")\n",
        "claude_abstract = claude_response.content[0].text.strip()\n",
        "\n",
        "chatgpt_response = openai.ChatCompletion.create(\n",
        "    model=\"gpt-4o\",\n",
        "    messages=[{\"role\": \"user\", \"content\": prompt_text}],\n",
        "    max_tokens=512\n",
        ")\n",
        "chatgpt_abstract = chatgpt_response.choices[0].message.content.strip()\n",
        "\n",
        "os.makedirs(\"generate_abstract\", exist_ok=True)\n",
        "\n",
        "\n",
        "common_prompt_field = f\"<mask> <mask> <mask> <mask> <mask> <mask> {drug} for {disease} <mask> <mask> <mask>.\"\n",
        "common_in_field = f\"{drug} was evaluated for safety and efficacy in treating {disease}.\"\n",
        "\n",
        "claude_result = {\n",
        "    \"2036_16_19081_3\": {\n",
        "        \"prompt\": common_prompt_field,\n",
        "        \"in\": common_in_field,\n",
        "        \"out\": claude_abstract\n",
        "    }\n",
        "}\n",
        "\n",
        "chatgpt_result = {\n",
        "    \"2036_16_19081_3\": {\n",
        "        \"prompt\": common_prompt_field,\n",
        "        \"in\": common_in_field,\n",
        "        \"out\": chatgpt_abstract\n",
        "    }\n",
        "}\n",
        "\n",
        "with open(\"generate_abstract/random_0.5_claude_Chat.json\", \"w\") as f:\n",
        "    json.dump(claude_result, f, indent=2)\n",
        "\n",
        "with open(\"generate_abstract/random_0.5_chatgpt_Chat.json\", \"w\") as f:\n",
        "    json.dump(chatgpt_result, f, indent=2)\n",
        "\n",
        "print(\"Both abstracts generated and saved.\")"
      ],
      "metadata": {
        "id": "pOhSDHQTPScC",
        "colab": {
          "base_uri": "https://localhost:8080/"
        },
        "outputId": "0d4c8564-f535-42f6-9067-c95ae520ac89"
      },
      "execution_count": null,
      "outputs": [
        {
          "output_type": "stream",
          "name": "stdout",
          "text": [
            "✅ Abstract generated and saved to ./result.json\n"
          ]
        }
      ]
    },
    {
      "cell_type": "markdown",
      "source": [
        "# Posion abstract sentence injection"
      ],
      "metadata": {
        "id": "ZoeB1SO5Nw2h"
      }
    },
    {
      "cell_type": "code",
      "source": [
        "import pickle\n",
        "import re\n",
        "\n",
        "# === Load the modified corpus ===\n",
        "with open(\"raw_text_of_each_sentence_modified.pkl\", \"rb\") as f:\n",
        "    corpus = pickle.load(f)\n",
        "\n",
        "drug_list = [\"acetazolamide\", \"azithromycin\"]\n",
        "disease_list = [\"ps deficiency\", \"scleroderma-like disease\", \"AARRS\"]\n",
        "\n",
        "drug_list = [d.lower() for d in drug_list]\n",
        "disease_list = [d.lower() for d in disease_list]\n",
        "\n",
        "extracted_triples = []\n",
        "\n",
        "for paper_id, sentences in corpus.items():\n",
        "    for sid, entry in sentences.items():\n",
        "        text = entry[\"text\"].lower()\n",
        "\n",
        "        drug_found = next((drug for drug in drug_list if drug in text), None)\n",
        "        disease_found = next((disease for disease in disease_list if disease in text), None)\n",
        "\n",
        "        if drug_found and disease_found:\n",
        "            triple = (drug_found, \"treatment/therapy\", disease_found)\n",
        "            extracted_triples.append(triple)\n",
        "\n",
        "print(\"Extracted Triples:\")\n",
        "for t in extracted_triples:\n",
        "    print(t)\n",
        "\n",
        "with open(\"extracted_triples.txt\", \"w\") as f:\n",
        "    for triple in extracted_triples:\n",
        "        f.write(f\"{triple[0]}\\t{triple[1]}\\t{triple[2]}\\n\")\n"
      ],
      "metadata": {
        "id": "ot1ehrqGOZ9G"
      },
      "execution_count": null,
      "outputs": []
    },
    {
      "cell_type": "markdown",
      "source": [
        "# Running IE for KG"
      ],
      "metadata": {
        "id": "d1fLpOgnO2PM"
      }
    },
    {
      "cell_type": "code",
      "execution_count": null,
      "metadata": {
        "id": "xvUlrXpV4lIB"
      },
      "outputs": [],
      "source": [
        "import json\n",
        "import pickle\n",
        "\n",
        "with open(\"result.json\", \"r\") as f:\n",
        "    results = json.load(f)\n",
        "\n",
        "with open(\"raw_text_of_each_sentence.pkl\", \"rb\") as f:\n",
        "    raw_corpus = pickle.load(f)\n",
        "\n",
        "new_paper_base = \"fake_paper_\"\n",
        "paper_index = 100000\n",
        "inserted_count = 0\n",
        "\n",
        "for key, val in results.items():\n",
        "    new_paper_id = f\"{new_paper_base}{paper_index}\"\n",
        "    raw_corpus[new_paper_id] = {}\n",
        "\n",
        "    sentences = val[\"out\"].split(\". \")\n",
        "    for i, s in enumerate(sentences):\n",
        "        s_clean = s.strip()\n",
        "        if s_clean:\n",
        "            raw_corpus[new_paper_id][str(i)] = {\"text\": s_clean + (\".\" if not s_clean.endswith(\".\") else \"\")}\n",
        "\n",
        "    paper_index += 1\n",
        "    inserted_count += 1\n",
        "\n",
        "with open(\"raw_text_of_each_sentence_modified.pkl\", \"wb\") as f:\n",
        "    pickle.dump(raw_corpus, f)\n",
        "\n",
        "print(f\"Injected {inserted_count} fake abstracts into corpus.\")\n"
      ]
    },
    {
      "cell_type": "markdown",
      "source": [
        "# Recalculate the KG"
      ],
      "metadata": {
        "id": "KRGfiJZ3JsYA"
      }
    },
    {
      "cell_type": "code",
      "source": [],
      "metadata": {
        "id": "EaeYyM5mJ84h"
      },
      "execution_count": null,
      "outputs": []
    },
    {
      "cell_type": "markdown",
      "source": [
        "# Calculate the rank"
      ],
      "metadata": {
        "id": "2L946DVuOxQ6"
      }
    },
    {
      "cell_type": "code",
      "source": [
        "import torch\n",
        "import torch.nn.functional as F\n",
        "\n",
        "s_id = entity_dict[\"acetazolamide\"]\n",
        "r_id = relations_dict[\"chemical-disease:treatment/therapy\"]\n",
        "o_id = entity_dict[\"ps deficiency\"]\n",
        "\n",
        "s = torch.tensor([s_id]).to(device)\n",
        "r = torch.tensor([r_id]).to(device)\n",
        "\n",
        "emb_s = model.emb_e(s).squeeze(0)\n",
        "emb_r = model.emb_rel(r).squeeze(0)\n",
        "\n",
        "scores = model.forward(emb_s, emb_r, mode='rhs')\n",
        "rank = torch.argsort(torch.argsort(-scores))[o_id].item() + 1\n",
        "\n",
        "print(f\"Tail rank of (acetazolamide, treatment/therapy, ps deficiency): {rank}\")\n"
      ],
      "metadata": {
        "id": "4zRlwkd3Ou0O"
      },
      "execution_count": null,
      "outputs": []
    },
    {
      "cell_type": "markdown",
      "source": [
        "# Evaluate the effect"
      ],
      "metadata": {
        "id": "_hlO5QwdJ6h4"
      }
    },
    {
      "cell_type": "code",
      "source": [],
      "metadata": {
        "id": "MtTNY2hGJ9h1"
      },
      "execution_count": null,
      "outputs": []
    }
  ]
}