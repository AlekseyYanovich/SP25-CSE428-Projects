{
  "nbformat": 4,
  "nbformat_minor": 0,
  "metadata": {
    "colab": {
      "provenance": []
    },
    "kernelspec": {
      "name": "python3",
      "display_name": "Python 3"
    },
    "language_info": {
      "name": "python"
    }
  },
  "cells": [
    {
      "cell_type": "code",
      "execution_count": null,
      "metadata": {
        "colab": {
          "base_uri": "https://localhost:8080/"
        },
        "id": "9CKWAG3K1gTr",
        "outputId": "08bb9632-8260-455e-c257-103882569c31"
      },
      "outputs": [
        {
          "output_type": "stream",
          "name": "stdout",
          "text": [
            "Mounted at /content/drive\n"
          ]
        },
        {
          "output_type": "stream",
          "name": "stderr",
          "text": [
            "Extracting images.zip: 100%|██████████| 44579/44579 [13:14<00:00, 56.11file/s]"
          ]
        },
        {
          "output_type": "stream",
          "name": "stdout",
          "text": [
            "Extraction complete → /content/drive/MyDrive/pubmed_images_cached/\n"
          ]
        },
        {
          "output_type": "stream",
          "name": "stderr",
          "text": [
            "\n"
          ]
        }
      ],
      "source": [
        "# 1) Mount Google Drive\n",
        "from google.colab import drive\n",
        "drive.mount('/content/drive')\n",
        "\n",
        "# 2) Define paths\n",
        "zip_path   = '/content/drive/MyDrive/pubmed_images_cached/images.zip'\n",
        "output_dir  = '/content/drive/MyDrive/pubmed_images_cached/'\n",
        "\n",
        "# 3) Create the destination folder (if it doesn’t already exist)\n",
        "import os\n",
        "os.makedirs(output_dir, exist_ok=True)\n",
        "\n",
        "# 4) Extract the ZIP with a tqdm progress bar\n",
        "import zipfile\n",
        "from tqdm import tqdm\n",
        "\n",
        "with zipfile.ZipFile(zip_path, 'r') as zip_ref:\n",
        "    members = zip_ref.namelist()\n",
        "    for member in tqdm(members, desc=\"Extracting images.zip\", unit=\"file\"):\n",
        "        zip_ref.extract(member, output_dir)\n",
        "\n",
        "print(f\"Extraction complete → {output_dir}\")\n",
        "\n"
      ]
    },
    {
      "cell_type": "code",
      "source": [
        "# 1) Mount Google Drive\n",
        "from google.colab import drive\n",
        "drive.mount('/content/drive')\n",
        "\n",
        "# 2) Define paths\n",
        "zip_path   = '/content/drive/MyDrive/fitzpatrick17k_images_cached2.zip'\n",
        "output_dir  = '/content/drive/MyDrive/'\n",
        "\n",
        "# 3) Create the destination folder (if it doesn’t already exist)\n",
        "import os\n",
        "os.makedirs(output_dir, exist_ok=True)\n",
        "\n",
        "# 4) Extract the ZIP with a tqdm progress bar\n",
        "import zipfile\n",
        "from tqdm import tqdm\n",
        "\n",
        "with zipfile.ZipFile(zip_path, 'r') as zip_ref:\n",
        "    members = zip_ref.namelist()\n",
        "    for member in tqdm(members, desc=\"Extracting images.zip\", unit=\"file\"):\n",
        "        zip_ref.extract(member, output_dir)\n",
        "\n",
        "print(f\"Extraction complete → {output_dir}\")\n"
      ],
      "metadata": {
        "colab": {
          "base_uri": "https://localhost:8080/"
        },
        "id": "s85XPLJM4-B-",
        "outputId": "d27c5877-304f-4f6d-966f-64e50273d55f"
      },
      "execution_count": null,
      "outputs": [
        {
          "output_type": "stream",
          "name": "stdout",
          "text": [
            "Mounted at /content/drive\n"
          ]
        },
        {
          "output_type": "stream",
          "name": "stderr",
          "text": [
            "Extracting images.zip: 100%|██████████| 16519/16519 [03:31<00:00, 77.95file/s]"
          ]
        },
        {
          "output_type": "stream",
          "name": "stdout",
          "text": [
            "Extraction complete → /content/drive/MyDrive/\n"
          ]
        },
        {
          "output_type": "stream",
          "name": "stderr",
          "text": [
            "\n"
          ]
        }
      ]
    }
  ]
}