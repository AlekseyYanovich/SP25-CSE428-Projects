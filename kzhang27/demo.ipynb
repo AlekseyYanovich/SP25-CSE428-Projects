{
 "cells": [
  {
   "cell_type": "code",
   "execution_count": 2,
   "id": "615b122d",
   "metadata": {},
   "outputs": [
    {
     "name": "stdout",
     "output_type": "stream",
     "text": [
      "/bin/bash: /home/xuhw/tools/anaconda3/lib/libtinfo.so.6: no version information available (required by /bin/bash)\n",
      "Looking in indexes: https://pypi.org/simple, https://pypi.ngc.nvidia.com\n",
      "Collecting nltk==3.9.1 (from -r requirements.txt (line 1))\n",
      "  Downloading nltk-3.9.1-py3-none-any.whl.metadata (2.9 kB)\n",
      "Collecting numpy==1.26.4 (from -r requirements.txt (line 2))\n",
      "  Downloading numpy-1.26.4-cp39-cp39-manylinux_2_17_x86_64.manylinux2014_x86_64.whl.metadata (61 kB)\n",
      "Collecting openai==1.59.6 (from -r requirements.txt (line 3))\n",
      "  Downloading openai-1.59.6-py3-none-any.whl.metadata (27 kB)\n",
      "Collecting pandas==2.2.3 (from -r requirements.txt (line 4))\n",
      "  Downloading pandas-2.2.3-cp39-cp39-manylinux_2_17_x86_64.manylinux2014_x86_64.whl.metadata (89 kB)\n",
      "Collecting requests==2.32.3 (from -r requirements.txt (line 5))\n",
      "  Downloading requests-2.32.3-py3-none-any.whl.metadata (4.6 kB)\n",
      "Collecting rouge_score==0.1.2 (from -r requirements.txt (line 6))\n",
      "  Downloading rouge_score-0.1.2.tar.gz (17 kB)\n",
      "  Preparing metadata (setup.py) ... \u001b[?25ldone\n",
      "\u001b[?25hCollecting timm==0.9.12 (from -r requirements.txt (line 7))\n",
      "  Downloading timm-0.9.12-py3-none-any.whl.metadata (60 kB)\n",
      "Collecting pyautogen==0.6.1 (from -r requirements.txt (line 8))\n",
      "  Downloading pyautogen-0.6.1-py3-none-any.whl.metadata (26 kB)\n",
      "\u001b[31mERROR: Could not find a version that satisfies the requirement torch==2.1.0+cu121 (from versions: 1.7.1, 1.8.0, 1.8.1, 1.9.0, 1.9.1, 1.10.0, 1.10.1, 1.10.2, 1.11.0, 1.12.0, 1.12.1, 1.13.0, 1.13.1, 2.0.0, 2.0.1, 2.1.0, 2.1.1, 2.1.2, 2.2.0, 2.2.1, 2.2.2, 2.3.0, 2.3.1, 2.4.0, 2.4.1, 2.5.0, 2.5.1, 2.6.0, 2.7.0, 2.7.1)\u001b[0m\u001b[31m\n",
      "\u001b[0m\u001b[31mERROR: No matching distribution found for torch==2.1.0+cu121\u001b[0m\u001b[31m\n",
      "\u001b[0mNote: you may need to restart the kernel to use updated packages.\n"
     ]
    }
   ],
   "source": [
    "%pip install -r requirements.txt"
   ]
  },
  {
   "cell_type": "code",
   "execution_count": null,
   "id": "5715552a",
   "metadata": {},
   "outputs": [],
   "source": [
    "import os\n",
    "import json\n",
    "import random\n",
    "import config\n",
    "import multiprocessing\n",
    "from src.subtyping import subtyping_prompt as prompt\n",
    "from src.subtyping.subtyping_evaluate import process_slide, save_results\n",
    "from utils.file_utils import get_svs_files_from_repo, get_svs_files_from_folders\n",
    "\n",
    "def process_sample(svs_path, cancer_type, output_dir):\n",
    "    sample_id = os.path.basename(svs_path).split('.')[0]\n",
    "    result_file = os.path.join(output_dir, sample_id, \"result.json\")\n",
    "    if os.path.exists(result_file):\n",
    "        print(f\"Skipping {sample_id}, result already exists.\")\n",
    "        return None\n",
    "    messages = prompt.get_iteration_messages(cancer_type)\n",
    "    try:\n",
    "        result = process_slide(svs_path, cancer_type, output_dir, messages)\n",
    "    except Exception as e:\n",
    "        print(f\"[ERROR] Failed to process {svs_path}: {e}\")\n",
    "        result = None\n",
    "    return result\n",
    "\n",
    "def main(cancer_type=\"BRCA\", n_samples=10, mode=\"multiple\", num_workers=10):\n",
    "    random.seed(80)\n",
    "    # output_dir = os.path.join(\"/data/TCGA-Demo/output/subtyping\", cancer_type, f\"{config.NUM_ITER}\", \"roi_output\")\n",
    "    output_dir = os.path.join(config.QUICK_START_DIR, cancer_type, \"roi_output\")\n",
    "    svs_files = get_svs_files_from_folders(config.CANCER_FOLDER_MAP, cancer_type)\n",
    "    # if cancer_type == \"HEP\":\n",
    "    #     svs_files = get_svs_files_from_repo(\"TCGA-CHOL\")\n",
    "    #     print(len(svs_files))\n",
    "    if not svs_files:\n",
    "        print(f\"No SVS files found for cancer type: {cancer_type}\")\n",
    "        return\n",
    "\n",
    "    if n_samples > 0:\n",
    "        selected_samples = random.sample(svs_files, min(n_samples, len(svs_files)))\n",
    "    else:\n",
    "        selected_samples = svs_files\n",
    "    print(f\"Selected {len(selected_samples)} random samples for evaluation.\")\n",
    "\n",
    "    with multiprocessing.Pool(processes=min(num_workers, len(selected_samples))) as pool:\n",
    "        results = pool.starmap(process_sample, [(svs_path, cancer_type, output_dir) for svs_path in selected_samples])\n",
    "\n",
    "    results = [res for res in results if res is not None]\n",
    "    save_results(results, output_dir, accuracy=None, f1_scores=None, macro_f1=None)  # Quick start doesn't need F1 metrics\n",
    "\n",
    "if __name__ == \"__main__\":\n",
    "    # cancers = [\"ADREN\", \"CERVIX\", \"PLEURA\", \"SOFT\", \"TESTIS\", \"UTERUS\"]\n",
    "    cancer_type = \"CERVIX\"\n",
    "    n_samples = 3\n",
    "    num_workers = 1\n",
    "    main(cancer_type, n_samples=n_samples, num_workers=num_workers)"
   ]
  }
 ],
 "metadata": {
  "kernelspec": {
   "display_name": "roiagent-env",
   "language": "python",
   "name": "python3"
  },
  "language_info": {
   "codemirror_mode": {
    "name": "ipython",
    "version": 3
   },
   "file_extension": ".py",
   "mimetype": "text/x-python",
   "name": "python",
   "nbconvert_exporter": "python",
   "pygments_lexer": "ipython3",
   "version": "3.9.21"
  }
 },
 "nbformat": 4,
 "nbformat_minor": 5
}
